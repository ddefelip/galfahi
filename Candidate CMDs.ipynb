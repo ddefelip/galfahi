{
 "cells": [
  {
   "cell_type": "code",
   "execution_count": null,
   "metadata": {
    "collapsed": true
   },
   "outputs": [],
   "source": [
    "# edited from DracoCMD.ipynb from Erik ###\n",
    "from __future__ import print_function\n",
    "from __future__ import division\n",
    "\n",
    "import numpy as np\n",
    "%matplotlib inline\n",
    "from matplotlib import pyplot as pl\n",
    "\n",
    "from astropy import table\n",
    "from astropy.coordinates import SkyCoord\n",
    "from astropy import units as u\n",
    "from astropy.io import votable\n",
    "from astropy.utils import data\n",
    "data.conf.remote_timeout = 120 # default is 3 seconds"
   ]
  },
  {
   "cell_type": "code",
   "execution_count": 364,
   "metadata": {},
   "outputs": [],
   "source": [
    "# load sourcetable, get candidates\n",
    "sourcetable = table.Table.read('LeoT_like_sources - Sources.csv')\n",
    "candidates = sourcetable[sourcetable['y/n/m'] == 'y']\n",
    "\n",
    "# get source and nearby field coordinates\n",
    "coords = SkyCoord(ra=candidates['ra [deg]'],dec=candidates['dec [deg]'],unit=u.deg,frame='icrs')\n",
    "\n",
    "lats, longs = coords.galactic.b, coords.galactic.l\n",
    "lt_longs = longs - 1*u.deg\n",
    "gt_longs = longs + 1*u.deg\n",
    "lt_coords = SkyCoord(l=lt_longs,b=lats,unit=u.deg,frame='galactic')\n",
    "gt_coords = SkyCoord(l=gt_longs,b=lats,unit=u.deg,frame='galactic')\n",
    "\n",
    "source_radecs = SkyCoord(ra=coords.icrs.ra,dec=coords.icrs.dec,unit=u.deg,frame='icrs')\n",
    "lt_radecs = SkyCoord(ra=lt_coords.icrs.ra,dec=lt_coords.icrs.dec,unit=u.deg,frame='icrs')\n",
    "gt_radecs = SkyCoord(ra=gt_coords.icrs.ra,dec=gt_coords.icrs.dec,unit=u.deg,frame='icrs')\n",
    "\n",
    "# set url/search parameters\n",
    "url_templ = 'http://gsss.stsci.edu/webservices/vo/CatalogSearch.aspx?CAT=PS1V3OBJECTS&RA={ra}&DEC={dec}&SR={rad}'\n",
    "search_radius = 5/60. # degrees"
   ]
  },
  {
   "cell_type": "code",
   "execution_count": 369,
   "metadata": {},
   "outputs": [
    {
     "name": "stdout",
     "output_type": "stream",
     "text": [
      "8 1401835.228\n",
      "Downloading http://gsss.stsci.edu/webservices/vo/CatalogSearch.aspx?CAT=PS1V3OBJECTS&RA=141.33795&DEC=14.485047&SR=0.0833333333333 [Done]\n",
      "Downloading http://gsss.stsci.edu/webservices/vo/CatalogSearch.aspx?CAT=PS1V3OBJECTS&RA=141.028125437&DEC=15.1832658563&SR=0.0833333333333 [Done]\n",
      "Downloading http://gsss.stsci.edu/webservices/vo/CatalogSearch.aspx?CAT=PS1V3OBJECTS&RA=141.653975087&DEC=13.7898526799&SR=0.0833333333333 [Done]\n",
      "9 1401835.292\n",
      "Downloading http://gsss.stsci.edu/webservices/vo/CatalogSearch.aspx?CAT=PS1V3OBJECTS&RA=143.50677&DEC=16.258355&SR=0.0833333333333 [Done]\n"
     ]
    },
    {
     "name": "stderr",
     "output_type": "stream",
     "text": [
      "WARNING: W06: http://gsss.stsci.edu/webservices/vo/CatalogSearch.aspx?CAT=PS1V3OBJECTS&RA=143.50677&DEC=16.258355&SR=0.0833333333333:100:0: W06: Invalid UCD 'phot.mag;em.opt;stat.stdev': Primary word 'stat.stdev' is not valid as a secondary word [astropy.io.votable.exceptions]\n",
      "WARNING: W06: http://gsss.stsci.edu/webservices/vo/CatalogSearch.aspx?CAT=PS1V3OBJECTS&RA=143.50677&DEC=16.258355&SR=0.0833333333333:118:0: W06: Invalid UCD 'phot.mag;em.opt;stat.stdev': Primary word 'stat.stdev' is not valid as a secondary word [astropy.io.votable.exceptions]\n",
      "WARNING: W06: http://gsss.stsci.edu/webservices/vo/CatalogSearch.aspx?CAT=PS1V3OBJECTS&RA=143.50677&DEC=16.258355&SR=0.0833333333333:136:0: W06: Invalid UCD 'phot.mag;em.opt;stat.stdev': Primary word 'stat.stdev' is not valid as a secondary word [astropy.io.votable.exceptions]\n",
      "WARNING: W06: http://gsss.stsci.edu/webservices/vo/CatalogSearch.aspx?CAT=PS1V3OBJECTS&RA=143.50677&DEC=16.258355&SR=0.0833333333333:154:0: W06: Invalid UCD 'phot.mag;em.opt;stat.stdev': Primary word 'stat.stdev' is not valid as a secondary word [astropy.io.votable.exceptions]\n",
      "WARNING: W06: http://gsss.stsci.edu/webservices/vo/CatalogSearch.aspx?CAT=PS1V3OBJECTS&RA=143.50677&DEC=16.258355&SR=0.0833333333333:172:0: W06: Invalid UCD 'phot.mag;em.opt;stat.stdev': Primary word 'stat.stdev' is not valid as a secondary word [astropy.io.votable.exceptions]\n",
      "WARNING: W06: http://gsss.stsci.edu/webservices/vo/CatalogSearch.aspx?CAT=PS1V3OBJECTS&RA=143.50677&DEC=16.258355&SR=0.0833333333333:184:0: W06: Invalid UCD 'phot.mag;em.opt;stat.stdev': Primary word 'stat.stdev' is not valid as a secondary word [astropy.io.votable.exceptions]\n",
      "WARNING: W06: http://gsss.stsci.edu/webservices/vo/CatalogSearch.aspx?CAT=PS1V3OBJECTS&RA=143.50677&DEC=16.258355&SR=0.0833333333333:187:0: W06: Invalid UCD 'phot.mag;em.opt;;meta.main': Invalid word '' [astropy.io.votable.exceptions]\n",
      "WARNING: W06: http://gsss.stsci.edu/webservices/vo/CatalogSearch.aspx?CAT=PS1V3OBJECTS&RA=143.50677&DEC=16.258355&SR=0.0833333333333:196:0: W06: Invalid UCD 'phot.mag;em.opt;stat.stdev': Primary word 'stat.stdev' is not valid as a secondary word [astropy.io.votable.exceptions]\n",
      "WARNING: W06: http://gsss.stsci.edu/webservices/vo/CatalogSearch.aspx?CAT=PS1V3OBJECTS&RA=143.50677&DEC=16.258355&SR=0.0833333333333:208:0: W06: Invalid UCD 'phot.mag;em.opt;stat.stdev': Primary word 'stat.stdev' is not valid as a secondary word [astropy.io.votable.exceptions]\n",
      "WARNING: W06: http://gsss.stsci.edu/webservices/vo/CatalogSearch.aspx?CAT=PS1V3OBJECTS&RA=143.50677&DEC=16.258355&SR=0.0833333333333:220:0: W06: Invalid UCD 'phot.mag;em.opt;stat.stdev': Primary word 'stat.stdev' is not valid as a secondary word (suppressing further warnings of this type...) [astropy.io.votable.exceptions]\n",
      "WARNING: W48: http://gsss.stsci.edu/webservices/vo/CatalogSearch.aspx?CAT=PS1V3OBJECTS&RA=143.50677&DEC=16.258355&SR=0.0833333333333:302:0: W48: Unknown attribute 'nrows' on TABLEDATA [astropy.io.votable.exceptions]\n"
     ]
    },
    {
     "name": "stdout",
     "output_type": "stream",
     "text": [
      "Downloading http://gsss.stsci.edu/webservices/vo/CatalogSearch.aspx?CAT=PS1V3OBJECTS&RA=143.223072658&DEC=16.935057039&SR=0.0833333333333 [Done]\n"
     ]
    },
    {
     "name": "stderr",
     "output_type": "stream",
     "text": [
      "WARNING: W06: http://gsss.stsci.edu/webservices/vo/CatalogSearch.aspx?CAT=PS1V3OBJECTS&RA=143.223072658&DEC=16.935057039&SR=0.0833333333333:100:0: W06: Invalid UCD 'phot.mag;em.opt;stat.stdev': Primary word 'stat.stdev' is not valid as a secondary word [astropy.io.votable.exceptions]\n",
      "WARNING: W06: http://gsss.stsci.edu/webservices/vo/CatalogSearch.aspx?CAT=PS1V3OBJECTS&RA=143.223072658&DEC=16.935057039&SR=0.0833333333333:118:0: W06: Invalid UCD 'phot.mag;em.opt;stat.stdev': Primary word 'stat.stdev' is not valid as a secondary word [astropy.io.votable.exceptions]\n",
      "WARNING: W06: http://gsss.stsci.edu/webservices/vo/CatalogSearch.aspx?CAT=PS1V3OBJECTS&RA=143.223072658&DEC=16.935057039&SR=0.0833333333333:136:0: W06: Invalid UCD 'phot.mag;em.opt;stat.stdev': Primary word 'stat.stdev' is not valid as a secondary word [astropy.io.votable.exceptions]\n",
      "WARNING: W06: http://gsss.stsci.edu/webservices/vo/CatalogSearch.aspx?CAT=PS1V3OBJECTS&RA=143.223072658&DEC=16.935057039&SR=0.0833333333333:154:0: W06: Invalid UCD 'phot.mag;em.opt;stat.stdev': Primary word 'stat.stdev' is not valid as a secondary word [astropy.io.votable.exceptions]\n",
      "WARNING: W06: http://gsss.stsci.edu/webservices/vo/CatalogSearch.aspx?CAT=PS1V3OBJECTS&RA=143.223072658&DEC=16.935057039&SR=0.0833333333333:172:0: W06: Invalid UCD 'phot.mag;em.opt;stat.stdev': Primary word 'stat.stdev' is not valid as a secondary word [astropy.io.votable.exceptions]\n",
      "WARNING: W06: http://gsss.stsci.edu/webservices/vo/CatalogSearch.aspx?CAT=PS1V3OBJECTS&RA=143.223072658&DEC=16.935057039&SR=0.0833333333333:184:0: W06: Invalid UCD 'phot.mag;em.opt;stat.stdev': Primary word 'stat.stdev' is not valid as a secondary word [astropy.io.votable.exceptions]\n",
      "WARNING: W06: http://gsss.stsci.edu/webservices/vo/CatalogSearch.aspx?CAT=PS1V3OBJECTS&RA=143.223072658&DEC=16.935057039&SR=0.0833333333333:187:0: W06: Invalid UCD 'phot.mag;em.opt;;meta.main': Invalid word '' [astropy.io.votable.exceptions]\n",
      "WARNING: W06: http://gsss.stsci.edu/webservices/vo/CatalogSearch.aspx?CAT=PS1V3OBJECTS&RA=143.223072658&DEC=16.935057039&SR=0.0833333333333:196:0: W06: Invalid UCD 'phot.mag;em.opt;stat.stdev': Primary word 'stat.stdev' is not valid as a secondary word [astropy.io.votable.exceptions]\n",
      "WARNING: W06: http://gsss.stsci.edu/webservices/vo/CatalogSearch.aspx?CAT=PS1V3OBJECTS&RA=143.223072658&DEC=16.935057039&SR=0.0833333333333:208:0: W06: Invalid UCD 'phot.mag;em.opt;stat.stdev': Primary word 'stat.stdev' is not valid as a secondary word [astropy.io.votable.exceptions]\n",
      "WARNING: W06: http://gsss.stsci.edu/webservices/vo/CatalogSearch.aspx?CAT=PS1V3OBJECTS&RA=143.223072658&DEC=16.935057039&SR=0.0833333333333:220:0: W06: Invalid UCD 'phot.mag;em.opt;stat.stdev': Primary word 'stat.stdev' is not valid as a secondary word (suppressing further warnings of this type...) [astropy.io.votable.exceptions]\n",
      "WARNING: W48: http://gsss.stsci.edu/webservices/vo/CatalogSearch.aspx?CAT=PS1V3OBJECTS&RA=143.223072658&DEC=16.935057039&SR=0.0833333333333:302:0: W48: Unknown attribute 'nrows' on TABLEDATA [astropy.io.votable.exceptions]\n"
     ]
    },
    {
     "name": "stdout",
     "output_type": "stream",
     "text": [
      "Downloading http://gsss.stsci.edu/webservices/vo/CatalogSearch.aspx?CAT=PS1V3OBJECTS&RA=143.796895168&DEC=15.5845561307&SR=0.0833333333333 [Done]\n"
     ]
    },
    {
     "name": "stderr",
     "output_type": "stream",
     "text": [
      "WARNING: W06: http://gsss.stsci.edu/webservices/vo/CatalogSearch.aspx?CAT=PS1V3OBJECTS&RA=143.796895168&DEC=15.5845561307&SR=0.0833333333333:100:0: W06: Invalid UCD 'phot.mag;em.opt;stat.stdev': Primary word 'stat.stdev' is not valid as a secondary word [astropy.io.votable.exceptions]\n",
      "WARNING: W06: http://gsss.stsci.edu/webservices/vo/CatalogSearch.aspx?CAT=PS1V3OBJECTS&RA=143.796895168&DEC=15.5845561307&SR=0.0833333333333:118:0: W06: Invalid UCD 'phot.mag;em.opt;stat.stdev': Primary word 'stat.stdev' is not valid as a secondary word [astropy.io.votable.exceptions]\n",
      "WARNING: W06: http://gsss.stsci.edu/webservices/vo/CatalogSearch.aspx?CAT=PS1V3OBJECTS&RA=143.796895168&DEC=15.5845561307&SR=0.0833333333333:136:0: W06: Invalid UCD 'phot.mag;em.opt;stat.stdev': Primary word 'stat.stdev' is not valid as a secondary word [astropy.io.votable.exceptions]\n",
      "WARNING: W06: http://gsss.stsci.edu/webservices/vo/CatalogSearch.aspx?CAT=PS1V3OBJECTS&RA=143.796895168&DEC=15.5845561307&SR=0.0833333333333:154:0: W06: Invalid UCD 'phot.mag;em.opt;stat.stdev': Primary word 'stat.stdev' is not valid as a secondary word [astropy.io.votable.exceptions]\n",
      "WARNING: W06: http://gsss.stsci.edu/webservices/vo/CatalogSearch.aspx?CAT=PS1V3OBJECTS&RA=143.796895168&DEC=15.5845561307&SR=0.0833333333333:172:0: W06: Invalid UCD 'phot.mag;em.opt;stat.stdev': Primary word 'stat.stdev' is not valid as a secondary word [astropy.io.votable.exceptions]\n",
      "WARNING: W06: http://gsss.stsci.edu/webservices/vo/CatalogSearch.aspx?CAT=PS1V3OBJECTS&RA=143.796895168&DEC=15.5845561307&SR=0.0833333333333:184:0: W06: Invalid UCD 'phot.mag;em.opt;stat.stdev': Primary word 'stat.stdev' is not valid as a secondary word [astropy.io.votable.exceptions]\n",
      "WARNING: W06: http://gsss.stsci.edu/webservices/vo/CatalogSearch.aspx?CAT=PS1V3OBJECTS&RA=143.796895168&DEC=15.5845561307&SR=0.0833333333333:187:0: W06: Invalid UCD 'phot.mag;em.opt;;meta.main': Invalid word '' [astropy.io.votable.exceptions]\n",
      "WARNING: W06: http://gsss.stsci.edu/webservices/vo/CatalogSearch.aspx?CAT=PS1V3OBJECTS&RA=143.796895168&DEC=15.5845561307&SR=0.0833333333333:196:0: W06: Invalid UCD 'phot.mag;em.opt;stat.stdev': Primary word 'stat.stdev' is not valid as a secondary word [astropy.io.votable.exceptions]\n",
      "WARNING: W06: http://gsss.stsci.edu/webservices/vo/CatalogSearch.aspx?CAT=PS1V3OBJECTS&RA=143.796895168&DEC=15.5845561307&SR=0.0833333333333:208:0: W06: Invalid UCD 'phot.mag;em.opt;stat.stdev': Primary word 'stat.stdev' is not valid as a secondary word [astropy.io.votable.exceptions]\n",
      "WARNING: W06: http://gsss.stsci.edu/webservices/vo/CatalogSearch.aspx?CAT=PS1V3OBJECTS&RA=143.796895168&DEC=15.5845561307&SR=0.0833333333333:220:0: W06: Invalid UCD 'phot.mag;em.opt;stat.stdev': Primary word 'stat.stdev' is not valid as a secondary word (suppressing further warnings of this type...) [astropy.io.votable.exceptions]\n",
      "WARNING: W48: http://gsss.stsci.edu/webservices/vo/CatalogSearch.aspx?CAT=PS1V3OBJECTS&RA=143.796895168&DEC=15.5845561307&SR=0.0833333333333:302:0: W48: Unknown attribute 'nrows' on TABLEDATA [astropy.io.votable.exceptions]\n"
     ]
    },
    {
     "name": "stdout",
     "output_type": "stream",
     "text": [
      "10 1401835.298\n",
      "Downloading http://gsss.stsci.edu/webservices/vo/CatalogSearch.aspx?CAT=PS1V3OBJECTS&RA=143.71969&DEC=17.055003&SR=0.0833333333333 [Done]\n",
      "Downloading http://gsss.stsci.edu/webservices/vo/CatalogSearch.aspx?CAT=PS1V3OBJECTS&RA=143.445573231&DEC=17.7295037717&SR=0.0833333333333 [Done]\n",
      "Downloading http://gsss.stsci.edu/webservices/vo/CatalogSearch.aspx?CAT=PS1V3OBJECTS&RA=144.000291366&DEC=16.3833208772&SR=0.0833333333333 [Done]\n",
      "11 1401835.305\n",
      "Downloading http://gsss.stsci.edu/webservices/vo/CatalogSearch.aspx?CAT=PS1V3OBJECTS&RA=138.42287&DEC=14.432133&SR=0.0833333333333 [Done]\n"
     ]
    },
    {
     "name": "stderr",
     "output_type": "stream",
     "text": [
      "WARNING: W06: http://gsss.stsci.edu/webservices/vo/CatalogSearch.aspx?CAT=PS1V3OBJECTS&RA=138.42287&DEC=14.432133&SR=0.0833333333333:100:0: W06: Invalid UCD 'phot.mag;em.opt;stat.stdev': Primary word 'stat.stdev' is not valid as a secondary word [astropy.io.votable.exceptions]\n",
      "WARNING: W06: http://gsss.stsci.edu/webservices/vo/CatalogSearch.aspx?CAT=PS1V3OBJECTS&RA=138.42287&DEC=14.432133&SR=0.0833333333333:118:0: W06: Invalid UCD 'phot.mag;em.opt;stat.stdev': Primary word 'stat.stdev' is not valid as a secondary word [astropy.io.votable.exceptions]\n",
      "WARNING: W06: http://gsss.stsci.edu/webservices/vo/CatalogSearch.aspx?CAT=PS1V3OBJECTS&RA=138.42287&DEC=14.432133&SR=0.0833333333333:136:0: W06: Invalid UCD 'phot.mag;em.opt;stat.stdev': Primary word 'stat.stdev' is not valid as a secondary word [astropy.io.votable.exceptions]\n",
      "WARNING: W06: http://gsss.stsci.edu/webservices/vo/CatalogSearch.aspx?CAT=PS1V3OBJECTS&RA=138.42287&DEC=14.432133&SR=0.0833333333333:154:0: W06: Invalid UCD 'phot.mag;em.opt;stat.stdev': Primary word 'stat.stdev' is not valid as a secondary word [astropy.io.votable.exceptions]\n",
      "WARNING: W06: http://gsss.stsci.edu/webservices/vo/CatalogSearch.aspx?CAT=PS1V3OBJECTS&RA=138.42287&DEC=14.432133&SR=0.0833333333333:172:0: W06: Invalid UCD 'phot.mag;em.opt;stat.stdev': Primary word 'stat.stdev' is not valid as a secondary word [astropy.io.votable.exceptions]\n",
      "WARNING: W06: http://gsss.stsci.edu/webservices/vo/CatalogSearch.aspx?CAT=PS1V3OBJECTS&RA=138.42287&DEC=14.432133&SR=0.0833333333333:184:0: W06: Invalid UCD 'phot.mag;em.opt;stat.stdev': Primary word 'stat.stdev' is not valid as a secondary word [astropy.io.votable.exceptions]\n",
      "WARNING: W06: http://gsss.stsci.edu/webservices/vo/CatalogSearch.aspx?CAT=PS1V3OBJECTS&RA=138.42287&DEC=14.432133&SR=0.0833333333333:187:0: W06: Invalid UCD 'phot.mag;em.opt;;meta.main': Invalid word '' [astropy.io.votable.exceptions]\n",
      "WARNING: W06: http://gsss.stsci.edu/webservices/vo/CatalogSearch.aspx?CAT=PS1V3OBJECTS&RA=138.42287&DEC=14.432133&SR=0.0833333333333:196:0: W06: Invalid UCD 'phot.mag;em.opt;stat.stdev': Primary word 'stat.stdev' is not valid as a secondary word [astropy.io.votable.exceptions]\n",
      "WARNING: W06: http://gsss.stsci.edu/webservices/vo/CatalogSearch.aspx?CAT=PS1V3OBJECTS&RA=138.42287&DEC=14.432133&SR=0.0833333333333:208:0: W06: Invalid UCD 'phot.mag;em.opt;stat.stdev': Primary word 'stat.stdev' is not valid as a secondary word [astropy.io.votable.exceptions]\n",
      "WARNING: W06: http://gsss.stsci.edu/webservices/vo/CatalogSearch.aspx?CAT=PS1V3OBJECTS&RA=138.42287&DEC=14.432133&SR=0.0833333333333:220:0: W06: Invalid UCD 'phot.mag;em.opt;stat.stdev': Primary word 'stat.stdev' is not valid as a secondary word (suppressing further warnings of this type...) [astropy.io.votable.exceptions]\n",
      "WARNING: W48: http://gsss.stsci.edu/webservices/vo/CatalogSearch.aspx?CAT=PS1V3OBJECTS&RA=138.42287&DEC=14.432133&SR=0.0833333333333:302:0: W48: Unknown attribute 'nrows' on TABLEDATA [astropy.io.votable.exceptions]\n"
     ]
    },
    {
     "name": "stdout",
     "output_type": "stream",
     "text": [
      "Downloading http://gsss.stsci.edu/webservices/vo/CatalogSearch.aspx?CAT=PS1V3OBJECTS&RA=138.103056538&DEC=15.1575591423&SR=0.0833333333333 [Done]\n"
     ]
    },
    {
     "name": "stderr",
     "output_type": "stream",
     "text": [
      "WARNING: W06: http://gsss.stsci.edu/webservices/vo/CatalogSearch.aspx?CAT=PS1V3OBJECTS&RA=138.103056538&DEC=15.1575591423&SR=0.0833333333333:100:0: W06: Invalid UCD 'phot.mag;em.opt;stat.stdev': Primary word 'stat.stdev' is not valid as a secondary word [astropy.io.votable.exceptions]\n",
      "WARNING: W06: http://gsss.stsci.edu/webservices/vo/CatalogSearch.aspx?CAT=PS1V3OBJECTS&RA=138.103056538&DEC=15.1575591423&SR=0.0833333333333:118:0: W06: Invalid UCD 'phot.mag;em.opt;stat.stdev': Primary word 'stat.stdev' is not valid as a secondary word [astropy.io.votable.exceptions]\n",
      "WARNING: W06: http://gsss.stsci.edu/webservices/vo/CatalogSearch.aspx?CAT=PS1V3OBJECTS&RA=138.103056538&DEC=15.1575591423&SR=0.0833333333333:136:0: W06: Invalid UCD 'phot.mag;em.opt;stat.stdev': Primary word 'stat.stdev' is not valid as a secondary word [astropy.io.votable.exceptions]\n",
      "WARNING: W06: http://gsss.stsci.edu/webservices/vo/CatalogSearch.aspx?CAT=PS1V3OBJECTS&RA=138.103056538&DEC=15.1575591423&SR=0.0833333333333:154:0: W06: Invalid UCD 'phot.mag;em.opt;stat.stdev': Primary word 'stat.stdev' is not valid as a secondary word [astropy.io.votable.exceptions]\n",
      "WARNING: W06: http://gsss.stsci.edu/webservices/vo/CatalogSearch.aspx?CAT=PS1V3OBJECTS&RA=138.103056538&DEC=15.1575591423&SR=0.0833333333333:172:0: W06: Invalid UCD 'phot.mag;em.opt;stat.stdev': Primary word 'stat.stdev' is not valid as a secondary word [astropy.io.votable.exceptions]\n",
      "WARNING: W06: http://gsss.stsci.edu/webservices/vo/CatalogSearch.aspx?CAT=PS1V3OBJECTS&RA=138.103056538&DEC=15.1575591423&SR=0.0833333333333:184:0: W06: Invalid UCD 'phot.mag;em.opt;stat.stdev': Primary word 'stat.stdev' is not valid as a secondary word [astropy.io.votable.exceptions]\n",
      "WARNING: W06: http://gsss.stsci.edu/webservices/vo/CatalogSearch.aspx?CAT=PS1V3OBJECTS&RA=138.103056538&DEC=15.1575591423&SR=0.0833333333333:187:0: W06: Invalid UCD 'phot.mag;em.opt;;meta.main': Invalid word '' [astropy.io.votable.exceptions]\n",
      "WARNING: W06: http://gsss.stsci.edu/webservices/vo/CatalogSearch.aspx?CAT=PS1V3OBJECTS&RA=138.103056538&DEC=15.1575591423&SR=0.0833333333333:196:0: W06: Invalid UCD 'phot.mag;em.opt;stat.stdev': Primary word 'stat.stdev' is not valid as a secondary word [astropy.io.votable.exceptions]\n",
      "WARNING: W06: http://gsss.stsci.edu/webservices/vo/CatalogSearch.aspx?CAT=PS1V3OBJECTS&RA=138.103056538&DEC=15.1575591423&SR=0.0833333333333:208:0: W06: Invalid UCD 'phot.mag;em.opt;stat.stdev': Primary word 'stat.stdev' is not valid as a secondary word [astropy.io.votable.exceptions]\n",
      "WARNING: W06: http://gsss.stsci.edu/webservices/vo/CatalogSearch.aspx?CAT=PS1V3OBJECTS&RA=138.103056538&DEC=15.1575591423&SR=0.0833333333333:220:0: W06: Invalid UCD 'phot.mag;em.opt;stat.stdev': Primary word 'stat.stdev' is not valid as a secondary word (suppressing further warnings of this type...) [astropy.io.votable.exceptions]\n",
      "WARNING: W48: http://gsss.stsci.edu/webservices/vo/CatalogSearch.aspx?CAT=PS1V3OBJECTS&RA=138.103056538&DEC=15.1575591423&SR=0.0833333333333:302:0: W48: Unknown attribute 'nrows' on TABLEDATA [astropy.io.votable.exceptions]\n"
     ]
    },
    {
     "name": "stdout",
     "output_type": "stream",
     "text": [
      "Downloading http://gsss.stsci.edu/webservices/vo/CatalogSearch.aspx?CAT=PS1V3OBJECTS&RA=138.748607877&DEC=13.7096229508&SR=0.0833333333333 [Done]\n"
     ]
    },
    {
     "name": "stderr",
     "output_type": "stream",
     "text": [
      "WARNING: W06: http://gsss.stsci.edu/webservices/vo/CatalogSearch.aspx?CAT=PS1V3OBJECTS&RA=138.748607877&DEC=13.7096229508&SR=0.0833333333333:100:0: W06: Invalid UCD 'phot.mag;em.opt;stat.stdev': Primary word 'stat.stdev' is not valid as a secondary word [astropy.io.votable.exceptions]\n",
      "WARNING: W06: http://gsss.stsci.edu/webservices/vo/CatalogSearch.aspx?CAT=PS1V3OBJECTS&RA=138.748607877&DEC=13.7096229508&SR=0.0833333333333:118:0: W06: Invalid UCD 'phot.mag;em.opt;stat.stdev': Primary word 'stat.stdev' is not valid as a secondary word [astropy.io.votable.exceptions]\n",
      "WARNING: W06: http://gsss.stsci.edu/webservices/vo/CatalogSearch.aspx?CAT=PS1V3OBJECTS&RA=138.748607877&DEC=13.7096229508&SR=0.0833333333333:136:0: W06: Invalid UCD 'phot.mag;em.opt;stat.stdev': Primary word 'stat.stdev' is not valid as a secondary word [astropy.io.votable.exceptions]\n",
      "WARNING: W06: http://gsss.stsci.edu/webservices/vo/CatalogSearch.aspx?CAT=PS1V3OBJECTS&RA=138.748607877&DEC=13.7096229508&SR=0.0833333333333:154:0: W06: Invalid UCD 'phot.mag;em.opt;stat.stdev': Primary word 'stat.stdev' is not valid as a secondary word [astropy.io.votable.exceptions]\n",
      "WARNING: W06: http://gsss.stsci.edu/webservices/vo/CatalogSearch.aspx?CAT=PS1V3OBJECTS&RA=138.748607877&DEC=13.7096229508&SR=0.0833333333333:172:0: W06: Invalid UCD 'phot.mag;em.opt;stat.stdev': Primary word 'stat.stdev' is not valid as a secondary word [astropy.io.votable.exceptions]\n",
      "WARNING: W06: http://gsss.stsci.edu/webservices/vo/CatalogSearch.aspx?CAT=PS1V3OBJECTS&RA=138.748607877&DEC=13.7096229508&SR=0.0833333333333:184:0: W06: Invalid UCD 'phot.mag;em.opt;stat.stdev': Primary word 'stat.stdev' is not valid as a secondary word [astropy.io.votable.exceptions]\n",
      "WARNING: W06: http://gsss.stsci.edu/webservices/vo/CatalogSearch.aspx?CAT=PS1V3OBJECTS&RA=138.748607877&DEC=13.7096229508&SR=0.0833333333333:187:0: W06: Invalid UCD 'phot.mag;em.opt;;meta.main': Invalid word '' [astropy.io.votable.exceptions]\n",
      "WARNING: W06: http://gsss.stsci.edu/webservices/vo/CatalogSearch.aspx?CAT=PS1V3OBJECTS&RA=138.748607877&DEC=13.7096229508&SR=0.0833333333333:196:0: W06: Invalid UCD 'phot.mag;em.opt;stat.stdev': Primary word 'stat.stdev' is not valid as a secondary word [astropy.io.votable.exceptions]\n",
      "WARNING: W06: http://gsss.stsci.edu/webservices/vo/CatalogSearch.aspx?CAT=PS1V3OBJECTS&RA=138.748607877&DEC=13.7096229508&SR=0.0833333333333:208:0: W06: Invalid UCD 'phot.mag;em.opt;stat.stdev': Primary word 'stat.stdev' is not valid as a secondary word [astropy.io.votable.exceptions]\n",
      "WARNING: W06: http://gsss.stsci.edu/webservices/vo/CatalogSearch.aspx?CAT=PS1V3OBJECTS&RA=138.748607877&DEC=13.7096229508&SR=0.0833333333333:220:0: W06: Invalid UCD 'phot.mag;em.opt;stat.stdev': Primary word 'stat.stdev' is not valid as a secondary word (suppressing further warnings of this type...) [astropy.io.votable.exceptions]\n",
      "WARNING: W48: http://gsss.stsci.edu/webservices/vo/CatalogSearch.aspx?CAT=PS1V3OBJECTS&RA=138.748607877&DEC=13.7096229508&SR=0.0833333333333:302:0: W48: Unknown attribute 'nrows' on TABLEDATA [astropy.io.votable.exceptions]\n"
     ]
    },
    {
     "name": "stdout",
     "output_type": "stream",
     "text": [
      "12 1402635.043\n",
      "Downloading http://gsss.stsci.edu/webservices/vo/CatalogSearch.aspx?CAT=PS1V3OBJECTS&RA=141.86017&DEC=23.288564&SR=0.0833333333333 [Done]\n"
     ]
    },
    {
     "name": "stderr",
     "output_type": "stream",
     "text": [
      "WARNING: W06: http://gsss.stsci.edu/webservices/vo/CatalogSearch.aspx?CAT=PS1V3OBJECTS&RA=141.86017&DEC=23.288564&SR=0.0833333333333:100:0: W06: Invalid UCD 'phot.mag;em.opt;stat.stdev': Primary word 'stat.stdev' is not valid as a secondary word [astropy.io.votable.exceptions]\n",
      "WARNING: W06: http://gsss.stsci.edu/webservices/vo/CatalogSearch.aspx?CAT=PS1V3OBJECTS&RA=141.86017&DEC=23.288564&SR=0.0833333333333:118:0: W06: Invalid UCD 'phot.mag;em.opt;stat.stdev': Primary word 'stat.stdev' is not valid as a secondary word [astropy.io.votable.exceptions]\n",
      "WARNING: W06: http://gsss.stsci.edu/webservices/vo/CatalogSearch.aspx?CAT=PS1V3OBJECTS&RA=141.86017&DEC=23.288564&SR=0.0833333333333:136:0: W06: Invalid UCD 'phot.mag;em.opt;stat.stdev': Primary word 'stat.stdev' is not valid as a secondary word [astropy.io.votable.exceptions]\n",
      "WARNING: W06: http://gsss.stsci.edu/webservices/vo/CatalogSearch.aspx?CAT=PS1V3OBJECTS&RA=141.86017&DEC=23.288564&SR=0.0833333333333:154:0: W06: Invalid UCD 'phot.mag;em.opt;stat.stdev': Primary word 'stat.stdev' is not valid as a secondary word [astropy.io.votable.exceptions]\n",
      "WARNING: W06: http://gsss.stsci.edu/webservices/vo/CatalogSearch.aspx?CAT=PS1V3OBJECTS&RA=141.86017&DEC=23.288564&SR=0.0833333333333:172:0: W06: Invalid UCD 'phot.mag;em.opt;stat.stdev': Primary word 'stat.stdev' is not valid as a secondary word [astropy.io.votable.exceptions]\n",
      "WARNING: W06: http://gsss.stsci.edu/webservices/vo/CatalogSearch.aspx?CAT=PS1V3OBJECTS&RA=141.86017&DEC=23.288564&SR=0.0833333333333:184:0: W06: Invalid UCD 'phot.mag;em.opt;stat.stdev': Primary word 'stat.stdev' is not valid as a secondary word [astropy.io.votable.exceptions]\n",
      "WARNING: W06: http://gsss.stsci.edu/webservices/vo/CatalogSearch.aspx?CAT=PS1V3OBJECTS&RA=141.86017&DEC=23.288564&SR=0.0833333333333:187:0: W06: Invalid UCD 'phot.mag;em.opt;;meta.main': Invalid word '' [astropy.io.votable.exceptions]\n",
      "WARNING: W06: http://gsss.stsci.edu/webservices/vo/CatalogSearch.aspx?CAT=PS1V3OBJECTS&RA=141.86017&DEC=23.288564&SR=0.0833333333333:196:0: W06: Invalid UCD 'phot.mag;em.opt;stat.stdev': Primary word 'stat.stdev' is not valid as a secondary word [astropy.io.votable.exceptions]\n",
      "WARNING: W06: http://gsss.stsci.edu/webservices/vo/CatalogSearch.aspx?CAT=PS1V3OBJECTS&RA=141.86017&DEC=23.288564&SR=0.0833333333333:208:0: W06: Invalid UCD 'phot.mag;em.opt;stat.stdev': Primary word 'stat.stdev' is not valid as a secondary word [astropy.io.votable.exceptions]\n",
      "WARNING: W06: http://gsss.stsci.edu/webservices/vo/CatalogSearch.aspx?CAT=PS1V3OBJECTS&RA=141.86017&DEC=23.288564&SR=0.0833333333333:220:0: W06: Invalid UCD 'phot.mag;em.opt;stat.stdev': Primary word 'stat.stdev' is not valid as a secondary word (suppressing further warnings of this type...) [astropy.io.votable.exceptions]\n",
      "WARNING: W48: http://gsss.stsci.edu/webservices/vo/CatalogSearch.aspx?CAT=PS1V3OBJECTS&RA=141.86017&DEC=23.288564&SR=0.0833333333333:302:0: W48: Unknown attribute 'nrows' on TABLEDATA [astropy.io.votable.exceptions]\n"
     ]
    },
    {
     "name": "stdout",
     "output_type": "stream",
     "text": [
      "Downloading http://gsss.stsci.edu/webservices/vo/CatalogSearch.aspx?CAT=PS1V3OBJECTS&RA=141.648728944&DEC=23.9812454026&SR=0.0833333333333 [Done]\n"
     ]
    },
    {
     "name": "stderr",
     "output_type": "stream",
     "text": [
      "WARNING: W06: http://gsss.stsci.edu/webservices/vo/CatalogSearch.aspx?CAT=PS1V3OBJECTS&RA=141.648728944&DEC=23.9812454026&SR=0.0833333333333:100:0: W06: Invalid UCD 'phot.mag;em.opt;stat.stdev': Primary word 'stat.stdev' is not valid as a secondary word [astropy.io.votable.exceptions]\n",
      "WARNING: W06: http://gsss.stsci.edu/webservices/vo/CatalogSearch.aspx?CAT=PS1V3OBJECTS&RA=141.648728944&DEC=23.9812454026&SR=0.0833333333333:118:0: W06: Invalid UCD 'phot.mag;em.opt;stat.stdev': Primary word 'stat.stdev' is not valid as a secondary word [astropy.io.votable.exceptions]\n",
      "WARNING: W06: http://gsss.stsci.edu/webservices/vo/CatalogSearch.aspx?CAT=PS1V3OBJECTS&RA=141.648728944&DEC=23.9812454026&SR=0.0833333333333:136:0: W06: Invalid UCD 'phot.mag;em.opt;stat.stdev': Primary word 'stat.stdev' is not valid as a secondary word [astropy.io.votable.exceptions]\n",
      "WARNING: W06: http://gsss.stsci.edu/webservices/vo/CatalogSearch.aspx?CAT=PS1V3OBJECTS&RA=141.648728944&DEC=23.9812454026&SR=0.0833333333333:154:0: W06: Invalid UCD 'phot.mag;em.opt;stat.stdev': Primary word 'stat.stdev' is not valid as a secondary word [astropy.io.votable.exceptions]\n",
      "WARNING: W06: http://gsss.stsci.edu/webservices/vo/CatalogSearch.aspx?CAT=PS1V3OBJECTS&RA=141.648728944&DEC=23.9812454026&SR=0.0833333333333:172:0: W06: Invalid UCD 'phot.mag;em.opt;stat.stdev': Primary word 'stat.stdev' is not valid as a secondary word [astropy.io.votable.exceptions]\n",
      "WARNING: W06: http://gsss.stsci.edu/webservices/vo/CatalogSearch.aspx?CAT=PS1V3OBJECTS&RA=141.648728944&DEC=23.9812454026&SR=0.0833333333333:184:0: W06: Invalid UCD 'phot.mag;em.opt;stat.stdev': Primary word 'stat.stdev' is not valid as a secondary word [astropy.io.votable.exceptions]\n",
      "WARNING: W06: http://gsss.stsci.edu/webservices/vo/CatalogSearch.aspx?CAT=PS1V3OBJECTS&RA=141.648728944&DEC=23.9812454026&SR=0.0833333333333:187:0: W06: Invalid UCD 'phot.mag;em.opt;;meta.main': Invalid word '' [astropy.io.votable.exceptions]\n",
      "WARNING: W06: http://gsss.stsci.edu/webservices/vo/CatalogSearch.aspx?CAT=PS1V3OBJECTS&RA=141.648728944&DEC=23.9812454026&SR=0.0833333333333:196:0: W06: Invalid UCD 'phot.mag;em.opt;stat.stdev': Primary word 'stat.stdev' is not valid as a secondary word [astropy.io.votable.exceptions]\n",
      "WARNING: W06: http://gsss.stsci.edu/webservices/vo/CatalogSearch.aspx?CAT=PS1V3OBJECTS&RA=141.648728944&DEC=23.9812454026&SR=0.0833333333333:208:0: W06: Invalid UCD 'phot.mag;em.opt;stat.stdev': Primary word 'stat.stdev' is not valid as a secondary word [astropy.io.votable.exceptions]\n",
      "WARNING: W06: http://gsss.stsci.edu/webservices/vo/CatalogSearch.aspx?CAT=PS1V3OBJECTS&RA=141.648728944&DEC=23.9812454026&SR=0.0833333333333:220:0: W06: Invalid UCD 'phot.mag;em.opt;stat.stdev': Primary word 'stat.stdev' is not valid as a secondary word (suppressing further warnings of this type...) [astropy.io.votable.exceptions]\n",
      "WARNING: W48: http://gsss.stsci.edu/webservices/vo/CatalogSearch.aspx?CAT=PS1V3OBJECTS&RA=141.648728944&DEC=23.9812454026&SR=0.0833333333333:302:0: W48: Unknown attribute 'nrows' on TABLEDATA [astropy.io.votable.exceptions]\n"
     ]
    },
    {
     "name": "stdout",
     "output_type": "stream",
     "text": [
      "Downloading http://gsss.stsci.edu/webservices/vo/CatalogSearch.aspx?CAT=PS1V3OBJECTS&RA=142.078508768&DEC=22.5979833871&SR=0.0833333333333 [Done]\n"
     ]
    },
    {
     "name": "stderr",
     "output_type": "stream",
     "text": [
      "WARNING: W06: http://gsss.stsci.edu/webservices/vo/CatalogSearch.aspx?CAT=PS1V3OBJECTS&RA=142.078508768&DEC=22.5979833871&SR=0.0833333333333:100:0: W06: Invalid UCD 'phot.mag;em.opt;stat.stdev': Primary word 'stat.stdev' is not valid as a secondary word [astropy.io.votable.exceptions]\n",
      "WARNING: W06: http://gsss.stsci.edu/webservices/vo/CatalogSearch.aspx?CAT=PS1V3OBJECTS&RA=142.078508768&DEC=22.5979833871&SR=0.0833333333333:118:0: W06: Invalid UCD 'phot.mag;em.opt;stat.stdev': Primary word 'stat.stdev' is not valid as a secondary word [astropy.io.votable.exceptions]\n",
      "WARNING: W06: http://gsss.stsci.edu/webservices/vo/CatalogSearch.aspx?CAT=PS1V3OBJECTS&RA=142.078508768&DEC=22.5979833871&SR=0.0833333333333:136:0: W06: Invalid UCD 'phot.mag;em.opt;stat.stdev': Primary word 'stat.stdev' is not valid as a secondary word [astropy.io.votable.exceptions]\n",
      "WARNING: W06: http://gsss.stsci.edu/webservices/vo/CatalogSearch.aspx?CAT=PS1V3OBJECTS&RA=142.078508768&DEC=22.5979833871&SR=0.0833333333333:154:0: W06: Invalid UCD 'phot.mag;em.opt;stat.stdev': Primary word 'stat.stdev' is not valid as a secondary word [astropy.io.votable.exceptions]\n",
      "WARNING: W06: http://gsss.stsci.edu/webservices/vo/CatalogSearch.aspx?CAT=PS1V3OBJECTS&RA=142.078508768&DEC=22.5979833871&SR=0.0833333333333:172:0: W06: Invalid UCD 'phot.mag;em.opt;stat.stdev': Primary word 'stat.stdev' is not valid as a secondary word [astropy.io.votable.exceptions]\n",
      "WARNING: W06: http://gsss.stsci.edu/webservices/vo/CatalogSearch.aspx?CAT=PS1V3OBJECTS&RA=142.078508768&DEC=22.5979833871&SR=0.0833333333333:184:0: W06: Invalid UCD 'phot.mag;em.opt;stat.stdev': Primary word 'stat.stdev' is not valid as a secondary word [astropy.io.votable.exceptions]\n",
      "WARNING: W06: http://gsss.stsci.edu/webservices/vo/CatalogSearch.aspx?CAT=PS1V3OBJECTS&RA=142.078508768&DEC=22.5979833871&SR=0.0833333333333:187:0: W06: Invalid UCD 'phot.mag;em.opt;;meta.main': Invalid word '' [astropy.io.votable.exceptions]\n",
      "WARNING: W06: http://gsss.stsci.edu/webservices/vo/CatalogSearch.aspx?CAT=PS1V3OBJECTS&RA=142.078508768&DEC=22.5979833871&SR=0.0833333333333:196:0: W06: Invalid UCD 'phot.mag;em.opt;stat.stdev': Primary word 'stat.stdev' is not valid as a secondary word [astropy.io.votable.exceptions]\n",
      "WARNING: W06: http://gsss.stsci.edu/webservices/vo/CatalogSearch.aspx?CAT=PS1V3OBJECTS&RA=142.078508768&DEC=22.5979833871&SR=0.0833333333333:208:0: W06: Invalid UCD 'phot.mag;em.opt;stat.stdev': Primary word 'stat.stdev' is not valid as a secondary word [astropy.io.votable.exceptions]\n",
      "WARNING: W06: http://gsss.stsci.edu/webservices/vo/CatalogSearch.aspx?CAT=PS1V3OBJECTS&RA=142.078508768&DEC=22.5979833871&SR=0.0833333333333:220:0: W06: Invalid UCD 'phot.mag;em.opt;stat.stdev': Primary word 'stat.stdev' is not valid as a secondary word (suppressing further warnings of this type...) [astropy.io.votable.exceptions]\n",
      "WARNING: W48: http://gsss.stsci.edu/webservices/vo/CatalogSearch.aspx?CAT=PS1V3OBJECTS&RA=142.078508768&DEC=22.5979833871&SR=0.0833333333333:302:0: W48: Unknown attribute 'nrows' on TABLEDATA [astropy.io.votable.exceptions]\n"
     ]
    },
    {
     "name": "stdout",
     "output_type": "stream",
     "text": [
      "13 1402635.063\n",
      "Downloading http://gsss.stsci.edu/webservices/vo/CatalogSearch.aspx?CAT=PS1V3OBJECTS&RA=136.0157&DEC=24.879951&SR=0.0833333333333 [Done]\n"
     ]
    },
    {
     "name": "stderr",
     "output_type": "stream",
     "text": [
      "WARNING: W06: http://gsss.stsci.edu/webservices/vo/CatalogSearch.aspx?CAT=PS1V3OBJECTS&RA=136.0157&DEC=24.879951&SR=0.0833333333333:100:0: W06: Invalid UCD 'phot.mag;em.opt;stat.stdev': Primary word 'stat.stdev' is not valid as a secondary word [astropy.io.votable.exceptions]\n",
      "WARNING: W06: http://gsss.stsci.edu/webservices/vo/CatalogSearch.aspx?CAT=PS1V3OBJECTS&RA=136.0157&DEC=24.879951&SR=0.0833333333333:118:0: W06: Invalid UCD 'phot.mag;em.opt;stat.stdev': Primary word 'stat.stdev' is not valid as a secondary word [astropy.io.votable.exceptions]\n",
      "WARNING: W06: http://gsss.stsci.edu/webservices/vo/CatalogSearch.aspx?CAT=PS1V3OBJECTS&RA=136.0157&DEC=24.879951&SR=0.0833333333333:136:0: W06: Invalid UCD 'phot.mag;em.opt;stat.stdev': Primary word 'stat.stdev' is not valid as a secondary word [astropy.io.votable.exceptions]\n",
      "WARNING: W06: http://gsss.stsci.edu/webservices/vo/CatalogSearch.aspx?CAT=PS1V3OBJECTS&RA=136.0157&DEC=24.879951&SR=0.0833333333333:154:0: W06: Invalid UCD 'phot.mag;em.opt;stat.stdev': Primary word 'stat.stdev' is not valid as a secondary word [astropy.io.votable.exceptions]\n",
      "WARNING: W06: http://gsss.stsci.edu/webservices/vo/CatalogSearch.aspx?CAT=PS1V3OBJECTS&RA=136.0157&DEC=24.879951&SR=0.0833333333333:172:0: W06: Invalid UCD 'phot.mag;em.opt;stat.stdev': Primary word 'stat.stdev' is not valid as a secondary word [astropy.io.votable.exceptions]\n",
      "WARNING: W06: http://gsss.stsci.edu/webservices/vo/CatalogSearch.aspx?CAT=PS1V3OBJECTS&RA=136.0157&DEC=24.879951&SR=0.0833333333333:184:0: W06: Invalid UCD 'phot.mag;em.opt;stat.stdev': Primary word 'stat.stdev' is not valid as a secondary word [astropy.io.votable.exceptions]\n",
      "WARNING: W06: http://gsss.stsci.edu/webservices/vo/CatalogSearch.aspx?CAT=PS1V3OBJECTS&RA=136.0157&DEC=24.879951&SR=0.0833333333333:187:0: W06: Invalid UCD 'phot.mag;em.opt;;meta.main': Invalid word '' [astropy.io.votable.exceptions]\n",
      "WARNING: W06: http://gsss.stsci.edu/webservices/vo/CatalogSearch.aspx?CAT=PS1V3OBJECTS&RA=136.0157&DEC=24.879951&SR=0.0833333333333:196:0: W06: Invalid UCD 'phot.mag;em.opt;stat.stdev': Primary word 'stat.stdev' is not valid as a secondary word [astropy.io.votable.exceptions]\n",
      "WARNING: W06: http://gsss.stsci.edu/webservices/vo/CatalogSearch.aspx?CAT=PS1V3OBJECTS&RA=136.0157&DEC=24.879951&SR=0.0833333333333:208:0: W06: Invalid UCD 'phot.mag;em.opt;stat.stdev': Primary word 'stat.stdev' is not valid as a secondary word [astropy.io.votable.exceptions]\n",
      "WARNING: W06: http://gsss.stsci.edu/webservices/vo/CatalogSearch.aspx?CAT=PS1V3OBJECTS&RA=136.0157&DEC=24.879951&SR=0.0833333333333:220:0: W06: Invalid UCD 'phot.mag;em.opt;stat.stdev': Primary word 'stat.stdev' is not valid as a secondary word (suppressing further warnings of this type...) [astropy.io.votable.exceptions]\n",
      "WARNING: W48: http://gsss.stsci.edu/webservices/vo/CatalogSearch.aspx?CAT=PS1V3OBJECTS&RA=136.0157&DEC=24.879951&SR=0.0833333333333:302:0: W48: Unknown attribute 'nrows' on TABLEDATA [astropy.io.votable.exceptions]\n"
     ]
    },
    {
     "name": "stdout",
     "output_type": "stream",
     "text": [
      "Downloading http://gsss.stsci.edu/webservices/vo/CatalogSearch.aspx?CAT=PS1V3OBJECTS&RA=135.78861399&DEC=25.6260005059&SR=0.0833333333333 [Done]\n"
     ]
    },
    {
     "name": "stderr",
     "output_type": "stream",
     "text": [
      "WARNING: W06: http://gsss.stsci.edu/webservices/vo/CatalogSearch.aspx?CAT=PS1V3OBJECTS&RA=135.78861399&DEC=25.6260005059&SR=0.0833333333333:100:0: W06: Invalid UCD 'phot.mag;em.opt;stat.stdev': Primary word 'stat.stdev' is not valid as a secondary word [astropy.io.votable.exceptions]\n",
      "WARNING: W06: http://gsss.stsci.edu/webservices/vo/CatalogSearch.aspx?CAT=PS1V3OBJECTS&RA=135.78861399&DEC=25.6260005059&SR=0.0833333333333:118:0: W06: Invalid UCD 'phot.mag;em.opt;stat.stdev': Primary word 'stat.stdev' is not valid as a secondary word [astropy.io.votable.exceptions]\n",
      "WARNING: W06: http://gsss.stsci.edu/webservices/vo/CatalogSearch.aspx?CAT=PS1V3OBJECTS&RA=135.78861399&DEC=25.6260005059&SR=0.0833333333333:136:0: W06: Invalid UCD 'phot.mag;em.opt;stat.stdev': Primary word 'stat.stdev' is not valid as a secondary word [astropy.io.votable.exceptions]\n",
      "WARNING: W06: http://gsss.stsci.edu/webservices/vo/CatalogSearch.aspx?CAT=PS1V3OBJECTS&RA=135.78861399&DEC=25.6260005059&SR=0.0833333333333:154:0: W06: Invalid UCD 'phot.mag;em.opt;stat.stdev': Primary word 'stat.stdev' is not valid as a secondary word [astropy.io.votable.exceptions]\n",
      "WARNING: W06: http://gsss.stsci.edu/webservices/vo/CatalogSearch.aspx?CAT=PS1V3OBJECTS&RA=135.78861399&DEC=25.6260005059&SR=0.0833333333333:172:0: W06: Invalid UCD 'phot.mag;em.opt;stat.stdev': Primary word 'stat.stdev' is not valid as a secondary word [astropy.io.votable.exceptions]\n",
      "WARNING: W06: http://gsss.stsci.edu/webservices/vo/CatalogSearch.aspx?CAT=PS1V3OBJECTS&RA=135.78861399&DEC=25.6260005059&SR=0.0833333333333:184:0: W06: Invalid UCD 'phot.mag;em.opt;stat.stdev': Primary word 'stat.stdev' is not valid as a secondary word [astropy.io.votable.exceptions]\n",
      "WARNING: W06: http://gsss.stsci.edu/webservices/vo/CatalogSearch.aspx?CAT=PS1V3OBJECTS&RA=135.78861399&DEC=25.6260005059&SR=0.0833333333333:187:0: W06: Invalid UCD 'phot.mag;em.opt;;meta.main': Invalid word '' [astropy.io.votable.exceptions]\n",
      "WARNING: W06: http://gsss.stsci.edu/webservices/vo/CatalogSearch.aspx?CAT=PS1V3OBJECTS&RA=135.78861399&DEC=25.6260005059&SR=0.0833333333333:196:0: W06: Invalid UCD 'phot.mag;em.opt;stat.stdev': Primary word 'stat.stdev' is not valid as a secondary word [astropy.io.votable.exceptions]\n",
      "WARNING: W06: http://gsss.stsci.edu/webservices/vo/CatalogSearch.aspx?CAT=PS1V3OBJECTS&RA=135.78861399&DEC=25.6260005059&SR=0.0833333333333:208:0: W06: Invalid UCD 'phot.mag;em.opt;stat.stdev': Primary word 'stat.stdev' is not valid as a secondary word [astropy.io.votable.exceptions]\n",
      "WARNING: W06: http://gsss.stsci.edu/webservices/vo/CatalogSearch.aspx?CAT=PS1V3OBJECTS&RA=135.78861399&DEC=25.6260005059&SR=0.0833333333333:220:0: W06: Invalid UCD 'phot.mag;em.opt;stat.stdev': Primary word 'stat.stdev' is not valid as a secondary word (suppressing further warnings of this type...) [astropy.io.votable.exceptions]\n",
      "WARNING: W48: http://gsss.stsci.edu/webservices/vo/CatalogSearch.aspx?CAT=PS1V3OBJECTS&RA=135.78861399&DEC=25.6260005059&SR=0.0833333333333:302:0: W48: Unknown attribute 'nrows' on TABLEDATA [astropy.io.votable.exceptions]\n"
     ]
    },
    {
     "name": "stdout",
     "output_type": "stream",
     "text": [
      "Downloading http://gsss.stsci.edu/webservices/vo/CatalogSearch.aspx?CAT=PS1V3OBJECTS&RA=136.249089189&DEC=24.1358575918&SR=0.0833333333333 [Done]\n"
     ]
    },
    {
     "name": "stderr",
     "output_type": "stream",
     "text": [
      "WARNING: W06: http://gsss.stsci.edu/webservices/vo/CatalogSearch.aspx?CAT=PS1V3OBJECTS&RA=136.249089189&DEC=24.1358575918&SR=0.0833333333333:100:0: W06: Invalid UCD 'phot.mag;em.opt;stat.stdev': Primary word 'stat.stdev' is not valid as a secondary word [astropy.io.votable.exceptions]\n",
      "WARNING: W06: http://gsss.stsci.edu/webservices/vo/CatalogSearch.aspx?CAT=PS1V3OBJECTS&RA=136.249089189&DEC=24.1358575918&SR=0.0833333333333:118:0: W06: Invalid UCD 'phot.mag;em.opt;stat.stdev': Primary word 'stat.stdev' is not valid as a secondary word [astropy.io.votable.exceptions]\n",
      "WARNING: W06: http://gsss.stsci.edu/webservices/vo/CatalogSearch.aspx?CAT=PS1V3OBJECTS&RA=136.249089189&DEC=24.1358575918&SR=0.0833333333333:136:0: W06: Invalid UCD 'phot.mag;em.opt;stat.stdev': Primary word 'stat.stdev' is not valid as a secondary word [astropy.io.votable.exceptions]\n",
      "WARNING: W06: http://gsss.stsci.edu/webservices/vo/CatalogSearch.aspx?CAT=PS1V3OBJECTS&RA=136.249089189&DEC=24.1358575918&SR=0.0833333333333:154:0: W06: Invalid UCD 'phot.mag;em.opt;stat.stdev': Primary word 'stat.stdev' is not valid as a secondary word [astropy.io.votable.exceptions]\n",
      "WARNING: W06: http://gsss.stsci.edu/webservices/vo/CatalogSearch.aspx?CAT=PS1V3OBJECTS&RA=136.249089189&DEC=24.1358575918&SR=0.0833333333333:172:0: W06: Invalid UCD 'phot.mag;em.opt;stat.stdev': Primary word 'stat.stdev' is not valid as a secondary word [astropy.io.votable.exceptions]\n",
      "WARNING: W06: http://gsss.stsci.edu/webservices/vo/CatalogSearch.aspx?CAT=PS1V3OBJECTS&RA=136.249089189&DEC=24.1358575918&SR=0.0833333333333:184:0: W06: Invalid UCD 'phot.mag;em.opt;stat.stdev': Primary word 'stat.stdev' is not valid as a secondary word [astropy.io.votable.exceptions]\n",
      "WARNING: W06: http://gsss.stsci.edu/webservices/vo/CatalogSearch.aspx?CAT=PS1V3OBJECTS&RA=136.249089189&DEC=24.1358575918&SR=0.0833333333333:187:0: W06: Invalid UCD 'phot.mag;em.opt;;meta.main': Invalid word '' [astropy.io.votable.exceptions]\n",
      "WARNING: W06: http://gsss.stsci.edu/webservices/vo/CatalogSearch.aspx?CAT=PS1V3OBJECTS&RA=136.249089189&DEC=24.1358575918&SR=0.0833333333333:196:0: W06: Invalid UCD 'phot.mag;em.opt;stat.stdev': Primary word 'stat.stdev' is not valid as a secondary word [astropy.io.votable.exceptions]\n",
      "WARNING: W06: http://gsss.stsci.edu/webservices/vo/CatalogSearch.aspx?CAT=PS1V3OBJECTS&RA=136.249089189&DEC=24.1358575918&SR=0.0833333333333:208:0: W06: Invalid UCD 'phot.mag;em.opt;stat.stdev': Primary word 'stat.stdev' is not valid as a secondary word [astropy.io.votable.exceptions]\n",
      "WARNING: W06: http://gsss.stsci.edu/webservices/vo/CatalogSearch.aspx?CAT=PS1V3OBJECTS&RA=136.249089189&DEC=24.1358575918&SR=0.0833333333333:220:0: W06: Invalid UCD 'phot.mag;em.opt;stat.stdev': Primary word 'stat.stdev' is not valid as a secondary word (suppressing further warnings of this type...) [astropy.io.votable.exceptions]\n",
      "WARNING: W48: http://gsss.stsci.edu/webservices/vo/CatalogSearch.aspx?CAT=PS1V3OBJECTS&RA=136.249089189&DEC=24.1358575918&SR=0.0833333333333:302:0: W48: Unknown attribute 'nrows' on TABLEDATA [astropy.io.votable.exceptions]\n"
     ]
    },
    {
     "name": "stdout",
     "output_type": "stream",
     "text": [
      "14 1561035.044\n",
      "Downloading http://gsss.stsci.edu/webservices/vo/CatalogSearch.aspx?CAT=PS1V3OBJECTS&RA=152.85674&DEC=8.7087545&SR=0.0833333333333 [Done]\n"
     ]
    },
    {
     "name": "stderr",
     "output_type": "stream",
     "text": [
      "WARNING: W06: http://gsss.stsci.edu/webservices/vo/CatalogSearch.aspx?CAT=PS1V3OBJECTS&RA=152.85674&DEC=8.7087545&SR=0.0833333333333:100:0: W06: Invalid UCD 'phot.mag;em.opt;stat.stdev': Primary word 'stat.stdev' is not valid as a secondary word [astropy.io.votable.exceptions]\n",
      "WARNING: W06: http://gsss.stsci.edu/webservices/vo/CatalogSearch.aspx?CAT=PS1V3OBJECTS&RA=152.85674&DEC=8.7087545&SR=0.0833333333333:118:0: W06: Invalid UCD 'phot.mag;em.opt;stat.stdev': Primary word 'stat.stdev' is not valid as a secondary word [astropy.io.votable.exceptions]\n",
      "WARNING: W06: http://gsss.stsci.edu/webservices/vo/CatalogSearch.aspx?CAT=PS1V3OBJECTS&RA=152.85674&DEC=8.7087545&SR=0.0833333333333:136:0: W06: Invalid UCD 'phot.mag;em.opt;stat.stdev': Primary word 'stat.stdev' is not valid as a secondary word [astropy.io.votable.exceptions]\n",
      "WARNING: W06: http://gsss.stsci.edu/webservices/vo/CatalogSearch.aspx?CAT=PS1V3OBJECTS&RA=152.85674&DEC=8.7087545&SR=0.0833333333333:154:0: W06: Invalid UCD 'phot.mag;em.opt;stat.stdev': Primary word 'stat.stdev' is not valid as a secondary word [astropy.io.votable.exceptions]\n",
      "WARNING: W06: http://gsss.stsci.edu/webservices/vo/CatalogSearch.aspx?CAT=PS1V3OBJECTS&RA=152.85674&DEC=8.7087545&SR=0.0833333333333:172:0: W06: Invalid UCD 'phot.mag;em.opt;stat.stdev': Primary word 'stat.stdev' is not valid as a secondary word [astropy.io.votable.exceptions]\n",
      "WARNING: W06: http://gsss.stsci.edu/webservices/vo/CatalogSearch.aspx?CAT=PS1V3OBJECTS&RA=152.85674&DEC=8.7087545&SR=0.0833333333333:184:0: W06: Invalid UCD 'phot.mag;em.opt;stat.stdev': Primary word 'stat.stdev' is not valid as a secondary word [astropy.io.votable.exceptions]\n",
      "WARNING: W06: http://gsss.stsci.edu/webservices/vo/CatalogSearch.aspx?CAT=PS1V3OBJECTS&RA=152.85674&DEC=8.7087545&SR=0.0833333333333:187:0: W06: Invalid UCD 'phot.mag;em.opt;;meta.main': Invalid word '' [astropy.io.votable.exceptions]\n",
      "WARNING: W06: http://gsss.stsci.edu/webservices/vo/CatalogSearch.aspx?CAT=PS1V3OBJECTS&RA=152.85674&DEC=8.7087545&SR=0.0833333333333:196:0: W06: Invalid UCD 'phot.mag;em.opt;stat.stdev': Primary word 'stat.stdev' is not valid as a secondary word [astropy.io.votable.exceptions]\n",
      "WARNING: W06: http://gsss.stsci.edu/webservices/vo/CatalogSearch.aspx?CAT=PS1V3OBJECTS&RA=152.85674&DEC=8.7087545&SR=0.0833333333333:208:0: W06: Invalid UCD 'phot.mag;em.opt;stat.stdev': Primary word 'stat.stdev' is not valid as a secondary word [astropy.io.votable.exceptions]\n",
      "WARNING: W06: http://gsss.stsci.edu/webservices/vo/CatalogSearch.aspx?CAT=PS1V3OBJECTS&RA=152.85674&DEC=8.7087545&SR=0.0833333333333:220:0: W06: Invalid UCD 'phot.mag;em.opt;stat.stdev': Primary word 'stat.stdev' is not valid as a secondary word (suppressing further warnings of this type...) [astropy.io.votable.exceptions]\n",
      "WARNING: W48: http://gsss.stsci.edu/webservices/vo/CatalogSearch.aspx?CAT=PS1V3OBJECTS&RA=152.85674&DEC=8.7087545&SR=0.0833333333333:302:0: W48: Unknown attribute 'nrows' on TABLEDATA [astropy.io.votable.exceptions]\n"
     ]
    },
    {
     "name": "stdout",
     "output_type": "stream",
     "text": [
      "Downloading http://gsss.stsci.edu/webservices/vo/CatalogSearch.aspx?CAT=PS1V3OBJECTS&RA=152.508399915&DEC=9.28293560257&SR=0.0833333333333 [Done]\n"
     ]
    },
    {
     "name": "stderr",
     "output_type": "stream",
     "text": [
      "WARNING: W06: http://gsss.stsci.edu/webservices/vo/CatalogSearch.aspx?CAT=PS1V3OBJECTS&RA=152.508399915&DEC=9.28293560257&SR=0.0833333333333:100:0: W06: Invalid UCD 'phot.mag;em.opt;stat.stdev': Primary word 'stat.stdev' is not valid as a secondary word [astropy.io.votable.exceptions]\n",
      "WARNING: W06: http://gsss.stsci.edu/webservices/vo/CatalogSearch.aspx?CAT=PS1V3OBJECTS&RA=152.508399915&DEC=9.28293560257&SR=0.0833333333333:118:0: W06: Invalid UCD 'phot.mag;em.opt;stat.stdev': Primary word 'stat.stdev' is not valid as a secondary word [astropy.io.votable.exceptions]\n",
      "WARNING: W06: http://gsss.stsci.edu/webservices/vo/CatalogSearch.aspx?CAT=PS1V3OBJECTS&RA=152.508399915&DEC=9.28293560257&SR=0.0833333333333:136:0: W06: Invalid UCD 'phot.mag;em.opt;stat.stdev': Primary word 'stat.stdev' is not valid as a secondary word [astropy.io.votable.exceptions]\n",
      "WARNING: W06: http://gsss.stsci.edu/webservices/vo/CatalogSearch.aspx?CAT=PS1V3OBJECTS&RA=152.508399915&DEC=9.28293560257&SR=0.0833333333333:154:0: W06: Invalid UCD 'phot.mag;em.opt;stat.stdev': Primary word 'stat.stdev' is not valid as a secondary word [astropy.io.votable.exceptions]\n",
      "WARNING: W06: http://gsss.stsci.edu/webservices/vo/CatalogSearch.aspx?CAT=PS1V3OBJECTS&RA=152.508399915&DEC=9.28293560257&SR=0.0833333333333:172:0: W06: Invalid UCD 'phot.mag;em.opt;stat.stdev': Primary word 'stat.stdev' is not valid as a secondary word [astropy.io.votable.exceptions]\n",
      "WARNING: W06: http://gsss.stsci.edu/webservices/vo/CatalogSearch.aspx?CAT=PS1V3OBJECTS&RA=152.508399915&DEC=9.28293560257&SR=0.0833333333333:184:0: W06: Invalid UCD 'phot.mag;em.opt;stat.stdev': Primary word 'stat.stdev' is not valid as a secondary word [astropy.io.votable.exceptions]\n",
      "WARNING: W06: http://gsss.stsci.edu/webservices/vo/CatalogSearch.aspx?CAT=PS1V3OBJECTS&RA=152.508399915&DEC=9.28293560257&SR=0.0833333333333:187:0: W06: Invalid UCD 'phot.mag;em.opt;;meta.main': Invalid word '' [astropy.io.votable.exceptions]\n",
      "WARNING: W06: http://gsss.stsci.edu/webservices/vo/CatalogSearch.aspx?CAT=PS1V3OBJECTS&RA=152.508399915&DEC=9.28293560257&SR=0.0833333333333:196:0: W06: Invalid UCD 'phot.mag;em.opt;stat.stdev': Primary word 'stat.stdev' is not valid as a secondary word [astropy.io.votable.exceptions]\n",
      "WARNING: W06: http://gsss.stsci.edu/webservices/vo/CatalogSearch.aspx?CAT=PS1V3OBJECTS&RA=152.508399915&DEC=9.28293560257&SR=0.0833333333333:208:0: W06: Invalid UCD 'phot.mag;em.opt;stat.stdev': Primary word 'stat.stdev' is not valid as a secondary word [astropy.io.votable.exceptions]\n",
      "WARNING: W06: http://gsss.stsci.edu/webservices/vo/CatalogSearch.aspx?CAT=PS1V3OBJECTS&RA=152.508399915&DEC=9.28293560257&SR=0.0833333333333:220:0: W06: Invalid UCD 'phot.mag;em.opt;stat.stdev': Primary word 'stat.stdev' is not valid as a secondary word (suppressing further warnings of this type...) [astropy.io.votable.exceptions]\n",
      "WARNING: W48: http://gsss.stsci.edu/webservices/vo/CatalogSearch.aspx?CAT=PS1V3OBJECTS&RA=152.508399915&DEC=9.28293560257&SR=0.0833333333333:302:0: W48: Unknown attribute 'nrows' on TABLEDATA [astropy.io.votable.exceptions]\n"
     ]
    },
    {
     "name": "stdout",
     "output_type": "stream",
     "text": [
      "Downloading http://gsss.stsci.edu/webservices/vo/CatalogSearch.aspx?CAT=PS1V3OBJECTS&RA=153.211509486&DEC=8.13875652048&SR=0.0833333333333 [Done]\n"
     ]
    },
    {
     "name": "stderr",
     "output_type": "stream",
     "text": [
      "WARNING: W06: http://gsss.stsci.edu/webservices/vo/CatalogSearch.aspx?CAT=PS1V3OBJECTS&RA=153.211509486&DEC=8.13875652048&SR=0.0833333333333:100:0: W06: Invalid UCD 'phot.mag;em.opt;stat.stdev': Primary word 'stat.stdev' is not valid as a secondary word [astropy.io.votable.exceptions]\n",
      "WARNING: W06: http://gsss.stsci.edu/webservices/vo/CatalogSearch.aspx?CAT=PS1V3OBJECTS&RA=153.211509486&DEC=8.13875652048&SR=0.0833333333333:118:0: W06: Invalid UCD 'phot.mag;em.opt;stat.stdev': Primary word 'stat.stdev' is not valid as a secondary word [astropy.io.votable.exceptions]\n",
      "WARNING: W06: http://gsss.stsci.edu/webservices/vo/CatalogSearch.aspx?CAT=PS1V3OBJECTS&RA=153.211509486&DEC=8.13875652048&SR=0.0833333333333:136:0: W06: Invalid UCD 'phot.mag;em.opt;stat.stdev': Primary word 'stat.stdev' is not valid as a secondary word [astropy.io.votable.exceptions]\n",
      "WARNING: W06: http://gsss.stsci.edu/webservices/vo/CatalogSearch.aspx?CAT=PS1V3OBJECTS&RA=153.211509486&DEC=8.13875652048&SR=0.0833333333333:154:0: W06: Invalid UCD 'phot.mag;em.opt;stat.stdev': Primary word 'stat.stdev' is not valid as a secondary word [astropy.io.votable.exceptions]\n",
      "WARNING: W06: http://gsss.stsci.edu/webservices/vo/CatalogSearch.aspx?CAT=PS1V3OBJECTS&RA=153.211509486&DEC=8.13875652048&SR=0.0833333333333:172:0: W06: Invalid UCD 'phot.mag;em.opt;stat.stdev': Primary word 'stat.stdev' is not valid as a secondary word [astropy.io.votable.exceptions]\n",
      "WARNING: W06: http://gsss.stsci.edu/webservices/vo/CatalogSearch.aspx?CAT=PS1V3OBJECTS&RA=153.211509486&DEC=8.13875652048&SR=0.0833333333333:184:0: W06: Invalid UCD 'phot.mag;em.opt;stat.stdev': Primary word 'stat.stdev' is not valid as a secondary word [astropy.io.votable.exceptions]\n",
      "WARNING: W06: http://gsss.stsci.edu/webservices/vo/CatalogSearch.aspx?CAT=PS1V3OBJECTS&RA=153.211509486&DEC=8.13875652048&SR=0.0833333333333:187:0: W06: Invalid UCD 'phot.mag;em.opt;;meta.main': Invalid word '' [astropy.io.votable.exceptions]\n",
      "WARNING: W06: http://gsss.stsci.edu/webservices/vo/CatalogSearch.aspx?CAT=PS1V3OBJECTS&RA=153.211509486&DEC=8.13875652048&SR=0.0833333333333:196:0: W06: Invalid UCD 'phot.mag;em.opt;stat.stdev': Primary word 'stat.stdev' is not valid as a secondary word [astropy.io.votable.exceptions]\n",
      "WARNING: W06: http://gsss.stsci.edu/webservices/vo/CatalogSearch.aspx?CAT=PS1V3OBJECTS&RA=153.211509486&DEC=8.13875652048&SR=0.0833333333333:208:0: W06: Invalid UCD 'phot.mag;em.opt;stat.stdev': Primary word 'stat.stdev' is not valid as a secondary word [astropy.io.votable.exceptions]\n",
      "WARNING: W06: http://gsss.stsci.edu/webservices/vo/CatalogSearch.aspx?CAT=PS1V3OBJECTS&RA=153.211509486&DEC=8.13875652048&SR=0.0833333333333:220:0: W06: Invalid UCD 'phot.mag;em.opt;stat.stdev': Primary word 'stat.stdev' is not valid as a secondary word (suppressing further warnings of this type...) [astropy.io.votable.exceptions]\n",
      "WARNING: W48: http://gsss.stsci.edu/webservices/vo/CatalogSearch.aspx?CAT=PS1V3OBJECTS&RA=153.211509486&DEC=8.13875652048&SR=0.0833333333333:302:0: W48: Unknown attribute 'nrows' on TABLEDATA [astropy.io.votable.exceptions]\n"
     ]
    },
    {
     "name": "stdout",
     "output_type": "stream",
     "text": [
      "15 1561835.041\n",
      "Downloading http://gsss.stsci.edu/webservices/vo/CatalogSearch.aspx?CAT=PS1V3OBJECTS&RA=155.77587&DEC=20.688252&SR=0.0833333333333 [Done]\n"
     ]
    },
    {
     "name": "stderr",
     "output_type": "stream",
     "text": [
      "WARNING: W06: http://gsss.stsci.edu/webservices/vo/CatalogSearch.aspx?CAT=PS1V3OBJECTS&RA=155.77587&DEC=20.688252&SR=0.0833333333333:100:0: W06: Invalid UCD 'phot.mag;em.opt;stat.stdev': Primary word 'stat.stdev' is not valid as a secondary word [astropy.io.votable.exceptions]\n",
      "WARNING: W06: http://gsss.stsci.edu/webservices/vo/CatalogSearch.aspx?CAT=PS1V3OBJECTS&RA=155.77587&DEC=20.688252&SR=0.0833333333333:118:0: W06: Invalid UCD 'phot.mag;em.opt;stat.stdev': Primary word 'stat.stdev' is not valid as a secondary word [astropy.io.votable.exceptions]\n",
      "WARNING: W06: http://gsss.stsci.edu/webservices/vo/CatalogSearch.aspx?CAT=PS1V3OBJECTS&RA=155.77587&DEC=20.688252&SR=0.0833333333333:136:0: W06: Invalid UCD 'phot.mag;em.opt;stat.stdev': Primary word 'stat.stdev' is not valid as a secondary word [astropy.io.votable.exceptions]\n",
      "WARNING: W06: http://gsss.stsci.edu/webservices/vo/CatalogSearch.aspx?CAT=PS1V3OBJECTS&RA=155.77587&DEC=20.688252&SR=0.0833333333333:154:0: W06: Invalid UCD 'phot.mag;em.opt;stat.stdev': Primary word 'stat.stdev' is not valid as a secondary word [astropy.io.votable.exceptions]\n",
      "WARNING: W06: http://gsss.stsci.edu/webservices/vo/CatalogSearch.aspx?CAT=PS1V3OBJECTS&RA=155.77587&DEC=20.688252&SR=0.0833333333333:172:0: W06: Invalid UCD 'phot.mag;em.opt;stat.stdev': Primary word 'stat.stdev' is not valid as a secondary word [astropy.io.votable.exceptions]\n",
      "WARNING: W06: http://gsss.stsci.edu/webservices/vo/CatalogSearch.aspx?CAT=PS1V3OBJECTS&RA=155.77587&DEC=20.688252&SR=0.0833333333333:184:0: W06: Invalid UCD 'phot.mag;em.opt;stat.stdev': Primary word 'stat.stdev' is not valid as a secondary word [astropy.io.votable.exceptions]\n",
      "WARNING: W06: http://gsss.stsci.edu/webservices/vo/CatalogSearch.aspx?CAT=PS1V3OBJECTS&RA=155.77587&DEC=20.688252&SR=0.0833333333333:187:0: W06: Invalid UCD 'phot.mag;em.opt;;meta.main': Invalid word '' [astropy.io.votable.exceptions]\n",
      "WARNING: W06: http://gsss.stsci.edu/webservices/vo/CatalogSearch.aspx?CAT=PS1V3OBJECTS&RA=155.77587&DEC=20.688252&SR=0.0833333333333:196:0: W06: Invalid UCD 'phot.mag;em.opt;stat.stdev': Primary word 'stat.stdev' is not valid as a secondary word [astropy.io.votable.exceptions]\n",
      "WARNING: W06: http://gsss.stsci.edu/webservices/vo/CatalogSearch.aspx?CAT=PS1V3OBJECTS&RA=155.77587&DEC=20.688252&SR=0.0833333333333:208:0: W06: Invalid UCD 'phot.mag;em.opt;stat.stdev': Primary word 'stat.stdev' is not valid as a secondary word [astropy.io.votable.exceptions]\n",
      "WARNING: W06: http://gsss.stsci.edu/webservices/vo/CatalogSearch.aspx?CAT=PS1V3OBJECTS&RA=155.77587&DEC=20.688252&SR=0.0833333333333:220:0: W06: Invalid UCD 'phot.mag;em.opt;stat.stdev': Primary word 'stat.stdev' is not valid as a secondary word (suppressing further warnings of this type...) [astropy.io.votable.exceptions]\n",
      "WARNING: W48: http://gsss.stsci.edu/webservices/vo/CatalogSearch.aspx?CAT=PS1V3OBJECTS&RA=155.77587&DEC=20.688252&SR=0.0833333333333:302:0: W48: Unknown attribute 'nrows' on TABLEDATA [astropy.io.votable.exceptions]\n"
     ]
    },
    {
     "name": "stdout",
     "output_type": "stream",
     "text": [
      "Downloading http://gsss.stsci.edu/webservices/vo/CatalogSearch.aspx?CAT=PS1V3OBJECTS&RA=155.591482929&DEC=21.2260455055&SR=0.0833333333333 [Done]\n"
     ]
    },
    {
     "name": "stderr",
     "output_type": "stream",
     "text": [
      "WARNING: W06: http://gsss.stsci.edu/webservices/vo/CatalogSearch.aspx?CAT=PS1V3OBJECTS&RA=155.591482929&DEC=21.2260455055&SR=0.0833333333333:100:0: W06: Invalid UCD 'phot.mag;em.opt;stat.stdev': Primary word 'stat.stdev' is not valid as a secondary word [astropy.io.votable.exceptions]\n",
      "WARNING: W06: http://gsss.stsci.edu/webservices/vo/CatalogSearch.aspx?CAT=PS1V3OBJECTS&RA=155.591482929&DEC=21.2260455055&SR=0.0833333333333:118:0: W06: Invalid UCD 'phot.mag;em.opt;stat.stdev': Primary word 'stat.stdev' is not valid as a secondary word [astropy.io.votable.exceptions]\n",
      "WARNING: W06: http://gsss.stsci.edu/webservices/vo/CatalogSearch.aspx?CAT=PS1V3OBJECTS&RA=155.591482929&DEC=21.2260455055&SR=0.0833333333333:136:0: W06: Invalid UCD 'phot.mag;em.opt;stat.stdev': Primary word 'stat.stdev' is not valid as a secondary word [astropy.io.votable.exceptions]\n",
      "WARNING: W06: http://gsss.stsci.edu/webservices/vo/CatalogSearch.aspx?CAT=PS1V3OBJECTS&RA=155.591482929&DEC=21.2260455055&SR=0.0833333333333:154:0: W06: Invalid UCD 'phot.mag;em.opt;stat.stdev': Primary word 'stat.stdev' is not valid as a secondary word [astropy.io.votable.exceptions]\n",
      "WARNING: W06: http://gsss.stsci.edu/webservices/vo/CatalogSearch.aspx?CAT=PS1V3OBJECTS&RA=155.591482929&DEC=21.2260455055&SR=0.0833333333333:172:0: W06: Invalid UCD 'phot.mag;em.opt;stat.stdev': Primary word 'stat.stdev' is not valid as a secondary word [astropy.io.votable.exceptions]\n",
      "WARNING: W06: http://gsss.stsci.edu/webservices/vo/CatalogSearch.aspx?CAT=PS1V3OBJECTS&RA=155.591482929&DEC=21.2260455055&SR=0.0833333333333:184:0: W06: Invalid UCD 'phot.mag;em.opt;stat.stdev': Primary word 'stat.stdev' is not valid as a secondary word [astropy.io.votable.exceptions]\n",
      "WARNING: W06: http://gsss.stsci.edu/webservices/vo/CatalogSearch.aspx?CAT=PS1V3OBJECTS&RA=155.591482929&DEC=21.2260455055&SR=0.0833333333333:187:0: W06: Invalid UCD 'phot.mag;em.opt;;meta.main': Invalid word '' [astropy.io.votable.exceptions]\n",
      "WARNING: W06: http://gsss.stsci.edu/webservices/vo/CatalogSearch.aspx?CAT=PS1V3OBJECTS&RA=155.591482929&DEC=21.2260455055&SR=0.0833333333333:196:0: W06: Invalid UCD 'phot.mag;em.opt;stat.stdev': Primary word 'stat.stdev' is not valid as a secondary word [astropy.io.votable.exceptions]\n",
      "WARNING: W06: http://gsss.stsci.edu/webservices/vo/CatalogSearch.aspx?CAT=PS1V3OBJECTS&RA=155.591482929&DEC=21.2260455055&SR=0.0833333333333:208:0: W06: Invalid UCD 'phot.mag;em.opt;stat.stdev': Primary word 'stat.stdev' is not valid as a secondary word [astropy.io.votable.exceptions]\n",
      "WARNING: W06: http://gsss.stsci.edu/webservices/vo/CatalogSearch.aspx?CAT=PS1V3OBJECTS&RA=155.591482929&DEC=21.2260455055&SR=0.0833333333333:220:0: W06: Invalid UCD 'phot.mag;em.opt;stat.stdev': Primary word 'stat.stdev' is not valid as a secondary word (suppressing further warnings of this type...) [astropy.io.votable.exceptions]\n",
      "WARNING: W48: http://gsss.stsci.edu/webservices/vo/CatalogSearch.aspx?CAT=PS1V3OBJECTS&RA=155.591482929&DEC=21.2260455055&SR=0.0833333333333:302:0: W48: Unknown attribute 'nrows' on TABLEDATA [astropy.io.votable.exceptions]\n"
     ]
    },
    {
     "name": "stdout",
     "output_type": "stream",
     "text": [
      "Downloading http://gsss.stsci.edu/webservices/vo/CatalogSearch.aspx?CAT=PS1V3OBJECTS&RA=155.967191136&DEC=20.1527864557&SR=0.0833333333333 [Done]\n"
     ]
    },
    {
     "name": "stderr",
     "output_type": "stream",
     "text": [
      "WARNING: W06: http://gsss.stsci.edu/webservices/vo/CatalogSearch.aspx?CAT=PS1V3OBJECTS&RA=155.967191136&DEC=20.1527864557&SR=0.0833333333333:100:0: W06: Invalid UCD 'phot.mag;em.opt;stat.stdev': Primary word 'stat.stdev' is not valid as a secondary word [astropy.io.votable.exceptions]\n",
      "WARNING: W06: http://gsss.stsci.edu/webservices/vo/CatalogSearch.aspx?CAT=PS1V3OBJECTS&RA=155.967191136&DEC=20.1527864557&SR=0.0833333333333:118:0: W06: Invalid UCD 'phot.mag;em.opt;stat.stdev': Primary word 'stat.stdev' is not valid as a secondary word [astropy.io.votable.exceptions]\n",
      "WARNING: W06: http://gsss.stsci.edu/webservices/vo/CatalogSearch.aspx?CAT=PS1V3OBJECTS&RA=155.967191136&DEC=20.1527864557&SR=0.0833333333333:136:0: W06: Invalid UCD 'phot.mag;em.opt;stat.stdev': Primary word 'stat.stdev' is not valid as a secondary word [astropy.io.votable.exceptions]\n",
      "WARNING: W06: http://gsss.stsci.edu/webservices/vo/CatalogSearch.aspx?CAT=PS1V3OBJECTS&RA=155.967191136&DEC=20.1527864557&SR=0.0833333333333:154:0: W06: Invalid UCD 'phot.mag;em.opt;stat.stdev': Primary word 'stat.stdev' is not valid as a secondary word [astropy.io.votable.exceptions]\n",
      "WARNING: W06: http://gsss.stsci.edu/webservices/vo/CatalogSearch.aspx?CAT=PS1V3OBJECTS&RA=155.967191136&DEC=20.1527864557&SR=0.0833333333333:172:0: W06: Invalid UCD 'phot.mag;em.opt;stat.stdev': Primary word 'stat.stdev' is not valid as a secondary word [astropy.io.votable.exceptions]\n",
      "WARNING: W06: http://gsss.stsci.edu/webservices/vo/CatalogSearch.aspx?CAT=PS1V3OBJECTS&RA=155.967191136&DEC=20.1527864557&SR=0.0833333333333:184:0: W06: Invalid UCD 'phot.mag;em.opt;stat.stdev': Primary word 'stat.stdev' is not valid as a secondary word [astropy.io.votable.exceptions]\n",
      "WARNING: W06: http://gsss.stsci.edu/webservices/vo/CatalogSearch.aspx?CAT=PS1V3OBJECTS&RA=155.967191136&DEC=20.1527864557&SR=0.0833333333333:187:0: W06: Invalid UCD 'phot.mag;em.opt;;meta.main': Invalid word '' [astropy.io.votable.exceptions]\n",
      "WARNING: W06: http://gsss.stsci.edu/webservices/vo/CatalogSearch.aspx?CAT=PS1V3OBJECTS&RA=155.967191136&DEC=20.1527864557&SR=0.0833333333333:196:0: W06: Invalid UCD 'phot.mag;em.opt;stat.stdev': Primary word 'stat.stdev' is not valid as a secondary word [astropy.io.votable.exceptions]\n",
      "WARNING: W06: http://gsss.stsci.edu/webservices/vo/CatalogSearch.aspx?CAT=PS1V3OBJECTS&RA=155.967191136&DEC=20.1527864557&SR=0.0833333333333:208:0: W06: Invalid UCD 'phot.mag;em.opt;stat.stdev': Primary word 'stat.stdev' is not valid as a secondary word [astropy.io.votable.exceptions]\n",
      "WARNING: W06: http://gsss.stsci.edu/webservices/vo/CatalogSearch.aspx?CAT=PS1V3OBJECTS&RA=155.967191136&DEC=20.1527864557&SR=0.0833333333333:220:0: W06: Invalid UCD 'phot.mag;em.opt;stat.stdev': Primary word 'stat.stdev' is not valid as a secondary word (suppressing further warnings of this type...) [astropy.io.votable.exceptions]\n",
      "WARNING: W48: http://gsss.stsci.edu/webservices/vo/CatalogSearch.aspx?CAT=PS1V3OBJECTS&RA=155.967191136&DEC=20.1527864557&SR=0.0833333333333:302:0: W48: Unknown attribute 'nrows' on TABLEDATA [astropy.io.votable.exceptions]\n"
     ]
    },
    {
     "name": "stdout",
     "output_type": "stream",
     "text": [
      "16 2361835.041\n",
      "Downloading http://gsss.stsci.edu/webservices/vo/CatalogSearch.aspx?CAT=PS1V3OBJECTS&RA=236.50743&DEC=18.892028&SR=0.0833333333333 [Done]\n"
     ]
    },
    {
     "name": "stderr",
     "output_type": "stream",
     "text": [
      "WARNING: W06: http://gsss.stsci.edu/webservices/vo/CatalogSearch.aspx?CAT=PS1V3OBJECTS&RA=236.50743&DEC=18.892028&SR=0.0833333333333:100:0: W06: Invalid UCD 'phot.mag;em.opt;stat.stdev': Primary word 'stat.stdev' is not valid as a secondary word [astropy.io.votable.exceptions]\n",
      "WARNING: W06: http://gsss.stsci.edu/webservices/vo/CatalogSearch.aspx?CAT=PS1V3OBJECTS&RA=236.50743&DEC=18.892028&SR=0.0833333333333:118:0: W06: Invalid UCD 'phot.mag;em.opt;stat.stdev': Primary word 'stat.stdev' is not valid as a secondary word [astropy.io.votable.exceptions]\n",
      "WARNING: W06: http://gsss.stsci.edu/webservices/vo/CatalogSearch.aspx?CAT=PS1V3OBJECTS&RA=236.50743&DEC=18.892028&SR=0.0833333333333:136:0: W06: Invalid UCD 'phot.mag;em.opt;stat.stdev': Primary word 'stat.stdev' is not valid as a secondary word [astropy.io.votable.exceptions]\n",
      "WARNING: W06: http://gsss.stsci.edu/webservices/vo/CatalogSearch.aspx?CAT=PS1V3OBJECTS&RA=236.50743&DEC=18.892028&SR=0.0833333333333:154:0: W06: Invalid UCD 'phot.mag;em.opt;stat.stdev': Primary word 'stat.stdev' is not valid as a secondary word [astropy.io.votable.exceptions]\n",
      "WARNING: W06: http://gsss.stsci.edu/webservices/vo/CatalogSearch.aspx?CAT=PS1V3OBJECTS&RA=236.50743&DEC=18.892028&SR=0.0833333333333:172:0: W06: Invalid UCD 'phot.mag;em.opt;stat.stdev': Primary word 'stat.stdev' is not valid as a secondary word [astropy.io.votable.exceptions]\n",
      "WARNING: W06: http://gsss.stsci.edu/webservices/vo/CatalogSearch.aspx?CAT=PS1V3OBJECTS&RA=236.50743&DEC=18.892028&SR=0.0833333333333:184:0: W06: Invalid UCD 'phot.mag;em.opt;stat.stdev': Primary word 'stat.stdev' is not valid as a secondary word [astropy.io.votable.exceptions]\n",
      "WARNING: W06: http://gsss.stsci.edu/webservices/vo/CatalogSearch.aspx?CAT=PS1V3OBJECTS&RA=236.50743&DEC=18.892028&SR=0.0833333333333:187:0: W06: Invalid UCD 'phot.mag;em.opt;;meta.main': Invalid word '' [astropy.io.votable.exceptions]\n",
      "WARNING: W06: http://gsss.stsci.edu/webservices/vo/CatalogSearch.aspx?CAT=PS1V3OBJECTS&RA=236.50743&DEC=18.892028&SR=0.0833333333333:196:0: W06: Invalid UCD 'phot.mag;em.opt;stat.stdev': Primary word 'stat.stdev' is not valid as a secondary word [astropy.io.votable.exceptions]\n",
      "WARNING: W06: http://gsss.stsci.edu/webservices/vo/CatalogSearch.aspx?CAT=PS1V3OBJECTS&RA=236.50743&DEC=18.892028&SR=0.0833333333333:208:0: W06: Invalid UCD 'phot.mag;em.opt;stat.stdev': Primary word 'stat.stdev' is not valid as a secondary word [astropy.io.votable.exceptions]\n",
      "WARNING: W06: http://gsss.stsci.edu/webservices/vo/CatalogSearch.aspx?CAT=PS1V3OBJECTS&RA=236.50743&DEC=18.892028&SR=0.0833333333333:220:0: W06: Invalid UCD 'phot.mag;em.opt;stat.stdev': Primary word 'stat.stdev' is not valid as a secondary word (suppressing further warnings of this type...) [astropy.io.votable.exceptions]\n",
      "WARNING: W48: http://gsss.stsci.edu/webservices/vo/CatalogSearch.aspx?CAT=PS1V3OBJECTS&RA=236.50743&DEC=18.892028&SR=0.0833333333333:302:0: W48: Unknown attribute 'nrows' on TABLEDATA [astropy.io.votable.exceptions]\n"
     ]
    },
    {
     "name": "stdout",
     "output_type": "stream",
     "text": [
      "Downloading http://gsss.stsci.edu/webservices/vo/CatalogSearch.aspx?CAT=PS1V3OBJECTS&RA=236.268417248&DEC=18.2790742472&SR=0.0833333333333 [Done]\n"
     ]
    },
    {
     "name": "stderr",
     "output_type": "stream",
     "text": [
      "WARNING: W06: http://gsss.stsci.edu/webservices/vo/CatalogSearch.aspx?CAT=PS1V3OBJECTS&RA=236.268417248&DEC=18.2790742472&SR=0.0833333333333:100:0: W06: Invalid UCD 'phot.mag;em.opt;stat.stdev': Primary word 'stat.stdev' is not valid as a secondary word [astropy.io.votable.exceptions]\n",
      "WARNING: W06: http://gsss.stsci.edu/webservices/vo/CatalogSearch.aspx?CAT=PS1V3OBJECTS&RA=236.268417248&DEC=18.2790742472&SR=0.0833333333333:118:0: W06: Invalid UCD 'phot.mag;em.opt;stat.stdev': Primary word 'stat.stdev' is not valid as a secondary word [astropy.io.votable.exceptions]\n",
      "WARNING: W06: http://gsss.stsci.edu/webservices/vo/CatalogSearch.aspx?CAT=PS1V3OBJECTS&RA=236.268417248&DEC=18.2790742472&SR=0.0833333333333:136:0: W06: Invalid UCD 'phot.mag;em.opt;stat.stdev': Primary word 'stat.stdev' is not valid as a secondary word [astropy.io.votable.exceptions]\n",
      "WARNING: W06: http://gsss.stsci.edu/webservices/vo/CatalogSearch.aspx?CAT=PS1V3OBJECTS&RA=236.268417248&DEC=18.2790742472&SR=0.0833333333333:154:0: W06: Invalid UCD 'phot.mag;em.opt;stat.stdev': Primary word 'stat.stdev' is not valid as a secondary word [astropy.io.votable.exceptions]\n",
      "WARNING: W06: http://gsss.stsci.edu/webservices/vo/CatalogSearch.aspx?CAT=PS1V3OBJECTS&RA=236.268417248&DEC=18.2790742472&SR=0.0833333333333:172:0: W06: Invalid UCD 'phot.mag;em.opt;stat.stdev': Primary word 'stat.stdev' is not valid as a secondary word [astropy.io.votable.exceptions]\n",
      "WARNING: W06: http://gsss.stsci.edu/webservices/vo/CatalogSearch.aspx?CAT=PS1V3OBJECTS&RA=236.268417248&DEC=18.2790742472&SR=0.0833333333333:184:0: W06: Invalid UCD 'phot.mag;em.opt;stat.stdev': Primary word 'stat.stdev' is not valid as a secondary word [astropy.io.votable.exceptions]\n",
      "WARNING: W06: http://gsss.stsci.edu/webservices/vo/CatalogSearch.aspx?CAT=PS1V3OBJECTS&RA=236.268417248&DEC=18.2790742472&SR=0.0833333333333:187:0: W06: Invalid UCD 'phot.mag;em.opt;;meta.main': Invalid word '' [astropy.io.votable.exceptions]\n",
      "WARNING: W06: http://gsss.stsci.edu/webservices/vo/CatalogSearch.aspx?CAT=PS1V3OBJECTS&RA=236.268417248&DEC=18.2790742472&SR=0.0833333333333:196:0: W06: Invalid UCD 'phot.mag;em.opt;stat.stdev': Primary word 'stat.stdev' is not valid as a secondary word [astropy.io.votable.exceptions]\n",
      "WARNING: W06: http://gsss.stsci.edu/webservices/vo/CatalogSearch.aspx?CAT=PS1V3OBJECTS&RA=236.268417248&DEC=18.2790742472&SR=0.0833333333333:208:0: W06: Invalid UCD 'phot.mag;em.opt;stat.stdev': Primary word 'stat.stdev' is not valid as a secondary word [astropy.io.votable.exceptions]\n",
      "WARNING: W06: http://gsss.stsci.edu/webservices/vo/CatalogSearch.aspx?CAT=PS1V3OBJECTS&RA=236.268417248&DEC=18.2790742472&SR=0.0833333333333:220:0: W06: Invalid UCD 'phot.mag;em.opt;stat.stdev': Primary word 'stat.stdev' is not valid as a secondary word (suppressing further warnings of this type...) [astropy.io.votable.exceptions]\n",
      "WARNING: W48: http://gsss.stsci.edu/webservices/vo/CatalogSearch.aspx?CAT=PS1V3OBJECTS&RA=236.268417248&DEC=18.2790742472&SR=0.0833333333333:302:0: W48: Unknown attribute 'nrows' on TABLEDATA [astropy.io.votable.exceptions]\n"
     ]
    },
    {
     "name": "stdout",
     "output_type": "stream",
     "text": [
      "Downloading http://gsss.stsci.edu/webservices/vo/CatalogSearch.aspx?CAT=PS1V3OBJECTS&RA=236.739593751&DEC=19.5076298259&SR=0.0833333333333 [Done]\n"
     ]
    },
    {
     "name": "stderr",
     "output_type": "stream",
     "text": [
      "WARNING: W06: http://gsss.stsci.edu/webservices/vo/CatalogSearch.aspx?CAT=PS1V3OBJECTS&RA=236.739593751&DEC=19.5076298259&SR=0.0833333333333:100:0: W06: Invalid UCD 'phot.mag;em.opt;stat.stdev': Primary word 'stat.stdev' is not valid as a secondary word [astropy.io.votable.exceptions]\n",
      "WARNING: W06: http://gsss.stsci.edu/webservices/vo/CatalogSearch.aspx?CAT=PS1V3OBJECTS&RA=236.739593751&DEC=19.5076298259&SR=0.0833333333333:118:0: W06: Invalid UCD 'phot.mag;em.opt;stat.stdev': Primary word 'stat.stdev' is not valid as a secondary word [astropy.io.votable.exceptions]\n",
      "WARNING: W06: http://gsss.stsci.edu/webservices/vo/CatalogSearch.aspx?CAT=PS1V3OBJECTS&RA=236.739593751&DEC=19.5076298259&SR=0.0833333333333:136:0: W06: Invalid UCD 'phot.mag;em.opt;stat.stdev': Primary word 'stat.stdev' is not valid as a secondary word [astropy.io.votable.exceptions]\n",
      "WARNING: W06: http://gsss.stsci.edu/webservices/vo/CatalogSearch.aspx?CAT=PS1V3OBJECTS&RA=236.739593751&DEC=19.5076298259&SR=0.0833333333333:154:0: W06: Invalid UCD 'phot.mag;em.opt;stat.stdev': Primary word 'stat.stdev' is not valid as a secondary word [astropy.io.votable.exceptions]\n",
      "WARNING: W06: http://gsss.stsci.edu/webservices/vo/CatalogSearch.aspx?CAT=PS1V3OBJECTS&RA=236.739593751&DEC=19.5076298259&SR=0.0833333333333:172:0: W06: Invalid UCD 'phot.mag;em.opt;stat.stdev': Primary word 'stat.stdev' is not valid as a secondary word [astropy.io.votable.exceptions]\n",
      "WARNING: W06: http://gsss.stsci.edu/webservices/vo/CatalogSearch.aspx?CAT=PS1V3OBJECTS&RA=236.739593751&DEC=19.5076298259&SR=0.0833333333333:184:0: W06: Invalid UCD 'phot.mag;em.opt;stat.stdev': Primary word 'stat.stdev' is not valid as a secondary word [astropy.io.votable.exceptions]\n",
      "WARNING: W06: http://gsss.stsci.edu/webservices/vo/CatalogSearch.aspx?CAT=PS1V3OBJECTS&RA=236.739593751&DEC=19.5076298259&SR=0.0833333333333:187:0: W06: Invalid UCD 'phot.mag;em.opt;;meta.main': Invalid word '' [astropy.io.votable.exceptions]\n",
      "WARNING: W06: http://gsss.stsci.edu/webservices/vo/CatalogSearch.aspx?CAT=PS1V3OBJECTS&RA=236.739593751&DEC=19.5076298259&SR=0.0833333333333:196:0: W06: Invalid UCD 'phot.mag;em.opt;stat.stdev': Primary word 'stat.stdev' is not valid as a secondary word [astropy.io.votable.exceptions]\n",
      "WARNING: W06: http://gsss.stsci.edu/webservices/vo/CatalogSearch.aspx?CAT=PS1V3OBJECTS&RA=236.739593751&DEC=19.5076298259&SR=0.0833333333333:208:0: W06: Invalid UCD 'phot.mag;em.opt;stat.stdev': Primary word 'stat.stdev' is not valid as a secondary word [astropy.io.votable.exceptions]\n",
      "WARNING: W06: http://gsss.stsci.edu/webservices/vo/CatalogSearch.aspx?CAT=PS1V3OBJECTS&RA=236.739593751&DEC=19.5076298259&SR=0.0833333333333:220:0: W06: Invalid UCD 'phot.mag;em.opt;stat.stdev': Primary word 'stat.stdev' is not valid as a secondary word (suppressing further warnings of this type...) [astropy.io.votable.exceptions]\n",
      "WARNING: W48: http://gsss.stsci.edu/webservices/vo/CatalogSearch.aspx?CAT=PS1V3OBJECTS&RA=236.739593751&DEC=19.5076298259&SR=0.0833333333333:302:0: W48: Unknown attribute 'nrows' on TABLEDATA [astropy.io.votable.exceptions]\n"
     ]
    },
    {
     "name": "stdout",
     "output_type": "stream",
     "text": [
      "17 2362635.041\n",
      "Downloading http://gsss.stsci.edu/webservices/vo/CatalogSearch.aspx?CAT=PS1V3OBJECTS&RA=236.20668&DEC=25.82917&SR=0.0833333333333 [Done]\n"
     ]
    },
    {
     "name": "stderr",
     "output_type": "stream",
     "text": [
      "WARNING: W06: http://gsss.stsci.edu/webservices/vo/CatalogSearch.aspx?CAT=PS1V3OBJECTS&RA=236.20668&DEC=25.82917&SR=0.0833333333333:100:0: W06: Invalid UCD 'phot.mag;em.opt;stat.stdev': Primary word 'stat.stdev' is not valid as a secondary word [astropy.io.votable.exceptions]\n",
      "WARNING: W06: http://gsss.stsci.edu/webservices/vo/CatalogSearch.aspx?CAT=PS1V3OBJECTS&RA=236.20668&DEC=25.82917&SR=0.0833333333333:118:0: W06: Invalid UCD 'phot.mag;em.opt;stat.stdev': Primary word 'stat.stdev' is not valid as a secondary word [astropy.io.votable.exceptions]\n",
      "WARNING: W06: http://gsss.stsci.edu/webservices/vo/CatalogSearch.aspx?CAT=PS1V3OBJECTS&RA=236.20668&DEC=25.82917&SR=0.0833333333333:136:0: W06: Invalid UCD 'phot.mag;em.opt;stat.stdev': Primary word 'stat.stdev' is not valid as a secondary word [astropy.io.votable.exceptions]\n",
      "WARNING: W06: http://gsss.stsci.edu/webservices/vo/CatalogSearch.aspx?CAT=PS1V3OBJECTS&RA=236.20668&DEC=25.82917&SR=0.0833333333333:154:0: W06: Invalid UCD 'phot.mag;em.opt;stat.stdev': Primary word 'stat.stdev' is not valid as a secondary word [astropy.io.votable.exceptions]\n",
      "WARNING: W06: http://gsss.stsci.edu/webservices/vo/CatalogSearch.aspx?CAT=PS1V3OBJECTS&RA=236.20668&DEC=25.82917&SR=0.0833333333333:172:0: W06: Invalid UCD 'phot.mag;em.opt;stat.stdev': Primary word 'stat.stdev' is not valid as a secondary word [astropy.io.votable.exceptions]\n",
      "WARNING: W06: http://gsss.stsci.edu/webservices/vo/CatalogSearch.aspx?CAT=PS1V3OBJECTS&RA=236.20668&DEC=25.82917&SR=0.0833333333333:184:0: W06: Invalid UCD 'phot.mag;em.opt;stat.stdev': Primary word 'stat.stdev' is not valid as a secondary word [astropy.io.votable.exceptions]\n",
      "WARNING: W06: http://gsss.stsci.edu/webservices/vo/CatalogSearch.aspx?CAT=PS1V3OBJECTS&RA=236.20668&DEC=25.82917&SR=0.0833333333333:187:0: W06: Invalid UCD 'phot.mag;em.opt;;meta.main': Invalid word '' [astropy.io.votable.exceptions]\n",
      "WARNING: W06: http://gsss.stsci.edu/webservices/vo/CatalogSearch.aspx?CAT=PS1V3OBJECTS&RA=236.20668&DEC=25.82917&SR=0.0833333333333:196:0: W06: Invalid UCD 'phot.mag;em.opt;stat.stdev': Primary word 'stat.stdev' is not valid as a secondary word [astropy.io.votable.exceptions]\n",
      "WARNING: W06: http://gsss.stsci.edu/webservices/vo/CatalogSearch.aspx?CAT=PS1V3OBJECTS&RA=236.20668&DEC=25.82917&SR=0.0833333333333:208:0: W06: Invalid UCD 'phot.mag;em.opt;stat.stdev': Primary word 'stat.stdev' is not valid as a secondary word [astropy.io.votable.exceptions]\n",
      "WARNING: W06: http://gsss.stsci.edu/webservices/vo/CatalogSearch.aspx?CAT=PS1V3OBJECTS&RA=236.20668&DEC=25.82917&SR=0.0833333333333:220:0: W06: Invalid UCD 'phot.mag;em.opt;stat.stdev': Primary word 'stat.stdev' is not valid as a secondary word (suppressing further warnings of this type...) [astropy.io.votable.exceptions]\n",
      "WARNING: W48: http://gsss.stsci.edu/webservices/vo/CatalogSearch.aspx?CAT=PS1V3OBJECTS&RA=236.20668&DEC=25.82917&SR=0.0833333333333:302:0: W48: Unknown attribute 'nrows' on TABLEDATA [astropy.io.votable.exceptions]\n"
     ]
    },
    {
     "name": "stdout",
     "output_type": "stream",
     "text": [
      "Downloading http://gsss.stsci.edu/webservices/vo/CatalogSearch.aspx?CAT=PS1V3OBJECTS&RA=236.060101735&DEC=25.2190877005&SR=0.0833333333333 [Done]\n"
     ]
    },
    {
     "name": "stderr",
     "output_type": "stream",
     "text": [
      "WARNING: W06: http://gsss.stsci.edu/webservices/vo/CatalogSearch.aspx?CAT=PS1V3OBJECTS&RA=236.060101735&DEC=25.2190877005&SR=0.0833333333333:100:0: W06: Invalid UCD 'phot.mag;em.opt;stat.stdev': Primary word 'stat.stdev' is not valid as a secondary word [astropy.io.votable.exceptions]\n",
      "WARNING: W06: http://gsss.stsci.edu/webservices/vo/CatalogSearch.aspx?CAT=PS1V3OBJECTS&RA=236.060101735&DEC=25.2190877005&SR=0.0833333333333:118:0: W06: Invalid UCD 'phot.mag;em.opt;stat.stdev': Primary word 'stat.stdev' is not valid as a secondary word [astropy.io.votable.exceptions]\n",
      "WARNING: W06: http://gsss.stsci.edu/webservices/vo/CatalogSearch.aspx?CAT=PS1V3OBJECTS&RA=236.060101735&DEC=25.2190877005&SR=0.0833333333333:136:0: W06: Invalid UCD 'phot.mag;em.opt;stat.stdev': Primary word 'stat.stdev' is not valid as a secondary word [astropy.io.votable.exceptions]\n",
      "WARNING: W06: http://gsss.stsci.edu/webservices/vo/CatalogSearch.aspx?CAT=PS1V3OBJECTS&RA=236.060101735&DEC=25.2190877005&SR=0.0833333333333:154:0: W06: Invalid UCD 'phot.mag;em.opt;stat.stdev': Primary word 'stat.stdev' is not valid as a secondary word [astropy.io.votable.exceptions]\n",
      "WARNING: W06: http://gsss.stsci.edu/webservices/vo/CatalogSearch.aspx?CAT=PS1V3OBJECTS&RA=236.060101735&DEC=25.2190877005&SR=0.0833333333333:172:0: W06: Invalid UCD 'phot.mag;em.opt;stat.stdev': Primary word 'stat.stdev' is not valid as a secondary word [astropy.io.votable.exceptions]\n",
      "WARNING: W06: http://gsss.stsci.edu/webservices/vo/CatalogSearch.aspx?CAT=PS1V3OBJECTS&RA=236.060101735&DEC=25.2190877005&SR=0.0833333333333:184:0: W06: Invalid UCD 'phot.mag;em.opt;stat.stdev': Primary word 'stat.stdev' is not valid as a secondary word [astropy.io.votable.exceptions]\n",
      "WARNING: W06: http://gsss.stsci.edu/webservices/vo/CatalogSearch.aspx?CAT=PS1V3OBJECTS&RA=236.060101735&DEC=25.2190877005&SR=0.0833333333333:187:0: W06: Invalid UCD 'phot.mag;em.opt;;meta.main': Invalid word '' [astropy.io.votable.exceptions]\n",
      "WARNING: W06: http://gsss.stsci.edu/webservices/vo/CatalogSearch.aspx?CAT=PS1V3OBJECTS&RA=236.060101735&DEC=25.2190877005&SR=0.0833333333333:196:0: W06: Invalid UCD 'phot.mag;em.opt;stat.stdev': Primary word 'stat.stdev' is not valid as a secondary word [astropy.io.votable.exceptions]\n",
      "WARNING: W06: http://gsss.stsci.edu/webservices/vo/CatalogSearch.aspx?CAT=PS1V3OBJECTS&RA=236.060101735&DEC=25.2190877005&SR=0.0833333333333:208:0: W06: Invalid UCD 'phot.mag;em.opt;stat.stdev': Primary word 'stat.stdev' is not valid as a secondary word [astropy.io.votable.exceptions]\n",
      "WARNING: W06: http://gsss.stsci.edu/webservices/vo/CatalogSearch.aspx?CAT=PS1V3OBJECTS&RA=236.060101735&DEC=25.2190877005&SR=0.0833333333333:220:0: W06: Invalid UCD 'phot.mag;em.opt;stat.stdev': Primary word 'stat.stdev' is not valid as a secondary word (suppressing further warnings of this type...) [astropy.io.votable.exceptions]\n",
      "WARNING: W48: http://gsss.stsci.edu/webservices/vo/CatalogSearch.aspx?CAT=PS1V3OBJECTS&RA=236.060101735&DEC=25.2190877005&SR=0.0833333333333:302:0: W48: Unknown attribute 'nrows' on TABLEDATA [astropy.io.votable.exceptions]\n"
     ]
    },
    {
     "name": "stdout",
     "output_type": "stream",
     "text": [
      "Downloading http://gsss.stsci.edu/webservices/vo/CatalogSearch.aspx?CAT=PS1V3OBJECTS&RA=236.345476747&DEC=26.4408642329&SR=0.0833333333333 [Done]\n"
     ]
    },
    {
     "name": "stderr",
     "output_type": "stream",
     "text": [
      "WARNING: W06: http://gsss.stsci.edu/webservices/vo/CatalogSearch.aspx?CAT=PS1V3OBJECTS&RA=236.345476747&DEC=26.4408642329&SR=0.0833333333333:100:0: W06: Invalid UCD 'phot.mag;em.opt;stat.stdev': Primary word 'stat.stdev' is not valid as a secondary word [astropy.io.votable.exceptions]\n",
      "WARNING: W06: http://gsss.stsci.edu/webservices/vo/CatalogSearch.aspx?CAT=PS1V3OBJECTS&RA=236.345476747&DEC=26.4408642329&SR=0.0833333333333:118:0: W06: Invalid UCD 'phot.mag;em.opt;stat.stdev': Primary word 'stat.stdev' is not valid as a secondary word [astropy.io.votable.exceptions]\n",
      "WARNING: W06: http://gsss.stsci.edu/webservices/vo/CatalogSearch.aspx?CAT=PS1V3OBJECTS&RA=236.345476747&DEC=26.4408642329&SR=0.0833333333333:136:0: W06: Invalid UCD 'phot.mag;em.opt;stat.stdev': Primary word 'stat.stdev' is not valid as a secondary word [astropy.io.votable.exceptions]\n",
      "WARNING: W06: http://gsss.stsci.edu/webservices/vo/CatalogSearch.aspx?CAT=PS1V3OBJECTS&RA=236.345476747&DEC=26.4408642329&SR=0.0833333333333:154:0: W06: Invalid UCD 'phot.mag;em.opt;stat.stdev': Primary word 'stat.stdev' is not valid as a secondary word [astropy.io.votable.exceptions]\n",
      "WARNING: W06: http://gsss.stsci.edu/webservices/vo/CatalogSearch.aspx?CAT=PS1V3OBJECTS&RA=236.345476747&DEC=26.4408642329&SR=0.0833333333333:172:0: W06: Invalid UCD 'phot.mag;em.opt;stat.stdev': Primary word 'stat.stdev' is not valid as a secondary word [astropy.io.votable.exceptions]\n",
      "WARNING: W06: http://gsss.stsci.edu/webservices/vo/CatalogSearch.aspx?CAT=PS1V3OBJECTS&RA=236.345476747&DEC=26.4408642329&SR=0.0833333333333:184:0: W06: Invalid UCD 'phot.mag;em.opt;stat.stdev': Primary word 'stat.stdev' is not valid as a secondary word [astropy.io.votable.exceptions]\n",
      "WARNING: W06: http://gsss.stsci.edu/webservices/vo/CatalogSearch.aspx?CAT=PS1V3OBJECTS&RA=236.345476747&DEC=26.4408642329&SR=0.0833333333333:187:0: W06: Invalid UCD 'phot.mag;em.opt;;meta.main': Invalid word '' [astropy.io.votable.exceptions]\n",
      "WARNING: W06: http://gsss.stsci.edu/webservices/vo/CatalogSearch.aspx?CAT=PS1V3OBJECTS&RA=236.345476747&DEC=26.4408642329&SR=0.0833333333333:196:0: W06: Invalid UCD 'phot.mag;em.opt;stat.stdev': Primary word 'stat.stdev' is not valid as a secondary word [astropy.io.votable.exceptions]\n",
      "WARNING: W06: http://gsss.stsci.edu/webservices/vo/CatalogSearch.aspx?CAT=PS1V3OBJECTS&RA=236.345476747&DEC=26.4408642329&SR=0.0833333333333:208:0: W06: Invalid UCD 'phot.mag;em.opt;stat.stdev': Primary word 'stat.stdev' is not valid as a secondary word [astropy.io.votable.exceptions]\n",
      "WARNING: W06: http://gsss.stsci.edu/webservices/vo/CatalogSearch.aspx?CAT=PS1V3OBJECTS&RA=236.345476747&DEC=26.4408642329&SR=0.0833333333333:220:0: W06: Invalid UCD 'phot.mag;em.opt;stat.stdev': Primary word 'stat.stdev' is not valid as a secondary word (suppressing further warnings of this type...) [astropy.io.votable.exceptions]\n",
      "WARNING: W48: http://gsss.stsci.edu/webservices/vo/CatalogSearch.aspx?CAT=PS1V3OBJECTS&RA=236.345476747&DEC=26.4408642329&SR=0.0833333333333:302:0: W48: Unknown attribute 'nrows' on TABLEDATA [astropy.io.votable.exceptions]\n"
     ]
    },
    {
     "name": "stdout",
     "output_type": "stream",
     "text": [
      "18 2363435.021\n",
      "Downloading http://gsss.stsci.edu/webservices/vo/CatalogSearch.aspx?CAT=PS1V3OBJECTS&RA=232.20942&DEC=30.986448&SR=0.0833333333333 [Done]\n"
     ]
    },
    {
     "name": "stderr",
     "output_type": "stream",
     "text": [
      "WARNING: W06: http://gsss.stsci.edu/webservices/vo/CatalogSearch.aspx?CAT=PS1V3OBJECTS&RA=232.20942&DEC=30.986448&SR=0.0833333333333:100:0: W06: Invalid UCD 'phot.mag;em.opt;stat.stdev': Primary word 'stat.stdev' is not valid as a secondary word [astropy.io.votable.exceptions]\n",
      "WARNING: W06: http://gsss.stsci.edu/webservices/vo/CatalogSearch.aspx?CAT=PS1V3OBJECTS&RA=232.20942&DEC=30.986448&SR=0.0833333333333:118:0: W06: Invalid UCD 'phot.mag;em.opt;stat.stdev': Primary word 'stat.stdev' is not valid as a secondary word [astropy.io.votable.exceptions]\n",
      "WARNING: W06: http://gsss.stsci.edu/webservices/vo/CatalogSearch.aspx?CAT=PS1V3OBJECTS&RA=232.20942&DEC=30.986448&SR=0.0833333333333:136:0: W06: Invalid UCD 'phot.mag;em.opt;stat.stdev': Primary word 'stat.stdev' is not valid as a secondary word [astropy.io.votable.exceptions]\n",
      "WARNING: W06: http://gsss.stsci.edu/webservices/vo/CatalogSearch.aspx?CAT=PS1V3OBJECTS&RA=232.20942&DEC=30.986448&SR=0.0833333333333:154:0: W06: Invalid UCD 'phot.mag;em.opt;stat.stdev': Primary word 'stat.stdev' is not valid as a secondary word [astropy.io.votable.exceptions]\n",
      "WARNING: W06: http://gsss.stsci.edu/webservices/vo/CatalogSearch.aspx?CAT=PS1V3OBJECTS&RA=232.20942&DEC=30.986448&SR=0.0833333333333:172:0: W06: Invalid UCD 'phot.mag;em.opt;stat.stdev': Primary word 'stat.stdev' is not valid as a secondary word [astropy.io.votable.exceptions]\n",
      "WARNING: W06: http://gsss.stsci.edu/webservices/vo/CatalogSearch.aspx?CAT=PS1V3OBJECTS&RA=232.20942&DEC=30.986448&SR=0.0833333333333:184:0: W06: Invalid UCD 'phot.mag;em.opt;stat.stdev': Primary word 'stat.stdev' is not valid as a secondary word [astropy.io.votable.exceptions]\n",
      "WARNING: W06: http://gsss.stsci.edu/webservices/vo/CatalogSearch.aspx?CAT=PS1V3OBJECTS&RA=232.20942&DEC=30.986448&SR=0.0833333333333:187:0: W06: Invalid UCD 'phot.mag;em.opt;;meta.main': Invalid word '' [astropy.io.votable.exceptions]\n",
      "WARNING: W06: http://gsss.stsci.edu/webservices/vo/CatalogSearch.aspx?CAT=PS1V3OBJECTS&RA=232.20942&DEC=30.986448&SR=0.0833333333333:196:0: W06: Invalid UCD 'phot.mag;em.opt;stat.stdev': Primary word 'stat.stdev' is not valid as a secondary word [astropy.io.votable.exceptions]\n",
      "WARNING: W06: http://gsss.stsci.edu/webservices/vo/CatalogSearch.aspx?CAT=PS1V3OBJECTS&RA=232.20942&DEC=30.986448&SR=0.0833333333333:208:0: W06: Invalid UCD 'phot.mag;em.opt;stat.stdev': Primary word 'stat.stdev' is not valid as a secondary word [astropy.io.votable.exceptions]\n",
      "WARNING: W06: http://gsss.stsci.edu/webservices/vo/CatalogSearch.aspx?CAT=PS1V3OBJECTS&RA=232.20942&DEC=30.986448&SR=0.0833333333333:220:0: W06: Invalid UCD 'phot.mag;em.opt;stat.stdev': Primary word 'stat.stdev' is not valid as a secondary word (suppressing further warnings of this type...) [astropy.io.votable.exceptions]\n",
      "WARNING: W48: http://gsss.stsci.edu/webservices/vo/CatalogSearch.aspx?CAT=PS1V3OBJECTS&RA=232.20942&DEC=30.986448&SR=0.0833333333333:302:0: W48: Unknown attribute 'nrows' on TABLEDATA [astropy.io.votable.exceptions]\n"
     ]
    },
    {
     "name": "stdout",
     "output_type": "stream",
     "text": [
      "Downloading http://gsss.stsci.edu/webservices/vo/CatalogSearch.aspx?CAT=PS1V3OBJECTS&RA=232.162278217&DEC=30.4224207649&SR=0.0833333333333 [Done]\n"
     ]
    },
    {
     "name": "stderr",
     "output_type": "stream",
     "text": [
      "WARNING: W06: http://gsss.stsci.edu/webservices/vo/CatalogSearch.aspx?CAT=PS1V3OBJECTS&RA=232.162278217&DEC=30.4224207649&SR=0.0833333333333:100:0: W06: Invalid UCD 'phot.mag;em.opt;stat.stdev': Primary word 'stat.stdev' is not valid as a secondary word [astropy.io.votable.exceptions]\n",
      "WARNING: W06: http://gsss.stsci.edu/webservices/vo/CatalogSearch.aspx?CAT=PS1V3OBJECTS&RA=232.162278217&DEC=30.4224207649&SR=0.0833333333333:118:0: W06: Invalid UCD 'phot.mag;em.opt;stat.stdev': Primary word 'stat.stdev' is not valid as a secondary word [astropy.io.votable.exceptions]\n",
      "WARNING: W06: http://gsss.stsci.edu/webservices/vo/CatalogSearch.aspx?CAT=PS1V3OBJECTS&RA=232.162278217&DEC=30.4224207649&SR=0.0833333333333:136:0: W06: Invalid UCD 'phot.mag;em.opt;stat.stdev': Primary word 'stat.stdev' is not valid as a secondary word [astropy.io.votable.exceptions]\n",
      "WARNING: W06: http://gsss.stsci.edu/webservices/vo/CatalogSearch.aspx?CAT=PS1V3OBJECTS&RA=232.162278217&DEC=30.4224207649&SR=0.0833333333333:154:0: W06: Invalid UCD 'phot.mag;em.opt;stat.stdev': Primary word 'stat.stdev' is not valid as a secondary word [astropy.io.votable.exceptions]\n",
      "WARNING: W06: http://gsss.stsci.edu/webservices/vo/CatalogSearch.aspx?CAT=PS1V3OBJECTS&RA=232.162278217&DEC=30.4224207649&SR=0.0833333333333:172:0: W06: Invalid UCD 'phot.mag;em.opt;stat.stdev': Primary word 'stat.stdev' is not valid as a secondary word [astropy.io.votable.exceptions]\n",
      "WARNING: W06: http://gsss.stsci.edu/webservices/vo/CatalogSearch.aspx?CAT=PS1V3OBJECTS&RA=232.162278217&DEC=30.4224207649&SR=0.0833333333333:184:0: W06: Invalid UCD 'phot.mag;em.opt;stat.stdev': Primary word 'stat.stdev' is not valid as a secondary word [astropy.io.votable.exceptions]\n",
      "WARNING: W06: http://gsss.stsci.edu/webservices/vo/CatalogSearch.aspx?CAT=PS1V3OBJECTS&RA=232.162278217&DEC=30.4224207649&SR=0.0833333333333:187:0: W06: Invalid UCD 'phot.mag;em.opt;;meta.main': Invalid word '' [astropy.io.votable.exceptions]\n",
      "WARNING: W06: http://gsss.stsci.edu/webservices/vo/CatalogSearch.aspx?CAT=PS1V3OBJECTS&RA=232.162278217&DEC=30.4224207649&SR=0.0833333333333:196:0: W06: Invalid UCD 'phot.mag;em.opt;stat.stdev': Primary word 'stat.stdev' is not valid as a secondary word [astropy.io.votable.exceptions]\n",
      "WARNING: W06: http://gsss.stsci.edu/webservices/vo/CatalogSearch.aspx?CAT=PS1V3OBJECTS&RA=232.162278217&DEC=30.4224207649&SR=0.0833333333333:208:0: W06: Invalid UCD 'phot.mag;em.opt;stat.stdev': Primary word 'stat.stdev' is not valid as a secondary word [astropy.io.votable.exceptions]\n",
      "WARNING: W06: http://gsss.stsci.edu/webservices/vo/CatalogSearch.aspx?CAT=PS1V3OBJECTS&RA=232.162278217&DEC=30.4224207649&SR=0.0833333333333:220:0: W06: Invalid UCD 'phot.mag;em.opt;stat.stdev': Primary word 'stat.stdev' is not valid as a secondary word (suppressing further warnings of this type...) [astropy.io.votable.exceptions]\n",
      "WARNING: W48: http://gsss.stsci.edu/webservices/vo/CatalogSearch.aspx?CAT=PS1V3OBJECTS&RA=232.162278217&DEC=30.4224207649&SR=0.0833333333333:302:0: W48: Unknown attribute 'nrows' on TABLEDATA [astropy.io.votable.exceptions]\n"
     ]
    },
    {
     "name": "stdout",
     "output_type": "stream",
     "text": [
      "Downloading http://gsss.stsci.edu/webservices/vo/CatalogSearch.aspx?CAT=PS1V3OBJECTS&RA=232.247590956&DEC=31.5509877842&SR=0.0833333333333 [Done]\n"
     ]
    },
    {
     "name": "stderr",
     "output_type": "stream",
     "text": [
      "WARNING: W06: http://gsss.stsci.edu/webservices/vo/CatalogSearch.aspx?CAT=PS1V3OBJECTS&RA=232.247590956&DEC=31.5509877842&SR=0.0833333333333:100:0: W06: Invalid UCD 'phot.mag;em.opt;stat.stdev': Primary word 'stat.stdev' is not valid as a secondary word [astropy.io.votable.exceptions]\n",
      "WARNING: W06: http://gsss.stsci.edu/webservices/vo/CatalogSearch.aspx?CAT=PS1V3OBJECTS&RA=232.247590956&DEC=31.5509877842&SR=0.0833333333333:118:0: W06: Invalid UCD 'phot.mag;em.opt;stat.stdev': Primary word 'stat.stdev' is not valid as a secondary word [astropy.io.votable.exceptions]\n",
      "WARNING: W06: http://gsss.stsci.edu/webservices/vo/CatalogSearch.aspx?CAT=PS1V3OBJECTS&RA=232.247590956&DEC=31.5509877842&SR=0.0833333333333:136:0: W06: Invalid UCD 'phot.mag;em.opt;stat.stdev': Primary word 'stat.stdev' is not valid as a secondary word [astropy.io.votable.exceptions]\n",
      "WARNING: W06: http://gsss.stsci.edu/webservices/vo/CatalogSearch.aspx?CAT=PS1V3OBJECTS&RA=232.247590956&DEC=31.5509877842&SR=0.0833333333333:154:0: W06: Invalid UCD 'phot.mag;em.opt;stat.stdev': Primary word 'stat.stdev' is not valid as a secondary word [astropy.io.votable.exceptions]\n",
      "WARNING: W06: http://gsss.stsci.edu/webservices/vo/CatalogSearch.aspx?CAT=PS1V3OBJECTS&RA=232.247590956&DEC=31.5509877842&SR=0.0833333333333:172:0: W06: Invalid UCD 'phot.mag;em.opt;stat.stdev': Primary word 'stat.stdev' is not valid as a secondary word [astropy.io.votable.exceptions]\n",
      "WARNING: W06: http://gsss.stsci.edu/webservices/vo/CatalogSearch.aspx?CAT=PS1V3OBJECTS&RA=232.247590956&DEC=31.5509877842&SR=0.0833333333333:184:0: W06: Invalid UCD 'phot.mag;em.opt;stat.stdev': Primary word 'stat.stdev' is not valid as a secondary word [astropy.io.votable.exceptions]\n",
      "WARNING: W06: http://gsss.stsci.edu/webservices/vo/CatalogSearch.aspx?CAT=PS1V3OBJECTS&RA=232.247590956&DEC=31.5509877842&SR=0.0833333333333:187:0: W06: Invalid UCD 'phot.mag;em.opt;;meta.main': Invalid word '' [astropy.io.votable.exceptions]\n",
      "WARNING: W06: http://gsss.stsci.edu/webservices/vo/CatalogSearch.aspx?CAT=PS1V3OBJECTS&RA=232.247590956&DEC=31.5509877842&SR=0.0833333333333:196:0: W06: Invalid UCD 'phot.mag;em.opt;stat.stdev': Primary word 'stat.stdev' is not valid as a secondary word [astropy.io.votable.exceptions]\n",
      "WARNING: W06: http://gsss.stsci.edu/webservices/vo/CatalogSearch.aspx?CAT=PS1V3OBJECTS&RA=232.247590956&DEC=31.5509877842&SR=0.0833333333333:208:0: W06: Invalid UCD 'phot.mag;em.opt;stat.stdev': Primary word 'stat.stdev' is not valid as a secondary word [astropy.io.votable.exceptions]\n",
      "WARNING: W06: http://gsss.stsci.edu/webservices/vo/CatalogSearch.aspx?CAT=PS1V3OBJECTS&RA=232.247590956&DEC=31.5509877842&SR=0.0833333333333:220:0: W06: Invalid UCD 'phot.mag;em.opt;stat.stdev': Primary word 'stat.stdev' is not valid as a secondary word (suppressing further warnings of this type...) [astropy.io.votable.exceptions]\n",
      "WARNING: W48: http://gsss.stsci.edu/webservices/vo/CatalogSearch.aspx?CAT=PS1V3OBJECTS&RA=232.247590956&DEC=31.5509877842&SR=0.0833333333333:302:0: W48: Unknown attribute 'nrows' on TABLEDATA [astropy.io.votable.exceptions]\n"
     ]
    },
    {
     "name": "stdout",
     "output_type": "stream",
     "text": [
      "19 2840235.002\n",
      "Downloading http://gsss.stsci.edu/webservices/vo/CatalogSearch.aspx?CAT=PS1V3OBJECTS&RA=285.57409&DEC=6.4829568&SR=0.0833333333333 [Done]\n"
     ]
    },
    {
     "name": "stderr",
     "output_type": "stream",
     "text": [
      "WARNING: W06: http://gsss.stsci.edu/webservices/vo/CatalogSearch.aspx?CAT=PS1V3OBJECTS&RA=285.57409&DEC=6.4829568&SR=0.0833333333333:100:0: W06: Invalid UCD 'phot.mag;em.opt;stat.stdev': Primary word 'stat.stdev' is not valid as a secondary word [astropy.io.votable.exceptions]\n",
      "WARNING: W06: http://gsss.stsci.edu/webservices/vo/CatalogSearch.aspx?CAT=PS1V3OBJECTS&RA=285.57409&DEC=6.4829568&SR=0.0833333333333:118:0: W06: Invalid UCD 'phot.mag;em.opt;stat.stdev': Primary word 'stat.stdev' is not valid as a secondary word [astropy.io.votable.exceptions]\n",
      "WARNING: W06: http://gsss.stsci.edu/webservices/vo/CatalogSearch.aspx?CAT=PS1V3OBJECTS&RA=285.57409&DEC=6.4829568&SR=0.0833333333333:136:0: W06: Invalid UCD 'phot.mag;em.opt;stat.stdev': Primary word 'stat.stdev' is not valid as a secondary word [astropy.io.votable.exceptions]\n",
      "WARNING: W06: http://gsss.stsci.edu/webservices/vo/CatalogSearch.aspx?CAT=PS1V3OBJECTS&RA=285.57409&DEC=6.4829568&SR=0.0833333333333:154:0: W06: Invalid UCD 'phot.mag;em.opt;stat.stdev': Primary word 'stat.stdev' is not valid as a secondary word [astropy.io.votable.exceptions]\n",
      "WARNING: W06: http://gsss.stsci.edu/webservices/vo/CatalogSearch.aspx?CAT=PS1V3OBJECTS&RA=285.57409&DEC=6.4829568&SR=0.0833333333333:172:0: W06: Invalid UCD 'phot.mag;em.opt;stat.stdev': Primary word 'stat.stdev' is not valid as a secondary word [astropy.io.votable.exceptions]\n",
      "WARNING: W06: http://gsss.stsci.edu/webservices/vo/CatalogSearch.aspx?CAT=PS1V3OBJECTS&RA=285.57409&DEC=6.4829568&SR=0.0833333333333:184:0: W06: Invalid UCD 'phot.mag;em.opt;stat.stdev': Primary word 'stat.stdev' is not valid as a secondary word [astropy.io.votable.exceptions]\n",
      "WARNING: W06: http://gsss.stsci.edu/webservices/vo/CatalogSearch.aspx?CAT=PS1V3OBJECTS&RA=285.57409&DEC=6.4829568&SR=0.0833333333333:187:0: W06: Invalid UCD 'phot.mag;em.opt;;meta.main': Invalid word '' [astropy.io.votable.exceptions]\n",
      "WARNING: W06: http://gsss.stsci.edu/webservices/vo/CatalogSearch.aspx?CAT=PS1V3OBJECTS&RA=285.57409&DEC=6.4829568&SR=0.0833333333333:196:0: W06: Invalid UCD 'phot.mag;em.opt;stat.stdev': Primary word 'stat.stdev' is not valid as a secondary word [astropy.io.votable.exceptions]\n",
      "WARNING: W06: http://gsss.stsci.edu/webservices/vo/CatalogSearch.aspx?CAT=PS1V3OBJECTS&RA=285.57409&DEC=6.4829568&SR=0.0833333333333:208:0: W06: Invalid UCD 'phot.mag;em.opt;stat.stdev': Primary word 'stat.stdev' is not valid as a secondary word [astropy.io.votable.exceptions]\n",
      "WARNING: W06: http://gsss.stsci.edu/webservices/vo/CatalogSearch.aspx?CAT=PS1V3OBJECTS&RA=285.57409&DEC=6.4829568&SR=0.0833333333333:220:0: W06: Invalid UCD 'phot.mag;em.opt;stat.stdev': Primary word 'stat.stdev' is not valid as a secondary word (suppressing further warnings of this type...) [astropy.io.votable.exceptions]\n",
      "WARNING: W48: http://gsss.stsci.edu/webservices/vo/CatalogSearch.aspx?CAT=PS1V3OBJECTS&RA=285.57409&DEC=6.4829568&SR=0.0833333333333:302:0: W48: Unknown attribute 'nrows' on TABLEDATA [astropy.io.votable.exceptions]\n"
     ]
    },
    {
     "name": "stdout",
     "output_type": "stream",
     "text": [
      "Downloading http://gsss.stsci.edu/webservices/vo/CatalogSearch.aspx?CAT=PS1V3OBJECTS&RA=285.114015749&DEC=5.59380769656&SR=0.0833333333333 [Done]\n"
     ]
    },
    {
     "name": "stderr",
     "output_type": "stream",
     "text": [
      "WARNING: W06: http://gsss.stsci.edu/webservices/vo/CatalogSearch.aspx?CAT=PS1V3OBJECTS&RA=285.114015749&DEC=5.59380769656&SR=0.0833333333333:100:0: W06: Invalid UCD 'phot.mag;em.opt;stat.stdev': Primary word 'stat.stdev' is not valid as a secondary word [astropy.io.votable.exceptions]\n",
      "WARNING: W06: http://gsss.stsci.edu/webservices/vo/CatalogSearch.aspx?CAT=PS1V3OBJECTS&RA=285.114015749&DEC=5.59380769656&SR=0.0833333333333:118:0: W06: Invalid UCD 'phot.mag;em.opt;stat.stdev': Primary word 'stat.stdev' is not valid as a secondary word [astropy.io.votable.exceptions]\n",
      "WARNING: W06: http://gsss.stsci.edu/webservices/vo/CatalogSearch.aspx?CAT=PS1V3OBJECTS&RA=285.114015749&DEC=5.59380769656&SR=0.0833333333333:136:0: W06: Invalid UCD 'phot.mag;em.opt;stat.stdev': Primary word 'stat.stdev' is not valid as a secondary word [astropy.io.votable.exceptions]\n",
      "WARNING: W06: http://gsss.stsci.edu/webservices/vo/CatalogSearch.aspx?CAT=PS1V3OBJECTS&RA=285.114015749&DEC=5.59380769656&SR=0.0833333333333:154:0: W06: Invalid UCD 'phot.mag;em.opt;stat.stdev': Primary word 'stat.stdev' is not valid as a secondary word [astropy.io.votable.exceptions]\n",
      "WARNING: W06: http://gsss.stsci.edu/webservices/vo/CatalogSearch.aspx?CAT=PS1V3OBJECTS&RA=285.114015749&DEC=5.59380769656&SR=0.0833333333333:172:0: W06: Invalid UCD 'phot.mag;em.opt;stat.stdev': Primary word 'stat.stdev' is not valid as a secondary word [astropy.io.votable.exceptions]\n",
      "WARNING: W06: http://gsss.stsci.edu/webservices/vo/CatalogSearch.aspx?CAT=PS1V3OBJECTS&RA=285.114015749&DEC=5.59380769656&SR=0.0833333333333:184:0: W06: Invalid UCD 'phot.mag;em.opt;stat.stdev': Primary word 'stat.stdev' is not valid as a secondary word [astropy.io.votable.exceptions]\n",
      "WARNING: W06: http://gsss.stsci.edu/webservices/vo/CatalogSearch.aspx?CAT=PS1V3OBJECTS&RA=285.114015749&DEC=5.59380769656&SR=0.0833333333333:187:0: W06: Invalid UCD 'phot.mag;em.opt;;meta.main': Invalid word '' [astropy.io.votable.exceptions]\n",
      "WARNING: W06: http://gsss.stsci.edu/webservices/vo/CatalogSearch.aspx?CAT=PS1V3OBJECTS&RA=285.114015749&DEC=5.59380769656&SR=0.0833333333333:196:0: W06: Invalid UCD 'phot.mag;em.opt;stat.stdev': Primary word 'stat.stdev' is not valid as a secondary word [astropy.io.votable.exceptions]\n",
      "WARNING: W06: http://gsss.stsci.edu/webservices/vo/CatalogSearch.aspx?CAT=PS1V3OBJECTS&RA=285.114015749&DEC=5.59380769656&SR=0.0833333333333:208:0: W06: Invalid UCD 'phot.mag;em.opt;stat.stdev': Primary word 'stat.stdev' is not valid as a secondary word [astropy.io.votable.exceptions]\n",
      "WARNING: W06: http://gsss.stsci.edu/webservices/vo/CatalogSearch.aspx?CAT=PS1V3OBJECTS&RA=285.114015749&DEC=5.59380769656&SR=0.0833333333333:220:0: W06: Invalid UCD 'phot.mag;em.opt;stat.stdev': Primary word 'stat.stdev' is not valid as a secondary word (suppressing further warnings of this type...) [astropy.io.votable.exceptions]\n",
      "WARNING: W48: http://gsss.stsci.edu/webservices/vo/CatalogSearch.aspx?CAT=PS1V3OBJECTS&RA=285.114015749&DEC=5.59380769656&SR=0.0833333333333:302:0: W48: Unknown attribute 'nrows' on TABLEDATA [astropy.io.votable.exceptions]\n"
     ]
    },
    {
     "name": "stdout",
     "output_type": "stream",
     "text": [
      "Downloading http://gsss.stsci.edu/webservices/vo/CatalogSearch.aspx?CAT=PS1V3OBJECTS&RA=286.035639323&DEC=7.37176686699&SR=0.0833333333333 [Done]\n"
     ]
    },
    {
     "name": "stderr",
     "output_type": "stream",
     "text": [
      "WARNING: W06: http://gsss.stsci.edu/webservices/vo/CatalogSearch.aspx?CAT=PS1V3OBJECTS&RA=286.035639323&DEC=7.37176686699&SR=0.0833333333333:100:0: W06: Invalid UCD 'phot.mag;em.opt;stat.stdev': Primary word 'stat.stdev' is not valid as a secondary word [astropy.io.votable.exceptions]\n",
      "WARNING: W06: http://gsss.stsci.edu/webservices/vo/CatalogSearch.aspx?CAT=PS1V3OBJECTS&RA=286.035639323&DEC=7.37176686699&SR=0.0833333333333:118:0: W06: Invalid UCD 'phot.mag;em.opt;stat.stdev': Primary word 'stat.stdev' is not valid as a secondary word [astropy.io.votable.exceptions]\n",
      "WARNING: W06: http://gsss.stsci.edu/webservices/vo/CatalogSearch.aspx?CAT=PS1V3OBJECTS&RA=286.035639323&DEC=7.37176686699&SR=0.0833333333333:136:0: W06: Invalid UCD 'phot.mag;em.opt;stat.stdev': Primary word 'stat.stdev' is not valid as a secondary word [astropy.io.votable.exceptions]\n",
      "WARNING: W06: http://gsss.stsci.edu/webservices/vo/CatalogSearch.aspx?CAT=PS1V3OBJECTS&RA=286.035639323&DEC=7.37176686699&SR=0.0833333333333:154:0: W06: Invalid UCD 'phot.mag;em.opt;stat.stdev': Primary word 'stat.stdev' is not valid as a secondary word [astropy.io.votable.exceptions]\n",
      "WARNING: W06: http://gsss.stsci.edu/webservices/vo/CatalogSearch.aspx?CAT=PS1V3OBJECTS&RA=286.035639323&DEC=7.37176686699&SR=0.0833333333333:172:0: W06: Invalid UCD 'phot.mag;em.opt;stat.stdev': Primary word 'stat.stdev' is not valid as a secondary word [astropy.io.votable.exceptions]\n",
      "WARNING: W06: http://gsss.stsci.edu/webservices/vo/CatalogSearch.aspx?CAT=PS1V3OBJECTS&RA=286.035639323&DEC=7.37176686699&SR=0.0833333333333:184:0: W06: Invalid UCD 'phot.mag;em.opt;stat.stdev': Primary word 'stat.stdev' is not valid as a secondary word [astropy.io.votable.exceptions]\n",
      "WARNING: W06: http://gsss.stsci.edu/webservices/vo/CatalogSearch.aspx?CAT=PS1V3OBJECTS&RA=286.035639323&DEC=7.37176686699&SR=0.0833333333333:187:0: W06: Invalid UCD 'phot.mag;em.opt;;meta.main': Invalid word '' [astropy.io.votable.exceptions]\n",
      "WARNING: W06: http://gsss.stsci.edu/webservices/vo/CatalogSearch.aspx?CAT=PS1V3OBJECTS&RA=286.035639323&DEC=7.37176686699&SR=0.0833333333333:196:0: W06: Invalid UCD 'phot.mag;em.opt;stat.stdev': Primary word 'stat.stdev' is not valid as a secondary word [astropy.io.votable.exceptions]\n",
      "WARNING: W06: http://gsss.stsci.edu/webservices/vo/CatalogSearch.aspx?CAT=PS1V3OBJECTS&RA=286.035639323&DEC=7.37176686699&SR=0.0833333333333:208:0: W06: Invalid UCD 'phot.mag;em.opt;stat.stdev': Primary word 'stat.stdev' is not valid as a secondary word [astropy.io.votable.exceptions]\n",
      "WARNING: W06: http://gsss.stsci.edu/webservices/vo/CatalogSearch.aspx?CAT=PS1V3OBJECTS&RA=286.035639323&DEC=7.37176686699&SR=0.0833333333333:220:0: W06: Invalid UCD 'phot.mag;em.opt;stat.stdev': Primary word 'stat.stdev' is not valid as a secondary word (suppressing further warnings of this type...) [astropy.io.votable.exceptions]\n",
      "WARNING: W48: http://gsss.stsci.edu/webservices/vo/CatalogSearch.aspx?CAT=PS1V3OBJECTS&RA=286.035639323&DEC=7.37176686699&SR=0.0833333333333:302:0: W48: Unknown attribute 'nrows' on TABLEDATA [astropy.io.votable.exceptions]\n"
     ]
    },
    {
     "name": "stdout",
     "output_type": "stream",
     "text": [
      "20 3321835.278\n",
      "Downloading http://gsss.stsci.edu/webservices/vo/CatalogSearch.aspx?CAT=PS1V3OBJECTS&RA=329.76994&DEC=20.351186&SR=0.0833333333333 [Done]\n"
     ]
    },
    {
     "name": "stderr",
     "output_type": "stream",
     "text": [
      "WARNING: W06: http://gsss.stsci.edu/webservices/vo/CatalogSearch.aspx?CAT=PS1V3OBJECTS&RA=329.76994&DEC=20.351186&SR=0.0833333333333:100:0: W06: Invalid UCD 'phot.mag;em.opt;stat.stdev': Primary word 'stat.stdev' is not valid as a secondary word [astropy.io.votable.exceptions]\n",
      "WARNING: W06: http://gsss.stsci.edu/webservices/vo/CatalogSearch.aspx?CAT=PS1V3OBJECTS&RA=329.76994&DEC=20.351186&SR=0.0833333333333:118:0: W06: Invalid UCD 'phot.mag;em.opt;stat.stdev': Primary word 'stat.stdev' is not valid as a secondary word [astropy.io.votable.exceptions]\n",
      "WARNING: W06: http://gsss.stsci.edu/webservices/vo/CatalogSearch.aspx?CAT=PS1V3OBJECTS&RA=329.76994&DEC=20.351186&SR=0.0833333333333:136:0: W06: Invalid UCD 'phot.mag;em.opt;stat.stdev': Primary word 'stat.stdev' is not valid as a secondary word [astropy.io.votable.exceptions]\n",
      "WARNING: W06: http://gsss.stsci.edu/webservices/vo/CatalogSearch.aspx?CAT=PS1V3OBJECTS&RA=329.76994&DEC=20.351186&SR=0.0833333333333:154:0: W06: Invalid UCD 'phot.mag;em.opt;stat.stdev': Primary word 'stat.stdev' is not valid as a secondary word [astropy.io.votable.exceptions]\n",
      "WARNING: W06: http://gsss.stsci.edu/webservices/vo/CatalogSearch.aspx?CAT=PS1V3OBJECTS&RA=329.76994&DEC=20.351186&SR=0.0833333333333:172:0: W06: Invalid UCD 'phot.mag;em.opt;stat.stdev': Primary word 'stat.stdev' is not valid as a secondary word [astropy.io.votable.exceptions]\n",
      "WARNING: W06: http://gsss.stsci.edu/webservices/vo/CatalogSearch.aspx?CAT=PS1V3OBJECTS&RA=329.76994&DEC=20.351186&SR=0.0833333333333:184:0: W06: Invalid UCD 'phot.mag;em.opt;stat.stdev': Primary word 'stat.stdev' is not valid as a secondary word [astropy.io.votable.exceptions]\n",
      "WARNING: W06: http://gsss.stsci.edu/webservices/vo/CatalogSearch.aspx?CAT=PS1V3OBJECTS&RA=329.76994&DEC=20.351186&SR=0.0833333333333:187:0: W06: Invalid UCD 'phot.mag;em.opt;;meta.main': Invalid word '' [astropy.io.votable.exceptions]\n",
      "WARNING: W06: http://gsss.stsci.edu/webservices/vo/CatalogSearch.aspx?CAT=PS1V3OBJECTS&RA=329.76994&DEC=20.351186&SR=0.0833333333333:196:0: W06: Invalid UCD 'phot.mag;em.opt;stat.stdev': Primary word 'stat.stdev' is not valid as a secondary word [astropy.io.votable.exceptions]\n",
      "WARNING: W06: http://gsss.stsci.edu/webservices/vo/CatalogSearch.aspx?CAT=PS1V3OBJECTS&RA=329.76994&DEC=20.351186&SR=0.0833333333333:208:0: W06: Invalid UCD 'phot.mag;em.opt;stat.stdev': Primary word 'stat.stdev' is not valid as a secondary word [astropy.io.votable.exceptions]\n",
      "WARNING: W06: http://gsss.stsci.edu/webservices/vo/CatalogSearch.aspx?CAT=PS1V3OBJECTS&RA=329.76994&DEC=20.351186&SR=0.0833333333333:220:0: W06: Invalid UCD 'phot.mag;em.opt;stat.stdev': Primary word 'stat.stdev' is not valid as a secondary word (suppressing further warnings of this type...) [astropy.io.votable.exceptions]\n",
      "WARNING: W48: http://gsss.stsci.edu/webservices/vo/CatalogSearch.aspx?CAT=PS1V3OBJECTS&RA=329.76994&DEC=20.351186&SR=0.0833333333333:302:0: W48: Unknown attribute 'nrows' on TABLEDATA [astropy.io.votable.exceptions]\n"
     ]
    },
    {
     "name": "stdout",
     "output_type": "stream",
     "text": [
      "Downloading http://gsss.stsci.edu/webservices/vo/CatalogSearch.aspx?CAT=PS1V3OBJECTS&RA=329.078143743&DEC=19.7392803298&SR=0.0833333333333 [Done]\n"
     ]
    },
    {
     "name": "stderr",
     "output_type": "stream",
     "text": [
      "WARNING: W06: http://gsss.stsci.edu/webservices/vo/CatalogSearch.aspx?CAT=PS1V3OBJECTS&RA=329.078143743&DEC=19.7392803298&SR=0.0833333333333:100:0: W06: Invalid UCD 'phot.mag;em.opt;stat.stdev': Primary word 'stat.stdev' is not valid as a secondary word [astropy.io.votable.exceptions]\n",
      "WARNING: W06: http://gsss.stsci.edu/webservices/vo/CatalogSearch.aspx?CAT=PS1V3OBJECTS&RA=329.078143743&DEC=19.7392803298&SR=0.0833333333333:118:0: W06: Invalid UCD 'phot.mag;em.opt;stat.stdev': Primary word 'stat.stdev' is not valid as a secondary word [astropy.io.votable.exceptions]\n",
      "WARNING: W06: http://gsss.stsci.edu/webservices/vo/CatalogSearch.aspx?CAT=PS1V3OBJECTS&RA=329.078143743&DEC=19.7392803298&SR=0.0833333333333:136:0: W06: Invalid UCD 'phot.mag;em.opt;stat.stdev': Primary word 'stat.stdev' is not valid as a secondary word [astropy.io.votable.exceptions]\n",
      "WARNING: W06: http://gsss.stsci.edu/webservices/vo/CatalogSearch.aspx?CAT=PS1V3OBJECTS&RA=329.078143743&DEC=19.7392803298&SR=0.0833333333333:154:0: W06: Invalid UCD 'phot.mag;em.opt;stat.stdev': Primary word 'stat.stdev' is not valid as a secondary word [astropy.io.votable.exceptions]\n",
      "WARNING: W06: http://gsss.stsci.edu/webservices/vo/CatalogSearch.aspx?CAT=PS1V3OBJECTS&RA=329.078143743&DEC=19.7392803298&SR=0.0833333333333:172:0: W06: Invalid UCD 'phot.mag;em.opt;stat.stdev': Primary word 'stat.stdev' is not valid as a secondary word [astropy.io.votable.exceptions]\n",
      "WARNING: W06: http://gsss.stsci.edu/webservices/vo/CatalogSearch.aspx?CAT=PS1V3OBJECTS&RA=329.078143743&DEC=19.7392803298&SR=0.0833333333333:184:0: W06: Invalid UCD 'phot.mag;em.opt;stat.stdev': Primary word 'stat.stdev' is not valid as a secondary word [astropy.io.votable.exceptions]\n",
      "WARNING: W06: http://gsss.stsci.edu/webservices/vo/CatalogSearch.aspx?CAT=PS1V3OBJECTS&RA=329.078143743&DEC=19.7392803298&SR=0.0833333333333:187:0: W06: Invalid UCD 'phot.mag;em.opt;;meta.main': Invalid word '' [astropy.io.votable.exceptions]\n",
      "WARNING: W06: http://gsss.stsci.edu/webservices/vo/CatalogSearch.aspx?CAT=PS1V3OBJECTS&RA=329.078143743&DEC=19.7392803298&SR=0.0833333333333:196:0: W06: Invalid UCD 'phot.mag;em.opt;stat.stdev': Primary word 'stat.stdev' is not valid as a secondary word [astropy.io.votable.exceptions]\n",
      "WARNING: W06: http://gsss.stsci.edu/webservices/vo/CatalogSearch.aspx?CAT=PS1V3OBJECTS&RA=329.078143743&DEC=19.7392803298&SR=0.0833333333333:208:0: W06: Invalid UCD 'phot.mag;em.opt;stat.stdev': Primary word 'stat.stdev' is not valid as a secondary word [astropy.io.votable.exceptions]\n",
      "WARNING: W06: http://gsss.stsci.edu/webservices/vo/CatalogSearch.aspx?CAT=PS1V3OBJECTS&RA=329.078143743&DEC=19.7392803298&SR=0.0833333333333:220:0: W06: Invalid UCD 'phot.mag;em.opt;stat.stdev': Primary word 'stat.stdev' is not valid as a secondary word (suppressing further warnings of this type...) [astropy.io.votable.exceptions]\n",
      "WARNING: W48: http://gsss.stsci.edu/webservices/vo/CatalogSearch.aspx?CAT=PS1V3OBJECTS&RA=329.078143743&DEC=19.7392803298&SR=0.0833333333333:302:0: W48: Unknown attribute 'nrows' on TABLEDATA [astropy.io.votable.exceptions]\n"
     ]
    },
    {
     "name": "stdout",
     "output_type": "stream",
     "text": [
      "Downloading http://gsss.stsci.edu/webservices/vo/CatalogSearch.aspx?CAT=PS1V3OBJECTS&RA=330.472325278&DEC=20.9551839664&SR=0.0833333333333 [Done]\n"
     ]
    },
    {
     "name": "stderr",
     "output_type": "stream",
     "text": [
      "WARNING: W06: http://gsss.stsci.edu/webservices/vo/CatalogSearch.aspx?CAT=PS1V3OBJECTS&RA=330.472325278&DEC=20.9551839664&SR=0.0833333333333:100:0: W06: Invalid UCD 'phot.mag;em.opt;stat.stdev': Primary word 'stat.stdev' is not valid as a secondary word [astropy.io.votable.exceptions]\n",
      "WARNING: W06: http://gsss.stsci.edu/webservices/vo/CatalogSearch.aspx?CAT=PS1V3OBJECTS&RA=330.472325278&DEC=20.9551839664&SR=0.0833333333333:118:0: W06: Invalid UCD 'phot.mag;em.opt;stat.stdev': Primary word 'stat.stdev' is not valid as a secondary word [astropy.io.votable.exceptions]\n",
      "WARNING: W06: http://gsss.stsci.edu/webservices/vo/CatalogSearch.aspx?CAT=PS1V3OBJECTS&RA=330.472325278&DEC=20.9551839664&SR=0.0833333333333:136:0: W06: Invalid UCD 'phot.mag;em.opt;stat.stdev': Primary word 'stat.stdev' is not valid as a secondary word [astropy.io.votable.exceptions]\n",
      "WARNING: W06: http://gsss.stsci.edu/webservices/vo/CatalogSearch.aspx?CAT=PS1V3OBJECTS&RA=330.472325278&DEC=20.9551839664&SR=0.0833333333333:154:0: W06: Invalid UCD 'phot.mag;em.opt;stat.stdev': Primary word 'stat.stdev' is not valid as a secondary word [astropy.io.votable.exceptions]\n",
      "WARNING: W06: http://gsss.stsci.edu/webservices/vo/CatalogSearch.aspx?CAT=PS1V3OBJECTS&RA=330.472325278&DEC=20.9551839664&SR=0.0833333333333:172:0: W06: Invalid UCD 'phot.mag;em.opt;stat.stdev': Primary word 'stat.stdev' is not valid as a secondary word [astropy.io.votable.exceptions]\n",
      "WARNING: W06: http://gsss.stsci.edu/webservices/vo/CatalogSearch.aspx?CAT=PS1V3OBJECTS&RA=330.472325278&DEC=20.9551839664&SR=0.0833333333333:184:0: W06: Invalid UCD 'phot.mag;em.opt;stat.stdev': Primary word 'stat.stdev' is not valid as a secondary word [astropy.io.votable.exceptions]\n",
      "WARNING: W06: http://gsss.stsci.edu/webservices/vo/CatalogSearch.aspx?CAT=PS1V3OBJECTS&RA=330.472325278&DEC=20.9551839664&SR=0.0833333333333:187:0: W06: Invalid UCD 'phot.mag;em.opt;;meta.main': Invalid word '' [astropy.io.votable.exceptions]\n",
      "WARNING: W06: http://gsss.stsci.edu/webservices/vo/CatalogSearch.aspx?CAT=PS1V3OBJECTS&RA=330.472325278&DEC=20.9551839664&SR=0.0833333333333:196:0: W06: Invalid UCD 'phot.mag;em.opt;stat.stdev': Primary word 'stat.stdev' is not valid as a secondary word [astropy.io.votable.exceptions]\n",
      "WARNING: W06: http://gsss.stsci.edu/webservices/vo/CatalogSearch.aspx?CAT=PS1V3OBJECTS&RA=330.472325278&DEC=20.9551839664&SR=0.0833333333333:208:0: W06: Invalid UCD 'phot.mag;em.opt;stat.stdev': Primary word 'stat.stdev' is not valid as a secondary word [astropy.io.votable.exceptions]\n",
      "WARNING: W06: http://gsss.stsci.edu/webservices/vo/CatalogSearch.aspx?CAT=PS1V3OBJECTS&RA=330.472325278&DEC=20.9551839664&SR=0.0833333333333:220:0: W06: Invalid UCD 'phot.mag;em.opt;stat.stdev': Primary word 'stat.stdev' is not valid as a secondary word (suppressing further warnings of this type...) [astropy.io.votable.exceptions]\n",
      "WARNING: W48: http://gsss.stsci.edu/webservices/vo/CatalogSearch.aspx?CAT=PS1V3OBJECTS&RA=330.472325278&DEC=20.9551839664&SR=0.0833333333333:302:0: W48: Unknown attribute 'nrows' on TABLEDATA [astropy.io.votable.exceptions]\n"
     ]
    },
    {
     "name": "stdout",
     "output_type": "stream",
     "text": [
      "21 3322635.298\n",
      "Downloading http://gsss.stsci.edu/webservices/vo/CatalogSearch.aspx?CAT=PS1V3OBJECTS&RA=334.03626&DEC=29.222139&SR=0.0833333333333 [Done]\n"
     ]
    },
    {
     "name": "stderr",
     "output_type": "stream",
     "text": [
      "WARNING: W06: http://gsss.stsci.edu/webservices/vo/CatalogSearch.aspx?CAT=PS1V3OBJECTS&RA=334.03626&DEC=29.222139&SR=0.0833333333333:100:0: W06: Invalid UCD 'phot.mag;em.opt;stat.stdev': Primary word 'stat.stdev' is not valid as a secondary word [astropy.io.votable.exceptions]\n",
      "WARNING: W06: http://gsss.stsci.edu/webservices/vo/CatalogSearch.aspx?CAT=PS1V3OBJECTS&RA=334.03626&DEC=29.222139&SR=0.0833333333333:118:0: W06: Invalid UCD 'phot.mag;em.opt;stat.stdev': Primary word 'stat.stdev' is not valid as a secondary word [astropy.io.votable.exceptions]\n",
      "WARNING: W06: http://gsss.stsci.edu/webservices/vo/CatalogSearch.aspx?CAT=PS1V3OBJECTS&RA=334.03626&DEC=29.222139&SR=0.0833333333333:136:0: W06: Invalid UCD 'phot.mag;em.opt;stat.stdev': Primary word 'stat.stdev' is not valid as a secondary word [astropy.io.votable.exceptions]\n",
      "WARNING: W06: http://gsss.stsci.edu/webservices/vo/CatalogSearch.aspx?CAT=PS1V3OBJECTS&RA=334.03626&DEC=29.222139&SR=0.0833333333333:154:0: W06: Invalid UCD 'phot.mag;em.opt;stat.stdev': Primary word 'stat.stdev' is not valid as a secondary word [astropy.io.votable.exceptions]\n",
      "WARNING: W06: http://gsss.stsci.edu/webservices/vo/CatalogSearch.aspx?CAT=PS1V3OBJECTS&RA=334.03626&DEC=29.222139&SR=0.0833333333333:172:0: W06: Invalid UCD 'phot.mag;em.opt;stat.stdev': Primary word 'stat.stdev' is not valid as a secondary word [astropy.io.votable.exceptions]\n",
      "WARNING: W06: http://gsss.stsci.edu/webservices/vo/CatalogSearch.aspx?CAT=PS1V3OBJECTS&RA=334.03626&DEC=29.222139&SR=0.0833333333333:184:0: W06: Invalid UCD 'phot.mag;em.opt;stat.stdev': Primary word 'stat.stdev' is not valid as a secondary word [astropy.io.votable.exceptions]\n",
      "WARNING: W06: http://gsss.stsci.edu/webservices/vo/CatalogSearch.aspx?CAT=PS1V3OBJECTS&RA=334.03626&DEC=29.222139&SR=0.0833333333333:187:0: W06: Invalid UCD 'phot.mag;em.opt;;meta.main': Invalid word '' [astropy.io.votable.exceptions]\n",
      "WARNING: W06: http://gsss.stsci.edu/webservices/vo/CatalogSearch.aspx?CAT=PS1V3OBJECTS&RA=334.03626&DEC=29.222139&SR=0.0833333333333:196:0: W06: Invalid UCD 'phot.mag;em.opt;stat.stdev': Primary word 'stat.stdev' is not valid as a secondary word [astropy.io.votable.exceptions]\n",
      "WARNING: W06: http://gsss.stsci.edu/webservices/vo/CatalogSearch.aspx?CAT=PS1V3OBJECTS&RA=334.03626&DEC=29.222139&SR=0.0833333333333:208:0: W06: Invalid UCD 'phot.mag;em.opt;stat.stdev': Primary word 'stat.stdev' is not valid as a secondary word [astropy.io.votable.exceptions]\n",
      "WARNING: W06: http://gsss.stsci.edu/webservices/vo/CatalogSearch.aspx?CAT=PS1V3OBJECTS&RA=334.03626&DEC=29.222139&SR=0.0833333333333:220:0: W06: Invalid UCD 'phot.mag;em.opt;stat.stdev': Primary word 'stat.stdev' is not valid as a secondary word (suppressing further warnings of this type...) [astropy.io.votable.exceptions]\n",
      "WARNING: W48: http://gsss.stsci.edu/webservices/vo/CatalogSearch.aspx?CAT=PS1V3OBJECTS&RA=334.03626&DEC=29.222139&SR=0.0833333333333:302:0: W48: Unknown attribute 'nrows' on TABLEDATA [astropy.io.votable.exceptions]\n"
     ]
    },
    {
     "name": "stdout",
     "output_type": "stream",
     "text": [
      "Downloading http://gsss.stsci.edu/webservices/vo/CatalogSearch.aspx?CAT=PS1V3OBJECTS&RA=333.199118101&DEC=28.6591291645&SR=0.0833333333333 [Done]\n"
     ]
    },
    {
     "name": "stderr",
     "output_type": "stream",
     "text": [
      "WARNING: W06: http://gsss.stsci.edu/webservices/vo/CatalogSearch.aspx?CAT=PS1V3OBJECTS&RA=333.199118101&DEC=28.6591291645&SR=0.0833333333333:100:0: W06: Invalid UCD 'phot.mag;em.opt;stat.stdev': Primary word 'stat.stdev' is not valid as a secondary word [astropy.io.votable.exceptions]\n",
      "WARNING: W06: http://gsss.stsci.edu/webservices/vo/CatalogSearch.aspx?CAT=PS1V3OBJECTS&RA=333.199118101&DEC=28.6591291645&SR=0.0833333333333:118:0: W06: Invalid UCD 'phot.mag;em.opt;stat.stdev': Primary word 'stat.stdev' is not valid as a secondary word [astropy.io.votable.exceptions]\n",
      "WARNING: W06: http://gsss.stsci.edu/webservices/vo/CatalogSearch.aspx?CAT=PS1V3OBJECTS&RA=333.199118101&DEC=28.6591291645&SR=0.0833333333333:136:0: W06: Invalid UCD 'phot.mag;em.opt;stat.stdev': Primary word 'stat.stdev' is not valid as a secondary word [astropy.io.votable.exceptions]\n",
      "WARNING: W06: http://gsss.stsci.edu/webservices/vo/CatalogSearch.aspx?CAT=PS1V3OBJECTS&RA=333.199118101&DEC=28.6591291645&SR=0.0833333333333:154:0: W06: Invalid UCD 'phot.mag;em.opt;stat.stdev': Primary word 'stat.stdev' is not valid as a secondary word [astropy.io.votable.exceptions]\n",
      "WARNING: W06: http://gsss.stsci.edu/webservices/vo/CatalogSearch.aspx?CAT=PS1V3OBJECTS&RA=333.199118101&DEC=28.6591291645&SR=0.0833333333333:172:0: W06: Invalid UCD 'phot.mag;em.opt;stat.stdev': Primary word 'stat.stdev' is not valid as a secondary word [astropy.io.votable.exceptions]\n",
      "WARNING: W06: http://gsss.stsci.edu/webservices/vo/CatalogSearch.aspx?CAT=PS1V3OBJECTS&RA=333.199118101&DEC=28.6591291645&SR=0.0833333333333:184:0: W06: Invalid UCD 'phot.mag;em.opt;stat.stdev': Primary word 'stat.stdev' is not valid as a secondary word [astropy.io.votable.exceptions]\n",
      "WARNING: W06: http://gsss.stsci.edu/webservices/vo/CatalogSearch.aspx?CAT=PS1V3OBJECTS&RA=333.199118101&DEC=28.6591291645&SR=0.0833333333333:187:0: W06: Invalid UCD 'phot.mag;em.opt;;meta.main': Invalid word '' [astropy.io.votable.exceptions]\n",
      "WARNING: W06: http://gsss.stsci.edu/webservices/vo/CatalogSearch.aspx?CAT=PS1V3OBJECTS&RA=333.199118101&DEC=28.6591291645&SR=0.0833333333333:196:0: W06: Invalid UCD 'phot.mag;em.opt;stat.stdev': Primary word 'stat.stdev' is not valid as a secondary word [astropy.io.votable.exceptions]\n",
      "WARNING: W06: http://gsss.stsci.edu/webservices/vo/CatalogSearch.aspx?CAT=PS1V3OBJECTS&RA=333.199118101&DEC=28.6591291645&SR=0.0833333333333:208:0: W06: Invalid UCD 'phot.mag;em.opt;stat.stdev': Primary word 'stat.stdev' is not valid as a secondary word [astropy.io.votable.exceptions]\n",
      "WARNING: W06: http://gsss.stsci.edu/webservices/vo/CatalogSearch.aspx?CAT=PS1V3OBJECTS&RA=333.199118101&DEC=28.6591291645&SR=0.0833333333333:220:0: W06: Invalid UCD 'phot.mag;em.opt;stat.stdev': Primary word 'stat.stdev' is not valid as a secondary word (suppressing further warnings of this type...) [astropy.io.votable.exceptions]\n",
      "WARNING: W48: http://gsss.stsci.edu/webservices/vo/CatalogSearch.aspx?CAT=PS1V3OBJECTS&RA=333.199118101&DEC=28.6591291645&SR=0.0833333333333:302:0: W48: Unknown attribute 'nrows' on TABLEDATA [astropy.io.votable.exceptions]\n"
     ]
    },
    {
     "name": "stdout",
     "output_type": "stream",
     "text": [
      "Downloading http://gsss.stsci.edu/webservices/vo/CatalogSearch.aspx?CAT=PS1V3OBJECTS&RA=334.886862495&DEC=29.7749363971&SR=0.0833333333333 [Done]\n"
     ]
    },
    {
     "name": "stderr",
     "output_type": "stream",
     "text": [
      "WARNING: W06: http://gsss.stsci.edu/webservices/vo/CatalogSearch.aspx?CAT=PS1V3OBJECTS&RA=334.886862495&DEC=29.7749363971&SR=0.0833333333333:100:0: W06: Invalid UCD 'phot.mag;em.opt;stat.stdev': Primary word 'stat.stdev' is not valid as a secondary word [astropy.io.votable.exceptions]\n",
      "WARNING: W06: http://gsss.stsci.edu/webservices/vo/CatalogSearch.aspx?CAT=PS1V3OBJECTS&RA=334.886862495&DEC=29.7749363971&SR=0.0833333333333:118:0: W06: Invalid UCD 'phot.mag;em.opt;stat.stdev': Primary word 'stat.stdev' is not valid as a secondary word [astropy.io.votable.exceptions]\n",
      "WARNING: W06: http://gsss.stsci.edu/webservices/vo/CatalogSearch.aspx?CAT=PS1V3OBJECTS&RA=334.886862495&DEC=29.7749363971&SR=0.0833333333333:136:0: W06: Invalid UCD 'phot.mag;em.opt;stat.stdev': Primary word 'stat.stdev' is not valid as a secondary word [astropy.io.votable.exceptions]\n",
      "WARNING: W06: http://gsss.stsci.edu/webservices/vo/CatalogSearch.aspx?CAT=PS1V3OBJECTS&RA=334.886862495&DEC=29.7749363971&SR=0.0833333333333:154:0: W06: Invalid UCD 'phot.mag;em.opt;stat.stdev': Primary word 'stat.stdev' is not valid as a secondary word [astropy.io.votable.exceptions]\n",
      "WARNING: W06: http://gsss.stsci.edu/webservices/vo/CatalogSearch.aspx?CAT=PS1V3OBJECTS&RA=334.886862495&DEC=29.7749363971&SR=0.0833333333333:172:0: W06: Invalid UCD 'phot.mag;em.opt;stat.stdev': Primary word 'stat.stdev' is not valid as a secondary word [astropy.io.votable.exceptions]\n",
      "WARNING: W06: http://gsss.stsci.edu/webservices/vo/CatalogSearch.aspx?CAT=PS1V3OBJECTS&RA=334.886862495&DEC=29.7749363971&SR=0.0833333333333:184:0: W06: Invalid UCD 'phot.mag;em.opt;stat.stdev': Primary word 'stat.stdev' is not valid as a secondary word [astropy.io.votable.exceptions]\n",
      "WARNING: W06: http://gsss.stsci.edu/webservices/vo/CatalogSearch.aspx?CAT=PS1V3OBJECTS&RA=334.886862495&DEC=29.7749363971&SR=0.0833333333333:187:0: W06: Invalid UCD 'phot.mag;em.opt;;meta.main': Invalid word '' [astropy.io.votable.exceptions]\n",
      "WARNING: W06: http://gsss.stsci.edu/webservices/vo/CatalogSearch.aspx?CAT=PS1V3OBJECTS&RA=334.886862495&DEC=29.7749363971&SR=0.0833333333333:196:0: W06: Invalid UCD 'phot.mag;em.opt;stat.stdev': Primary word 'stat.stdev' is not valid as a secondary word [astropy.io.votable.exceptions]\n",
      "WARNING: W06: http://gsss.stsci.edu/webservices/vo/CatalogSearch.aspx?CAT=PS1V3OBJECTS&RA=334.886862495&DEC=29.7749363971&SR=0.0833333333333:208:0: W06: Invalid UCD 'phot.mag;em.opt;stat.stdev': Primary word 'stat.stdev' is not valid as a secondary word [astropy.io.votable.exceptions]\n",
      "WARNING: W06: http://gsss.stsci.edu/webservices/vo/CatalogSearch.aspx?CAT=PS1V3OBJECTS&RA=334.886862495&DEC=29.7749363971&SR=0.0833333333333:220:0: W06: Invalid UCD 'phot.mag;em.opt;stat.stdev': Primary word 'stat.stdev' is not valid as a secondary word (suppressing further warnings of this type...) [astropy.io.votable.exceptions]\n",
      "WARNING: W48: http://gsss.stsci.edu/webservices/vo/CatalogSearch.aspx?CAT=PS1V3OBJECTS&RA=334.886862495&DEC=29.7749363971&SR=0.0833333333333:302:0: W48: Unknown attribute 'nrows' on TABLEDATA [astropy.io.votable.exceptions]\n"
     ]
    },
    {
     "name": "stdout",
     "output_type": "stream",
     "text": [
      "22 3323435.038\n",
      "Downloading http://gsss.stsci.edu/webservices/vo/CatalogSearch.aspx?CAT=PS1V3OBJECTS&RA=334.17465&DEC=35.555494&SR=0.0833333333333 [Done]\n"
     ]
    },
    {
     "name": "stderr",
     "output_type": "stream",
     "text": [
      "WARNING: W06: http://gsss.stsci.edu/webservices/vo/CatalogSearch.aspx?CAT=PS1V3OBJECTS&RA=334.17465&DEC=35.555494&SR=0.0833333333333:100:0: W06: Invalid UCD 'phot.mag;em.opt;stat.stdev': Primary word 'stat.stdev' is not valid as a secondary word [astropy.io.votable.exceptions]\n",
      "WARNING: W06: http://gsss.stsci.edu/webservices/vo/CatalogSearch.aspx?CAT=PS1V3OBJECTS&RA=334.17465&DEC=35.555494&SR=0.0833333333333:118:0: W06: Invalid UCD 'phot.mag;em.opt;stat.stdev': Primary word 'stat.stdev' is not valid as a secondary word [astropy.io.votable.exceptions]\n",
      "WARNING: W06: http://gsss.stsci.edu/webservices/vo/CatalogSearch.aspx?CAT=PS1V3OBJECTS&RA=334.17465&DEC=35.555494&SR=0.0833333333333:136:0: W06: Invalid UCD 'phot.mag;em.opt;stat.stdev': Primary word 'stat.stdev' is not valid as a secondary word [astropy.io.votable.exceptions]\n",
      "WARNING: W06: http://gsss.stsci.edu/webservices/vo/CatalogSearch.aspx?CAT=PS1V3OBJECTS&RA=334.17465&DEC=35.555494&SR=0.0833333333333:154:0: W06: Invalid UCD 'phot.mag;em.opt;stat.stdev': Primary word 'stat.stdev' is not valid as a secondary word [astropy.io.votable.exceptions]\n",
      "WARNING: W06: http://gsss.stsci.edu/webservices/vo/CatalogSearch.aspx?CAT=PS1V3OBJECTS&RA=334.17465&DEC=35.555494&SR=0.0833333333333:172:0: W06: Invalid UCD 'phot.mag;em.opt;stat.stdev': Primary word 'stat.stdev' is not valid as a secondary word [astropy.io.votable.exceptions]\n",
      "WARNING: W06: http://gsss.stsci.edu/webservices/vo/CatalogSearch.aspx?CAT=PS1V3OBJECTS&RA=334.17465&DEC=35.555494&SR=0.0833333333333:184:0: W06: Invalid UCD 'phot.mag;em.opt;stat.stdev': Primary word 'stat.stdev' is not valid as a secondary word [astropy.io.votable.exceptions]\n",
      "WARNING: W06: http://gsss.stsci.edu/webservices/vo/CatalogSearch.aspx?CAT=PS1V3OBJECTS&RA=334.17465&DEC=35.555494&SR=0.0833333333333:187:0: W06: Invalid UCD 'phot.mag;em.opt;;meta.main': Invalid word '' [astropy.io.votable.exceptions]\n",
      "WARNING: W06: http://gsss.stsci.edu/webservices/vo/CatalogSearch.aspx?CAT=PS1V3OBJECTS&RA=334.17465&DEC=35.555494&SR=0.0833333333333:196:0: W06: Invalid UCD 'phot.mag;em.opt;stat.stdev': Primary word 'stat.stdev' is not valid as a secondary word [astropy.io.votable.exceptions]\n",
      "WARNING: W06: http://gsss.stsci.edu/webservices/vo/CatalogSearch.aspx?CAT=PS1V3OBJECTS&RA=334.17465&DEC=35.555494&SR=0.0833333333333:208:0: W06: Invalid UCD 'phot.mag;em.opt;stat.stdev': Primary word 'stat.stdev' is not valid as a secondary word [astropy.io.votable.exceptions]\n",
      "WARNING: W06: http://gsss.stsci.edu/webservices/vo/CatalogSearch.aspx?CAT=PS1V3OBJECTS&RA=334.17465&DEC=35.555494&SR=0.0833333333333:220:0: W06: Invalid UCD 'phot.mag;em.opt;stat.stdev': Primary word 'stat.stdev' is not valid as a secondary word (suppressing further warnings of this type...) [astropy.io.votable.exceptions]\n",
      "WARNING: W48: http://gsss.stsci.edu/webservices/vo/CatalogSearch.aspx?CAT=PS1V3OBJECTS&RA=334.17465&DEC=35.555494&SR=0.0833333333333:302:0: W48: Unknown attribute 'nrows' on TABLEDATA [astropy.io.votable.exceptions]\n"
     ]
    },
    {
     "name": "stdout",
     "output_type": "stream",
     "text": [
      "Downloading http://gsss.stsci.edu/webservices/vo/CatalogSearch.aspx?CAT=PS1V3OBJECTS&RA=333.230479944&DEC=34.9935038659&SR=0.0833333333333 [Done]\n"
     ]
    },
    {
     "name": "stderr",
     "output_type": "stream",
     "text": [
      "WARNING: W06: http://gsss.stsci.edu/webservices/vo/CatalogSearch.aspx?CAT=PS1V3OBJECTS&RA=333.230479944&DEC=34.9935038659&SR=0.0833333333333:100:0: W06: Invalid UCD 'phot.mag;em.opt;stat.stdev': Primary word 'stat.stdev' is not valid as a secondary word [astropy.io.votable.exceptions]\n",
      "WARNING: W06: http://gsss.stsci.edu/webservices/vo/CatalogSearch.aspx?CAT=PS1V3OBJECTS&RA=333.230479944&DEC=34.9935038659&SR=0.0833333333333:118:0: W06: Invalid UCD 'phot.mag;em.opt;stat.stdev': Primary word 'stat.stdev' is not valid as a secondary word [astropy.io.votable.exceptions]\n",
      "WARNING: W06: http://gsss.stsci.edu/webservices/vo/CatalogSearch.aspx?CAT=PS1V3OBJECTS&RA=333.230479944&DEC=34.9935038659&SR=0.0833333333333:136:0: W06: Invalid UCD 'phot.mag;em.opt;stat.stdev': Primary word 'stat.stdev' is not valid as a secondary word [astropy.io.votable.exceptions]\n",
      "WARNING: W06: http://gsss.stsci.edu/webservices/vo/CatalogSearch.aspx?CAT=PS1V3OBJECTS&RA=333.230479944&DEC=34.9935038659&SR=0.0833333333333:154:0: W06: Invalid UCD 'phot.mag;em.opt;stat.stdev': Primary word 'stat.stdev' is not valid as a secondary word [astropy.io.votable.exceptions]\n",
      "WARNING: W06: http://gsss.stsci.edu/webservices/vo/CatalogSearch.aspx?CAT=PS1V3OBJECTS&RA=333.230479944&DEC=34.9935038659&SR=0.0833333333333:172:0: W06: Invalid UCD 'phot.mag;em.opt;stat.stdev': Primary word 'stat.stdev' is not valid as a secondary word [astropy.io.votable.exceptions]\n",
      "WARNING: W06: http://gsss.stsci.edu/webservices/vo/CatalogSearch.aspx?CAT=PS1V3OBJECTS&RA=333.230479944&DEC=34.9935038659&SR=0.0833333333333:184:0: W06: Invalid UCD 'phot.mag;em.opt;stat.stdev': Primary word 'stat.stdev' is not valid as a secondary word [astropy.io.votable.exceptions]\n",
      "WARNING: W06: http://gsss.stsci.edu/webservices/vo/CatalogSearch.aspx?CAT=PS1V3OBJECTS&RA=333.230479944&DEC=34.9935038659&SR=0.0833333333333:187:0: W06: Invalid UCD 'phot.mag;em.opt;;meta.main': Invalid word '' [astropy.io.votable.exceptions]\n",
      "WARNING: W06: http://gsss.stsci.edu/webservices/vo/CatalogSearch.aspx?CAT=PS1V3OBJECTS&RA=333.230479944&DEC=34.9935038659&SR=0.0833333333333:196:0: W06: Invalid UCD 'phot.mag;em.opt;stat.stdev': Primary word 'stat.stdev' is not valid as a secondary word [astropy.io.votable.exceptions]\n",
      "WARNING: W06: http://gsss.stsci.edu/webservices/vo/CatalogSearch.aspx?CAT=PS1V3OBJECTS&RA=333.230479944&DEC=34.9935038659&SR=0.0833333333333:208:0: W06: Invalid UCD 'phot.mag;em.opt;stat.stdev': Primary word 'stat.stdev' is not valid as a secondary word [astropy.io.votable.exceptions]\n",
      "WARNING: W06: http://gsss.stsci.edu/webservices/vo/CatalogSearch.aspx?CAT=PS1V3OBJECTS&RA=333.230479944&DEC=34.9935038659&SR=0.0833333333333:220:0: W06: Invalid UCD 'phot.mag;em.opt;stat.stdev': Primary word 'stat.stdev' is not valid as a secondary word (suppressing further warnings of this type...) [astropy.io.votable.exceptions]\n",
      "WARNING: W48: http://gsss.stsci.edu/webservices/vo/CatalogSearch.aspx?CAT=PS1V3OBJECTS&RA=333.230479944&DEC=34.9935038659&SR=0.0833333333333:302:0: W48: Unknown attribute 'nrows' on TABLEDATA [astropy.io.votable.exceptions]\n"
     ]
    },
    {
     "name": "stdout",
     "output_type": "stream",
     "text": [
      "Downloading http://gsss.stsci.edu/webservices/vo/CatalogSearch.aspx?CAT=PS1V3OBJECTS&RA=335.135619012&DEC=36.1059338368&SR=0.0833333333333 [Done]\n"
     ]
    },
    {
     "name": "stderr",
     "output_type": "stream",
     "text": [
      "WARNING: W06: http://gsss.stsci.edu/webservices/vo/CatalogSearch.aspx?CAT=PS1V3OBJECTS&RA=335.135619012&DEC=36.1059338368&SR=0.0833333333333:100:0: W06: Invalid UCD 'phot.mag;em.opt;stat.stdev': Primary word 'stat.stdev' is not valid as a secondary word [astropy.io.votable.exceptions]\n",
      "WARNING: W06: http://gsss.stsci.edu/webservices/vo/CatalogSearch.aspx?CAT=PS1V3OBJECTS&RA=335.135619012&DEC=36.1059338368&SR=0.0833333333333:118:0: W06: Invalid UCD 'phot.mag;em.opt;stat.stdev': Primary word 'stat.stdev' is not valid as a secondary word [astropy.io.votable.exceptions]\n",
      "WARNING: W06: http://gsss.stsci.edu/webservices/vo/CatalogSearch.aspx?CAT=PS1V3OBJECTS&RA=335.135619012&DEC=36.1059338368&SR=0.0833333333333:136:0: W06: Invalid UCD 'phot.mag;em.opt;stat.stdev': Primary word 'stat.stdev' is not valid as a secondary word [astropy.io.votable.exceptions]\n",
      "WARNING: W06: http://gsss.stsci.edu/webservices/vo/CatalogSearch.aspx?CAT=PS1V3OBJECTS&RA=335.135619012&DEC=36.1059338368&SR=0.0833333333333:154:0: W06: Invalid UCD 'phot.mag;em.opt;stat.stdev': Primary word 'stat.stdev' is not valid as a secondary word [astropy.io.votable.exceptions]\n",
      "WARNING: W06: http://gsss.stsci.edu/webservices/vo/CatalogSearch.aspx?CAT=PS1V3OBJECTS&RA=335.135619012&DEC=36.1059338368&SR=0.0833333333333:172:0: W06: Invalid UCD 'phot.mag;em.opt;stat.stdev': Primary word 'stat.stdev' is not valid as a secondary word [astropy.io.votable.exceptions]\n",
      "WARNING: W06: http://gsss.stsci.edu/webservices/vo/CatalogSearch.aspx?CAT=PS1V3OBJECTS&RA=335.135619012&DEC=36.1059338368&SR=0.0833333333333:184:0: W06: Invalid UCD 'phot.mag;em.opt;stat.stdev': Primary word 'stat.stdev' is not valid as a secondary word [astropy.io.votable.exceptions]\n",
      "WARNING: W06: http://gsss.stsci.edu/webservices/vo/CatalogSearch.aspx?CAT=PS1V3OBJECTS&RA=335.135619012&DEC=36.1059338368&SR=0.0833333333333:187:0: W06: Invalid UCD 'phot.mag;em.opt;;meta.main': Invalid word '' [astropy.io.votable.exceptions]\n",
      "WARNING: W06: http://gsss.stsci.edu/webservices/vo/CatalogSearch.aspx?CAT=PS1V3OBJECTS&RA=335.135619012&DEC=36.1059338368&SR=0.0833333333333:196:0: W06: Invalid UCD 'phot.mag;em.opt;stat.stdev': Primary word 'stat.stdev' is not valid as a secondary word [astropy.io.votable.exceptions]\n",
      "WARNING: W06: http://gsss.stsci.edu/webservices/vo/CatalogSearch.aspx?CAT=PS1V3OBJECTS&RA=335.135619012&DEC=36.1059338368&SR=0.0833333333333:208:0: W06: Invalid UCD 'phot.mag;em.opt;stat.stdev': Primary word 'stat.stdev' is not valid as a secondary word [astropy.io.votable.exceptions]\n",
      "WARNING: W06: http://gsss.stsci.edu/webservices/vo/CatalogSearch.aspx?CAT=PS1V3OBJECTS&RA=335.135619012&DEC=36.1059338368&SR=0.0833333333333:220:0: W06: Invalid UCD 'phot.mag;em.opt;stat.stdev': Primary word 'stat.stdev' is not valid as a secondary word (suppressing further warnings of this type...) [astropy.io.votable.exceptions]\n",
      "WARNING: W48: http://gsss.stsci.edu/webservices/vo/CatalogSearch.aspx?CAT=PS1V3OBJECTS&RA=335.135619012&DEC=36.1059338368&SR=0.0833333333333:302:0: W48: Unknown attribute 'nrows' on TABLEDATA [astropy.io.votable.exceptions]\n"
     ]
    },
    {
     "name": "stdout",
     "output_type": "stream",
     "text": [
      "23 3403435.022\n",
      "Downloading http://gsss.stsci.edu/webservices/vo/CatalogSearch.aspx?CAT=PS1V3OBJECTS&RA=341.26512&DEC=35.060347&SR=0.0833333333333 [Done]\n"
     ]
    },
    {
     "name": "stderr",
     "output_type": "stream",
     "text": [
      "WARNING: W06: http://gsss.stsci.edu/webservices/vo/CatalogSearch.aspx?CAT=PS1V3OBJECTS&RA=341.26512&DEC=35.060347&SR=0.0833333333333:100:0: W06: Invalid UCD 'phot.mag;em.opt;stat.stdev': Primary word 'stat.stdev' is not valid as a secondary word [astropy.io.votable.exceptions]\n",
      "WARNING: W06: http://gsss.stsci.edu/webservices/vo/CatalogSearch.aspx?CAT=PS1V3OBJECTS&RA=341.26512&DEC=35.060347&SR=0.0833333333333:118:0: W06: Invalid UCD 'phot.mag;em.opt;stat.stdev': Primary word 'stat.stdev' is not valid as a secondary word [astropy.io.votable.exceptions]\n",
      "WARNING: W06: http://gsss.stsci.edu/webservices/vo/CatalogSearch.aspx?CAT=PS1V3OBJECTS&RA=341.26512&DEC=35.060347&SR=0.0833333333333:136:0: W06: Invalid UCD 'phot.mag;em.opt;stat.stdev': Primary word 'stat.stdev' is not valid as a secondary word [astropy.io.votable.exceptions]\n",
      "WARNING: W06: http://gsss.stsci.edu/webservices/vo/CatalogSearch.aspx?CAT=PS1V3OBJECTS&RA=341.26512&DEC=35.060347&SR=0.0833333333333:154:0: W06: Invalid UCD 'phot.mag;em.opt;stat.stdev': Primary word 'stat.stdev' is not valid as a secondary word [astropy.io.votable.exceptions]\n",
      "WARNING: W06: http://gsss.stsci.edu/webservices/vo/CatalogSearch.aspx?CAT=PS1V3OBJECTS&RA=341.26512&DEC=35.060347&SR=0.0833333333333:172:0: W06: Invalid UCD 'phot.mag;em.opt;stat.stdev': Primary word 'stat.stdev' is not valid as a secondary word [astropy.io.votable.exceptions]\n",
      "WARNING: W06: http://gsss.stsci.edu/webservices/vo/CatalogSearch.aspx?CAT=PS1V3OBJECTS&RA=341.26512&DEC=35.060347&SR=0.0833333333333:184:0: W06: Invalid UCD 'phot.mag;em.opt;stat.stdev': Primary word 'stat.stdev' is not valid as a secondary word [astropy.io.votable.exceptions]\n",
      "WARNING: W06: http://gsss.stsci.edu/webservices/vo/CatalogSearch.aspx?CAT=PS1V3OBJECTS&RA=341.26512&DEC=35.060347&SR=0.0833333333333:187:0: W06: Invalid UCD 'phot.mag;em.opt;;meta.main': Invalid word '' [astropy.io.votable.exceptions]\n",
      "WARNING: W06: http://gsss.stsci.edu/webservices/vo/CatalogSearch.aspx?CAT=PS1V3OBJECTS&RA=341.26512&DEC=35.060347&SR=0.0833333333333:196:0: W06: Invalid UCD 'phot.mag;em.opt;stat.stdev': Primary word 'stat.stdev' is not valid as a secondary word [astropy.io.votable.exceptions]\n",
      "WARNING: W06: http://gsss.stsci.edu/webservices/vo/CatalogSearch.aspx?CAT=PS1V3OBJECTS&RA=341.26512&DEC=35.060347&SR=0.0833333333333:208:0: W06: Invalid UCD 'phot.mag;em.opt;stat.stdev': Primary word 'stat.stdev' is not valid as a secondary word [astropy.io.votable.exceptions]\n",
      "WARNING: W06: http://gsss.stsci.edu/webservices/vo/CatalogSearch.aspx?CAT=PS1V3OBJECTS&RA=341.26512&DEC=35.060347&SR=0.0833333333333:220:0: W06: Invalid UCD 'phot.mag;em.opt;stat.stdev': Primary word 'stat.stdev' is not valid as a secondary word (suppressing further warnings of this type...) [astropy.io.votable.exceptions]\n",
      "WARNING: W48: http://gsss.stsci.edu/webservices/vo/CatalogSearch.aspx?CAT=PS1V3OBJECTS&RA=341.26512&DEC=35.060347&SR=0.0833333333333:302:0: W48: Unknown attribute 'nrows' on TABLEDATA [astropy.io.votable.exceptions]\n"
     ]
    },
    {
     "name": "stdout",
     "output_type": "stream",
     "text": [
      "Downloading http://gsss.stsci.edu/webservices/vo/CatalogSearch.aspx?CAT=PS1V3OBJECTS&RA=340.284565949&DEC=34.5876002747&SR=0.0833333333333 [Done]\n"
     ]
    },
    {
     "name": "stderr",
     "output_type": "stream",
     "text": [
      "WARNING: W06: http://gsss.stsci.edu/webservices/vo/CatalogSearch.aspx?CAT=PS1V3OBJECTS&RA=340.284565949&DEC=34.5876002747&SR=0.0833333333333:100:0: W06: Invalid UCD 'phot.mag;em.opt;stat.stdev': Primary word 'stat.stdev' is not valid as a secondary word [astropy.io.votable.exceptions]\n",
      "WARNING: W06: http://gsss.stsci.edu/webservices/vo/CatalogSearch.aspx?CAT=PS1V3OBJECTS&RA=340.284565949&DEC=34.5876002747&SR=0.0833333333333:118:0: W06: Invalid UCD 'phot.mag;em.opt;stat.stdev': Primary word 'stat.stdev' is not valid as a secondary word [astropy.io.votable.exceptions]\n",
      "WARNING: W06: http://gsss.stsci.edu/webservices/vo/CatalogSearch.aspx?CAT=PS1V3OBJECTS&RA=340.284565949&DEC=34.5876002747&SR=0.0833333333333:136:0: W06: Invalid UCD 'phot.mag;em.opt;stat.stdev': Primary word 'stat.stdev' is not valid as a secondary word [astropy.io.votable.exceptions]\n",
      "WARNING: W06: http://gsss.stsci.edu/webservices/vo/CatalogSearch.aspx?CAT=PS1V3OBJECTS&RA=340.284565949&DEC=34.5876002747&SR=0.0833333333333:154:0: W06: Invalid UCD 'phot.mag;em.opt;stat.stdev': Primary word 'stat.stdev' is not valid as a secondary word [astropy.io.votable.exceptions]\n",
      "WARNING: W06: http://gsss.stsci.edu/webservices/vo/CatalogSearch.aspx?CAT=PS1V3OBJECTS&RA=340.284565949&DEC=34.5876002747&SR=0.0833333333333:172:0: W06: Invalid UCD 'phot.mag;em.opt;stat.stdev': Primary word 'stat.stdev' is not valid as a secondary word [astropy.io.votable.exceptions]\n",
      "WARNING: W06: http://gsss.stsci.edu/webservices/vo/CatalogSearch.aspx?CAT=PS1V3OBJECTS&RA=340.284565949&DEC=34.5876002747&SR=0.0833333333333:184:0: W06: Invalid UCD 'phot.mag;em.opt;stat.stdev': Primary word 'stat.stdev' is not valid as a secondary word [astropy.io.votable.exceptions]\n",
      "WARNING: W06: http://gsss.stsci.edu/webservices/vo/CatalogSearch.aspx?CAT=PS1V3OBJECTS&RA=340.284565949&DEC=34.5876002747&SR=0.0833333333333:187:0: W06: Invalid UCD 'phot.mag;em.opt;;meta.main': Invalid word '' [astropy.io.votable.exceptions]\n",
      "WARNING: W06: http://gsss.stsci.edu/webservices/vo/CatalogSearch.aspx?CAT=PS1V3OBJECTS&RA=340.284565949&DEC=34.5876002747&SR=0.0833333333333:196:0: W06: Invalid UCD 'phot.mag;em.opt;stat.stdev': Primary word 'stat.stdev' is not valid as a secondary word [astropy.io.votable.exceptions]\n",
      "WARNING: W06: http://gsss.stsci.edu/webservices/vo/CatalogSearch.aspx?CAT=PS1V3OBJECTS&RA=340.284565949&DEC=34.5876002747&SR=0.0833333333333:208:0: W06: Invalid UCD 'phot.mag;em.opt;stat.stdev': Primary word 'stat.stdev' is not valid as a secondary word [astropy.io.votable.exceptions]\n",
      "WARNING: W06: http://gsss.stsci.edu/webservices/vo/CatalogSearch.aspx?CAT=PS1V3OBJECTS&RA=340.284565949&DEC=34.5876002747&SR=0.0833333333333:220:0: W06: Invalid UCD 'phot.mag;em.opt;stat.stdev': Primary word 'stat.stdev' is not valid as a secondary word (suppressing further warnings of this type...) [astropy.io.votable.exceptions]\n",
      "WARNING: W48: http://gsss.stsci.edu/webservices/vo/CatalogSearch.aspx?CAT=PS1V3OBJECTS&RA=340.284565949&DEC=34.5876002747&SR=0.0833333333333:302:0: W48: Unknown attribute 'nrows' on TABLEDATA [astropy.io.votable.exceptions]\n"
     ]
    },
    {
     "name": "stdout",
     "output_type": "stream",
     "text": [
      "Downloading http://gsss.stsci.edu/webservices/vo/CatalogSearch.aspx?CAT=PS1V3OBJECTS&RA=342.260521257&DEC=35.520021695&SR=0.0833333333333 [Done]\n"
     ]
    },
    {
     "name": "stderr",
     "output_type": "stream",
     "text": [
      "WARNING: W06: http://gsss.stsci.edu/webservices/vo/CatalogSearch.aspx?CAT=PS1V3OBJECTS&RA=342.260521257&DEC=35.520021695&SR=0.0833333333333:100:0: W06: Invalid UCD 'phot.mag;em.opt;stat.stdev': Primary word 'stat.stdev' is not valid as a secondary word [astropy.io.votable.exceptions]\n",
      "WARNING: W06: http://gsss.stsci.edu/webservices/vo/CatalogSearch.aspx?CAT=PS1V3OBJECTS&RA=342.260521257&DEC=35.520021695&SR=0.0833333333333:118:0: W06: Invalid UCD 'phot.mag;em.opt;stat.stdev': Primary word 'stat.stdev' is not valid as a secondary word [astropy.io.votable.exceptions]\n",
      "WARNING: W06: http://gsss.stsci.edu/webservices/vo/CatalogSearch.aspx?CAT=PS1V3OBJECTS&RA=342.260521257&DEC=35.520021695&SR=0.0833333333333:136:0: W06: Invalid UCD 'phot.mag;em.opt;stat.stdev': Primary word 'stat.stdev' is not valid as a secondary word [astropy.io.votable.exceptions]\n",
      "WARNING: W06: http://gsss.stsci.edu/webservices/vo/CatalogSearch.aspx?CAT=PS1V3OBJECTS&RA=342.260521257&DEC=35.520021695&SR=0.0833333333333:154:0: W06: Invalid UCD 'phot.mag;em.opt;stat.stdev': Primary word 'stat.stdev' is not valid as a secondary word [astropy.io.votable.exceptions]\n",
      "WARNING: W06: http://gsss.stsci.edu/webservices/vo/CatalogSearch.aspx?CAT=PS1V3OBJECTS&RA=342.260521257&DEC=35.520021695&SR=0.0833333333333:172:0: W06: Invalid UCD 'phot.mag;em.opt;stat.stdev': Primary word 'stat.stdev' is not valid as a secondary word [astropy.io.votable.exceptions]\n",
      "WARNING: W06: http://gsss.stsci.edu/webservices/vo/CatalogSearch.aspx?CAT=PS1V3OBJECTS&RA=342.260521257&DEC=35.520021695&SR=0.0833333333333:184:0: W06: Invalid UCD 'phot.mag;em.opt;stat.stdev': Primary word 'stat.stdev' is not valid as a secondary word [astropy.io.votable.exceptions]\n",
      "WARNING: W06: http://gsss.stsci.edu/webservices/vo/CatalogSearch.aspx?CAT=PS1V3OBJECTS&RA=342.260521257&DEC=35.520021695&SR=0.0833333333333:187:0: W06: Invalid UCD 'phot.mag;em.opt;;meta.main': Invalid word '' [astropy.io.votable.exceptions]\n",
      "WARNING: W06: http://gsss.stsci.edu/webservices/vo/CatalogSearch.aspx?CAT=PS1V3OBJECTS&RA=342.260521257&DEC=35.520021695&SR=0.0833333333333:196:0: W06: Invalid UCD 'phot.mag;em.opt;stat.stdev': Primary word 'stat.stdev' is not valid as a secondary word [astropy.io.votable.exceptions]\n",
      "WARNING: W06: http://gsss.stsci.edu/webservices/vo/CatalogSearch.aspx?CAT=PS1V3OBJECTS&RA=342.260521257&DEC=35.520021695&SR=0.0833333333333:208:0: W06: Invalid UCD 'phot.mag;em.opt;stat.stdev': Primary word 'stat.stdev' is not valid as a secondary word [astropy.io.votable.exceptions]\n",
      "WARNING: W06: http://gsss.stsci.edu/webservices/vo/CatalogSearch.aspx?CAT=PS1V3OBJECTS&RA=342.260521257&DEC=35.520021695&SR=0.0833333333333:220:0: W06: Invalid UCD 'phot.mag;em.opt;stat.stdev': Primary word 'stat.stdev' is not valid as a secondary word (suppressing further warnings of this type...) [astropy.io.votable.exceptions]\n",
      "WARNING: W48: http://gsss.stsci.edu/webservices/vo/CatalogSearch.aspx?CAT=PS1V3OBJECTS&RA=342.260521257&DEC=35.520021695&SR=0.0833333333333:302:0: W48: Unknown attribute 'nrows' on TABLEDATA [astropy.io.votable.exceptions]\n"
     ]
    },
    {
     "data": {
      "image/png": "[encoded data removed]",
      "text/plain": [
       "<matplotlib.figure.Figure at 0x1198e0c10>"
      ]
     },
     "metadata": {},
     "output_type": "display_data"
    }
   ],
   "source": [
    "# make CMDs (r vs g=i) for all candidates\n",
    "# use a VO cone search to get coords and mags of nearby sources\n",
    "for i in range(len(candidates)):\n",
    "    print(i,str(candidates['# id'][i]))\n",
    "    url = url_templ.format(ra=source_radecs[i].ra.deg, \n",
    "                           dec=source_radecs[i].dec.deg,\n",
    "                           rad=search_radius)\n",
    "    lt_url = url_templ.format(ra=lt_radecs[i].ra.deg, \n",
    "                              dec=lt_radecs[i].dec.deg,\n",
    "                              rad=search_radius)    \n",
    "    gt_url = url_templ.format(ra=gt_radecs[i].ra.deg, \n",
    "                              dec=gt_radecs[i].dec.deg,\n",
    "                              rad=search_radius)\n",
    "    # download VO table\n",
    "    tab = votable.parse_single_table(url).to_table()\n",
    "    lt_tab = votable.parse_single_table(lt_url).to_table()\n",
    "    gt_tab = votable.parse_single_table(gt_url).to_table() \n",
    "    \n",
    "    # minor editing to create 'distance' field\n",
    "    tab['ra'] = tab['RAmean']\n",
    "    tab['dec'] = tab['DECmean']\n",
    "    lt_tab['ra'] = lt_tab['RAmean']\n",
    "    lt_tab['dec'] = lt_tab['DECmean']\n",
    "    gt_tab['ra'] = gt_tab['RAmean']\n",
    "    gt_tab['dec'] = gt_tab['DECmean']\n",
    "    \n",
    "    sc = SkyCoord.guess_from_table(tab,unit=u.deg)\n",
    "    lt_sc = SkyCoord.guess_from_table(lt_tab,unit=u.deg)\n",
    "    gt_sc = SkyCoord.guess_from_table(gt_tab,unit=u.deg)\n",
    "\n",
    "    tab['dist'] = source_radecs[i].separation(sc).to(u.arcmin)\n",
    "    lt_tab['dist'] = lt_radecs[i].separation(lt_sc).to(u.arcmin)\n",
    "    gt_tab['dist'] = gt_radecs[i].separation(gt_sc).to(u.arcmin)\n",
    "\n",
    "    # separate stars from galaxies (https://confluence.stsci.edu/display/PANSTARRS/How+to+separate+stars+and+galaxies)\n",
    "    star_tab = tab[tab['iMeanPSFMag']-tab['iMeanKronMag'] < 0.05]\n",
    "    star_tab_lt = lt_tab[lt_tab['iMeanPSFMag']-lt_tab['iMeanKronMag'] < 0.05]\n",
    "    star_tab_gt = gt_tab[gt_tab['iMeanPSFMag']-gt_tab['iMeanKronMag'] < 0.05]\n",
    "    \n",
    "    # make CMDs\n",
    "    m_tab = star_tab[star_tab['dist']<5]\n",
    "    m_tab = m_tab[m_tab['gMeanPSFMag'] != -999]\n",
    "    color = m_tab['gMeanPSFMag'] - m_tab['iMeanPSFMag']\n",
    "    mag = m_tab['rMeanPSFMag']\n",
    "    pl.clf()\n",
    "    pl.scatter(color, mag, alpha=0.5, s=2)\n",
    "    pl.xlabel('g-i')\n",
    "    pl.ylabel('r')\n",
    "    pl.ylim(24,15)\n",
    "    pl.xlim(-1,4)\n",
    "    pl.savefig('/Users/daniel/Desktop/Candidate_CMDs/'+str(candidates['# id'][i])+'_rVSg-i.pdf')\n",
    "    \n",
    "    lt_m_tab = star_tab_lt[star_tab_lt['dist']<5]\n",
    "    lt_m_tab = lt_m_tab[lt_m_tab['gMeanPSFMag'] != -999]\n",
    "    lt_color = lt_m_tab['gMeanPSFMag'] - lt_m_tab['iMeanPSFMag']\n",
    "    lt_mag = lt_m_tab['rMeanPSFMag']\n",
    "    pl.clf()\n",
    "    pl.scatter(lt_color, lt_mag, alpha=0.5, s=2)\n",
    "    pl.xlabel('g-i')\n",
    "    pl.ylabel('r')\n",
    "    pl.ylim(24,15)\n",
    "    pl.xlim(-1,4)\n",
    "    pl.savefig('/Users/daniel/Desktop/Candidate_CMDs/'+str(candidates['# id'][i])+'_lt_rVSg-i.pdf')\n",
    "    \n",
    "    gt_m_tab = star_tab_gt[star_tab_gt['dist']<5]\n",
    "    gt_m_tab = gt_m_tab[gt_m_tab['gMeanPSFMag'] != -999]\n",
    "    gt_color = gt_m_tab['gMeanPSFMag'] - gt_m_tab['iMeanPSFMag']\n",
    "    gt_mag = gt_m_tab['rMeanPSFMag']\n",
    "    pl.clf()\n",
    "    pl.scatter(gt_color, gt_mag, alpha=0.5, s=2)\n",
    "    pl.xlabel('g-i')\n",
    "    pl.ylabel('r')\n",
    "    pl.ylim(24,15)\n",
    "    pl.xlim(-1,4)\n",
    "    pl.savefig('/Users/daniel/Desktop/Candidate_CMDs/'+str(candidates['# id'][i])+'_gt_rVSg-i.pdf')"
   ]
  },
  {
   "cell_type": "code",
   "execution_count": null,
   "metadata": {},
   "outputs": [],
   "source": []
  }
 ],
 "metadata": {
  "kernelspec": {
   "display_name": "Python [conda root]",
   "language": "python",
   "name": "conda-root-py"
  },
  "language_info": {
   "codemirror_mode": {
    "name": "ipython",
    "version": 2
   },
   "file_extension": ".py",
   "mimetype": "text/x-python",
   "name": "python",
   "nbconvert_exporter": "python",
   "pygments_lexer": "ipython2",
   "version": "2.7.13"
  }
 },
 "nbformat": 4,
 "nbformat_minor": 2
}
